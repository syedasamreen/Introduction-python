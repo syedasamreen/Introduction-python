{
 "cells": [
  {
   "cell_type": "markdown",
   "id": "92249c76",
   "metadata": {},
   "source": [
    "# python functions"
   ]
  },
  {
   "cell_type": "raw",
   "id": "38cd7649",
   "metadata": {},
   "source": [
    "User defined Python function:\n",
    "    \n",
    "you need to perform a task multiple times in a program.\n",
    "And you don’t want to copy the code for that same task all over places.\n",
    "In practice, you use functions to divide a large program into smaller and more manageable parts.\n",
    "The functions will make your program easier to develop, read, test, and maintain.\n",
    "\n",
    "Defining a function\n",
    "def greet():\n",
    "    \"\"\" Display a greeting to users \"\"\"\n",
    "    print('Hi')\n",
    "\n",
    "1) Function definition\n",
    "\n",
    "A function definition starts with the def keyword and the name of the function (greet)\n",
    "\n",
    "Defining a function\n",
    "def greet():\n",
    "    \"\"\" Display a greeting to users \"\"\"\n",
    "    print('Hi')\n",
    "\n",
    "    \n",
    "2) Function body\n",
    "All the indented lines that follow the function definition make up the function’s body\n",
    "   \"\"\" Display a greeting to users \"\"\"\n",
    "    print('Hi')\n",
    "\n",
    "Calling a function\n",
    "\n",
    "greet()"
   ]
  },
  {
   "cell_type": "code",
   "execution_count": 50,
   "id": "fe2c30fd",
   "metadata": {},
   "outputs": [],
   "source": [
    "def greet():\n",
    "    \"\"\" Display a greeting to users \"\"\" #-->doctsring\n",
    "    print('Hi')"
   ]
  },
  {
   "cell_type": "code",
   "execution_count": 51,
   "id": "e3569bd2",
   "metadata": {},
   "outputs": [
    {
     "name": "stdout",
     "output_type": "stream",
     "text": [
      "Hi\n"
     ]
    }
   ],
   "source": [
    "Parameters, arguments, keyword arguments, default paremets,docs strings."
   ]
  },
  {
   "cell_type": "code",
   "execution_count": 53,
   "id": "83b42203",
   "metadata": {},
   "outputs": [],
   "source": [
    "def message():\n",
    "    print('hello there')"
   ]
  },
  {
   "cell_type": "code",
   "execution_count": 54,
   "id": "3e93963d",
   "metadata": {},
   "outputs": [
    {
     "name": "stdout",
     "output_type": "stream",
     "text": [
      "hello there\n"
     ]
    }
   ],
   "source": [
    "message()"
   ]
  },
  {
   "cell_type": "code",
   "execution_count": null,
   "id": "96838e2c",
   "metadata": {},
   "outputs": [],
   "source": []
  },
  {
   "cell_type": "code",
   "execution_count": null,
   "id": "0b4f14c3",
   "metadata": {},
   "outputs": [],
   "source": []
  },
  {
   "cell_type": "code",
   "execution_count": null,
   "id": "1d27cf28",
   "metadata": {},
   "outputs": [],
   "source": []
  },
  {
   "cell_type": "code",
   "execution_count": 2,
   "id": "818a108c",
   "metadata": {},
   "outputs": [],
   "source": [
    "def greeting():\n",
    "    print(\"Hello good evening\")"
   ]
  },
  {
   "cell_type": "code",
   "execution_count": 3,
   "id": "da529441",
   "metadata": {},
   "outputs": [
    {
     "name": "stdout",
     "output_type": "stream",
     "text": [
      "Hello good evening\n"
     ]
    }
   ],
   "source": [
    "greeting()"
   ]
  },
  {
   "cell_type": "code",
   "execution_count": 55,
   "id": "82195af7",
   "metadata": {},
   "outputs": [],
   "source": [
    "#Passing information to Python functions\n",
    "\n",
    "def greeting(name): # name is parameter.\n",
    "    print(f\"Hello good evening {name}\")"
   ]
  },
  {
   "cell_type": "code",
   "execution_count": 57,
   "id": "d3c656ed",
   "metadata": {},
   "outputs": [
    {
     "name": "stdout",
     "output_type": "stream",
     "text": [
      "Hello good evening sam\n"
     ]
    }
   ],
   "source": [
    "greeting(name = 'sam')"
   ]
  },
  {
   "cell_type": "code",
   "execution_count": 59,
   "id": "49b41586",
   "metadata": {},
   "outputs": [
    {
     "name": "stdout",
     "output_type": "stream",
     "text": [
      "Hello good evening sam\n",
      "None\n"
     ]
    }
   ],
   "source": [
    "mess = greeting('sam')\n",
    "print(mess)"
   ]
  },
  {
   "cell_type": "code",
   "execution_count": null,
   "id": "a9ddff73",
   "metadata": {},
   "outputs": [],
   "source": [
    "Parameters vs. Arguments\n",
    "\n",
    "A parameter is a piece of information that a function needs. And you specify the parameter in the function definition\n",
    "\n",
    "greet() function has a parameter called name\n",
    "\n",
    "An argument is a piece of data that you pass into the function.\n",
    "\n",
    "the text string 'sam' or the variable jane is the function argument"
   ]
  },
  {
   "cell_type": "code",
   "execution_count": 6,
   "id": "1f926487",
   "metadata": {},
   "outputs": [],
   "source": [
    "#Returning a value\n",
    "To return a value from a function, you use the return statement inside the function body.\n"
   ]
  },
  {
   "cell_type": "code",
   "execution_count": 60,
   "id": "2cf28e8f",
   "metadata": {},
   "outputs": [],
   "source": [
    "def greeting(name):\n",
    "    return f\"Hi {name}\""
   ]
  },
  {
   "cell_type": "code",
   "execution_count": 62,
   "id": "2e24b312",
   "metadata": {},
   "outputs": [],
   "source": [
    "def add(a,b):\n",
    "    return a+b"
   ]
  },
  {
   "cell_type": "code",
   "execution_count": 65,
   "id": "a641b224",
   "metadata": {},
   "outputs": [
    {
     "data": {
      "text/plain": [
       "25"
      ]
     },
     "execution_count": 65,
     "metadata": {},
     "output_type": "execute_result"
    }
   ],
   "source": [
    "add(b = 10,a = 15)"
   ]
  },
  {
   "cell_type": "code",
   "execution_count": null,
   "id": "e16dec49",
   "metadata": {},
   "outputs": [],
   "source": [
    "Print() --> function, return is keyword."
   ]
  },
  {
   "cell_type": "code",
   "execution_count": 61,
   "id": "437b7cbb",
   "metadata": {},
   "outputs": [
    {
     "data": {
      "text/plain": [
       "'Hi lilly'"
      ]
     },
     "execution_count": 61,
     "metadata": {},
     "output_type": "execute_result"
    }
   ],
   "source": [
    "greeting(name = 'lilly')"
   ]
  },
  {
   "cell_type": "code",
   "execution_count": null,
   "id": "3b2362d7",
   "metadata": {},
   "outputs": [],
   "source": [
    " functions with multiple parameters\n",
    "\n",
    "def sum(a, b):\n",
    "    return a + b"
   ]
  },
  {
   "cell_type": "code",
   "execution_count": null,
   "id": "37218e05",
   "metadata": {},
   "outputs": [],
   "source": [
    "defualt parameters -- > \n",
    "print()"
   ]
  },
  {
   "cell_type": "code",
   "execution_count": 73,
   "id": "3fa7828c",
   "metadata": {},
   "outputs": [],
   "source": [
    "def sum(a, b, c = 2):\n",
    "    return a + b + c"
   ]
  },
  {
   "cell_type": "code",
   "execution_count": 76,
   "id": "e5e1ca01",
   "metadata": {},
   "outputs": [
    {
     "data": {
      "text/plain": [
       "12"
      ]
     },
     "execution_count": 76,
     "metadata": {},
     "output_type": "execute_result"
    }
   ],
   "source": [
    "sum(2,4,6)"
   ]
  },
  {
   "cell_type": "markdown",
   "id": "3b1cfcd5",
   "metadata": {},
   "source": [
    "Python default parameters"
   ]
  },
  {
   "cell_type": "code",
   "execution_count": null,
   "id": "1689cc38",
   "metadata": {},
   "outputs": [],
   "source": [
    "def function_name(param1, param2=value2, param3=value3, ...):"
   ]
  },
  {
   "cell_type": "code",
   "execution_count": 71,
   "id": "658943b8",
   "metadata": {},
   "outputs": [],
   "source": [
    "def greet(name, message='Hi'):\n",
    "    return f\"{message} {name}\""
   ]
  },
  {
   "cell_type": "code",
   "execution_count": 72,
   "id": "02caedcc",
   "metadata": {},
   "outputs": [
    {
     "data": {
      "text/plain": [
       "'Hi sam'"
      ]
     },
     "execution_count": 72,
     "metadata": {},
     "output_type": "execute_result"
    }
   ],
   "source": [
    "greet('sam')"
   ]
  },
  {
   "cell_type": "markdown",
   "id": "6aa3014c",
   "metadata": {},
   "source": [
    "Python keyword arguments\n",
    "\n",
    "fn(parameter1=value1,parameter2=value2)"
   ]
  },
  {
   "cell_type": "code",
   "execution_count": 81,
   "id": "7d17f18c",
   "metadata": {},
   "outputs": [],
   "source": [
    "def get_net_price(a,b, price, discount):\n",
    "    return a+ price * (1-discount)\n",
    "*args\n",
    "**kwargs"
   ]
  },
  {
   "cell_type": "code",
   "execution_count": 84,
   "id": "e9c53030",
   "metadata": {},
   "outputs": [
    {
     "data": {
      "text/plain": [
       "108.0"
      ]
     },
     "execution_count": 84,
     "metadata": {},
     "output_type": "execute_result"
    }
   ],
   "source": [
    "net_price = get_net_price(a = 10, b = 8, price=100, discount=0.1)\n",
    "net_price"
   ]
  },
  {
   "cell_type": "code",
   "execution_count": 88,
   "id": "acd4be27",
   "metadata": {},
   "outputs": [
    {
     "ename": "TypeError",
     "evalue": "get_net_price() missing 1 required positional argument: 'a'",
     "output_type": "error",
     "traceback": [
      "\u001b[1;31m---------------------------------------------------------------------------\u001b[0m",
      "\u001b[1;31mTypeError\u001b[0m                                 Traceback (most recent call last)",
      "Cell \u001b[1;32mIn[88], line 1\u001b[0m\n\u001b[1;32m----> 1\u001b[0m get_net_price(b \u001b[38;5;241m=\u001b[39m \u001b[38;5;241m10\u001b[39m, price\u001b[38;5;241m=\u001b[39m\u001b[38;5;241m100\u001b[39m, discount\u001b[38;5;241m=\u001b[39m\u001b[38;5;241m0.1\u001b[39m)\n",
      "\u001b[1;31mTypeError\u001b[0m: get_net_price() missing 1 required positional argument: 'a'"
     ]
    }
   ],
   "source": [
    "get_net_price(b = 10, price=100, discount=0.1)"
   ]
  },
  {
   "cell_type": "code",
   "execution_count": 83,
   "id": "2ab3592b",
   "metadata": {},
   "outputs": [
    {
     "ename": "TypeError",
     "evalue": "get_net_price() missing 2 required positional arguments: 'a' and 'b'",
     "output_type": "error",
     "traceback": [
      "\u001b[1;31m---------------------------------------------------------------------------\u001b[0m",
      "\u001b[1;31mTypeError\u001b[0m                                 Traceback (most recent call last)",
      "Cell \u001b[1;32mIn[83], line 1\u001b[0m\n\u001b[1;32m----> 1\u001b[0m get_net_price(price \u001b[38;5;241m=\u001b[39m \u001b[38;5;241m100\u001b[39m,discount\u001b[38;5;241m=\u001b[39m\u001b[38;5;241m0.01\u001b[39m)\n",
      "\u001b[1;31mTypeError\u001b[0m: get_net_price() missing 2 required positional arguments: 'a' and 'b'"
     ]
    }
   ],
   "source": [
    "get_net_price(price = 100,discount=0.01)"
   ]
  },
  {
   "cell_type": "code",
   "execution_count": null,
   "id": "ad923b4d",
   "metadata": {},
   "outputs": [],
   "source": [
    "# keyword arguments and defualt parameters\n",
    "def get_net_price(price, tax=0.07, discount=0.05):\n",
    "    return price * (1 + tax - discount)"
   ]
  },
  {
   "cell_type": "code",
   "execution_count": null,
   "id": "6ea9a939",
   "metadata": {},
   "outputs": [],
   "source": [
    "# create a function wich gives the values for 1-10 eg: num(10) --> \n",
    "# create a function for BMI calculation.\n",
    "# create a function to calculate revenue. hint: take the list of numbers.\n",
    "# create a function to calculate mean, median, mode.\n",
    "# create a fucntion for calculator."
   ]
  },
  {
   "cell_type": "code",
   "execution_count": null,
   "id": "d4e2e560",
   "metadata": {},
   "outputs": [],
   "source": [
    "Quantity = [4,5,6,7,8]\n",
    "price = [40,50,50]\n",
    "Discount = []"
   ]
  },
  {
   "cell_type": "code",
   "execution_count": 91,
   "id": "1c2685c1",
   "metadata": {},
   "outputs": [
    {
     "name": "stderr",
     "output_type": "stream",
     "text": [
      "\n",
      "KeyboardInterrupt\n",
      "\n"
     ]
    }
   ],
   "source": [
    "def pr(n):\n",
    "    for i in range(1,n+1):\n",
    "        return pr(n)\n",
    "pr(20)"
   ]
  },
  {
   "cell_type": "code",
   "execution_count": 93,
   "id": "ac7b7768",
   "metadata": {},
   "outputs": [
    {
     "data": {
      "text/plain": [
       "144179.9"
      ]
     },
     "execution_count": 93,
     "metadata": {},
     "output_type": "execute_result"
    }
   ],
   "source": [
    "quantity=[10,25,96,45,55]\n",
    "price=[100,250,850,550,556]\n",
    "discount=0.1\n",
    "def net_revenue(quantity,price):\n",
    "    netrevenue=0\n",
    "    for i in range(0,len(quantity)):\n",
    "          netrevenue= netrevenue + quantity[i] * price[i]\n",
    "    return netrevenue-discount\n",
    "net_revenue(quantity,price)"
   ]
  },
  {
   "cell_type": "code",
   "execution_count": null,
   "id": "d7bc5855",
   "metadata": {},
   "outputs": [],
   "source": [
    "--> positional argument, keyword argument,defualt parameters"
   ]
  },
  {
   "cell_type": "markdown",
   "id": "95c9cb9e",
   "metadata": {},
   "source": [
    "# Python Recursive Functions"
   ]
  },
  {
   "cell_type": "code",
   "execution_count": null,
   "id": "0ee3ce10",
   "metadata": {},
   "outputs": [],
   "source": [
    "A recursive function is a function that calls itself until it doesn’t.\n",
    "def fn():\n",
    "    # ...\n",
    "    if condition:\n",
    "        # stop calling itself\n",
    "    else:\n",
    "        fn()\n",
    "    # ...\n"
   ]
  },
  {
   "cell_type": "code",
   "execution_count": 94,
   "id": "0b939dfd",
   "metadata": {},
   "outputs": [
    {
     "name": "stdout",
     "output_type": "stream",
     "text": [
      "5\n",
      "4\n",
      "3\n",
      "2\n",
      "1\n"
     ]
    }
   ],
   "source": [
    "# using a condition\n",
    "def count_down(start):\n",
    "    \"\"\" Count down from a number  \"\"\"\n",
    "    print(start)\n",
    "\n",
    "    # call the count_down if the next\n",
    "    # number is greater than 0\n",
    "    next = start - 1\n",
    "    if next > 0:\n",
    "        count_down(next)\n",
    "\n",
    "\n",
    "count_down(5)"
   ]
  },
  {
   "cell_type": "code",
   "execution_count": null,
   "id": "7363e122",
   "metadata": {},
   "outputs": [],
   "source": []
  },
  {
   "cell_type": "code",
   "execution_count": 95,
   "id": "09c2b6cc",
   "metadata": {},
   "outputs": [
    {
     "name": "stdout",
     "output_type": "stream",
     "text": [
      "1275\n"
     ]
    }
   ],
   "source": [
    "# using loop\n",
    "def sum(n):\n",
    "    total = 0\n",
    "    for index in range(n+1):\n",
    "        total += index\n",
    "\n",
    "    return total\n",
    "\n",
    "\n",
    "result = sum(50)\n",
    "print(result)"
   ]
  },
  {
   "cell_type": "code",
   "execution_count": 99,
   "id": "3196decd",
   "metadata": {},
   "outputs": [
    {
     "name": "stdout",
     "output_type": "stream",
     "text": [
      "500500\n"
     ]
    }
   ],
   "source": [
    "def sum(n):\n",
    "    return n + sum(n-1) if n > 0 else 0\n",
    "result = sum(1000)\n",
    "print(result)\n"
   ]
  },
  {
   "cell_type": "code",
   "execution_count": 100,
   "id": "114be057",
   "metadata": {},
   "outputs": [
    {
     "data": {
      "text/plain": [
       "['In',\n",
       " 'Out',\n",
       " '_',\n",
       " '_13',\n",
       " '_18',\n",
       " '_21',\n",
       " '_29',\n",
       " '_31',\n",
       " '_44',\n",
       " '_45',\n",
       " '_49',\n",
       " '_61',\n",
       " '_63',\n",
       " '_64',\n",
       " '_65',\n",
       " '_67',\n",
       " '_68',\n",
       " '_69',\n",
       " '_70',\n",
       " '_72',\n",
       " '_74',\n",
       " '_75',\n",
       " '_76',\n",
       " '_79',\n",
       " '_80',\n",
       " '_84',\n",
       " '_92',\n",
       " '_93',\n",
       " '__',\n",
       " '___',\n",
       " '__builtin__',\n",
       " '__builtins__',\n",
       " '__doc__',\n",
       " '__loader__',\n",
       " '__name__',\n",
       " '__package__',\n",
       " '__spec__',\n",
       " '_dh',\n",
       " '_i',\n",
       " '_i1',\n",
       " '_i10',\n",
       " '_i100',\n",
       " '_i11',\n",
       " '_i12',\n",
       " '_i13',\n",
       " '_i14',\n",
       " '_i15',\n",
       " '_i16',\n",
       " '_i17',\n",
       " '_i18',\n",
       " '_i19',\n",
       " '_i2',\n",
       " '_i20',\n",
       " '_i21',\n",
       " '_i22',\n",
       " '_i23',\n",
       " '_i24',\n",
       " '_i25',\n",
       " '_i26',\n",
       " '_i27',\n",
       " '_i28',\n",
       " '_i29',\n",
       " '_i3',\n",
       " '_i30',\n",
       " '_i31',\n",
       " '_i32',\n",
       " '_i33',\n",
       " '_i34',\n",
       " '_i35',\n",
       " '_i36',\n",
       " '_i37',\n",
       " '_i38',\n",
       " '_i39',\n",
       " '_i4',\n",
       " '_i40',\n",
       " '_i41',\n",
       " '_i42',\n",
       " '_i43',\n",
       " '_i44',\n",
       " '_i45',\n",
       " '_i46',\n",
       " '_i47',\n",
       " '_i48',\n",
       " '_i49',\n",
       " '_i5',\n",
       " '_i50',\n",
       " '_i51',\n",
       " '_i52',\n",
       " '_i53',\n",
       " '_i54',\n",
       " '_i55',\n",
       " '_i56',\n",
       " '_i57',\n",
       " '_i58',\n",
       " '_i59',\n",
       " '_i6',\n",
       " '_i60',\n",
       " '_i61',\n",
       " '_i62',\n",
       " '_i63',\n",
       " '_i64',\n",
       " '_i65',\n",
       " '_i66',\n",
       " '_i67',\n",
       " '_i68',\n",
       " '_i69',\n",
       " '_i7',\n",
       " '_i70',\n",
       " '_i71',\n",
       " '_i72',\n",
       " '_i73',\n",
       " '_i74',\n",
       " '_i75',\n",
       " '_i76',\n",
       " '_i77',\n",
       " '_i78',\n",
       " '_i79',\n",
       " '_i8',\n",
       " '_i80',\n",
       " '_i81',\n",
       " '_i82',\n",
       " '_i83',\n",
       " '_i84',\n",
       " '_i85',\n",
       " '_i86',\n",
       " '_i87',\n",
       " '_i88',\n",
       " '_i89',\n",
       " '_i9',\n",
       " '_i90',\n",
       " '_i91',\n",
       " '_i92',\n",
       " '_i93',\n",
       " '_i94',\n",
       " '_i95',\n",
       " '_i96',\n",
       " '_i97',\n",
       " '_i98',\n",
       " '_i99',\n",
       " '_ih',\n",
       " '_ii',\n",
       " '_iii',\n",
       " '_oh',\n",
       " 'add',\n",
       " 'connect',\n",
       " 'count_down',\n",
       " 'discount',\n",
       " 'exit',\n",
       " 'get_ipython',\n",
       " 'get_net_price',\n",
       " 'greet',\n",
       " 'greeting',\n",
       " 'mess',\n",
       " 'message',\n",
       " 'net_price',\n",
       " 'net_revenue',\n",
       " 'open',\n",
       " 'os',\n",
       " 'pr',\n",
       " 'price',\n",
       " 'quantity',\n",
       " 'quit',\n",
       " 'result',\n",
       " 's',\n",
       " 'sum',\n",
       " 't',\n",
       " 'times',\n",
       " 'total',\n",
       " 'x',\n",
       " 'y',\n",
       " 'z']"
      ]
     },
     "execution_count": 100,
     "metadata": {},
     "output_type": "execute_result"
    }
   ],
   "source": [
    "dir()"
   ]
  },
  {
   "cell_type": "markdown",
   "id": "e97323ab",
   "metadata": {},
   "source": [
    "# Lambda Expressions"
   ]
  },
  {
   "cell_type": "code",
   "execution_count": null,
   "id": "c903b650",
   "metadata": {},
   "outputs": [],
   "source": [
    "Python lambda expressions allow you to define anonymous functions.\n",
    "\n",
    "lambda parameters: expression\n",
    "\n",
    "similar\n",
    "def anonymous(parameters):\n",
    "    return expression"
   ]
  },
  {
   "cell_type": "code",
   "execution_count": 103,
   "id": "baf3f1c4",
   "metadata": {},
   "outputs": [],
   "source": [
    "x = lambda k,j: k ** 2 + j"
   ]
  },
  {
   "cell_type": "code",
   "execution_count": 105,
   "id": "b6616ce6",
   "metadata": {},
   "outputs": [
    {
     "data": {
      "text/plain": [
       "22"
      ]
     },
     "execution_count": 105,
     "metadata": {},
     "output_type": "execute_result"
    }
   ],
   "source": [
    "x(4,6)"
   ]
  },
  {
   "cell_type": "code",
   "execution_count": 113,
   "id": "b0e78214",
   "metadata": {},
   "outputs": [
    {
     "data": {
      "text/plain": [
       "20"
      ]
     },
     "execution_count": 113,
     "metadata": {},
     "output_type": "execute_result"
    }
   ],
   "source": [
    "def times(n):\n",
    "    return lambda x: x * n #5* 2\n",
    "\n",
    "t = times(5)\n",
    "t(4)"
   ]
  },
  {
   "cell_type": "code",
   "execution_count": 3,
   "id": "4cb114d9",
   "metadata": {},
   "outputs": [],
   "source": [
    "n = 4\n",
    "t = lambda x: x * n"
   ]
  },
  {
   "cell_type": "code",
   "execution_count": 4,
   "id": "9872ea45",
   "metadata": {},
   "outputs": [
    {
     "data": {
      "text/plain": [
       "20"
      ]
     },
     "execution_count": 4,
     "metadata": {},
     "output_type": "execute_result"
    }
   ],
   "source": [
    "t(5)"
   ]
  },
  {
   "cell_type": "code",
   "execution_count": 24,
   "id": "bf1c5d2f",
   "metadata": {},
   "outputs": [
    {
     "name": "stdout",
     "output_type": "stream",
     "text": [
      "10\n"
     ]
    }
   ],
   "source": [
    "s = lambda x: x*2\n",
    "print(s(5))"
   ]
  },
  {
   "cell_type": "code",
   "execution_count": 108,
   "id": "c431fe3c",
   "metadata": {},
   "outputs": [
    {
     "name": "stdout",
     "output_type": "stream",
     "text": [
      "35\n"
     ]
    }
   ],
   "source": [
    "prod = lambda a, b : a * b\n",
    "print(prod(5, 7))"
   ]
  },
  {
   "cell_type": "code",
   "execution_count": 27,
   "id": "7cd650ea",
   "metadata": {},
   "outputs": [
    {
     "name": "stdout",
     "output_type": "stream",
     "text": [
      "13\n"
     ]
    }
   ],
   "source": [
    "y = lambda a, b, c : a + b + c\n",
    "print(y(5, 6, 2))"
   ]
  },
  {
   "cell_type": "code",
   "execution_count": 28,
   "id": "f01e299f",
   "metadata": {},
   "outputs": [
    {
     "name": "stdout",
     "output_type": "stream",
     "text": [
      "Help on built-in function print in module builtins:\n",
      "\n",
      "print(*args, sep=' ', end='\\n', file=None, flush=False)\n",
      "    Prints the values to a stream, or to sys.stdout by default.\n",
      "    \n",
      "    sep\n",
      "      string inserted between values, default a space.\n",
      "    end\n",
      "      string appended after the last value, default a newline.\n",
      "    file\n",
      "      a file-like object (stream); defaults to the current sys.stdout.\n",
      "    flush\n",
      "      whether to forcibly flush the stream.\n",
      "\n"
     ]
    }
   ],
   "source": [
    "#the help() function\n",
    "\n",
    "help(print)"
   ]
  },
  {
   "cell_type": "code",
   "execution_count": 114,
   "id": "08e6ff30",
   "metadata": {},
   "outputs": [
    {
     "name": "stdout",
     "output_type": "stream",
     "text": [
      "Help on built-in function print in module builtins:\n",
      "\n",
      "print(*args, sep=' ', end='\\n', file=None, flush=False)\n",
      "    Prints the values to a stream, or to sys.stdout by default.\n",
      "    \n",
      "    sep\n",
      "      string inserted between values, default a space.\n",
      "    end\n",
      "      string appended after the last value, default a newline.\n",
      "    file\n",
      "      a file-like object (stream); defaults to the current sys.stdout.\n",
      "    flush\n",
      "      whether to forcibly flush the stream.\n",
      "\n"
     ]
    }
   ],
   "source": [
    "help(print)"
   ]
  },
  {
   "cell_type": "code",
   "execution_count": 118,
   "id": "30526a06",
   "metadata": {},
   "outputs": [
    {
     "name": "stdout",
     "output_type": "stream",
     "text": [
      "Help on function add in module __main__:\n",
      "\n",
      "add(a, b)\n",
      "    Return the sum of two arguments\n",
      "\n"
     ]
    }
   ],
   "source": [
    "# Using docstrings to document functions\n",
    "# The PEP 257 provides the docstring conventions.\n",
    "# Python stores the docstrings in the __doc__ property of the function.\n",
    "\n",
    "def add(a, b):\n",
    "    \"Return the sum of two arguments\"\n",
    "    return a + b\n",
    "help(add)"
   ]
  },
  {
   "cell_type": "code",
   "execution_count": 119,
   "id": "4ea12074",
   "metadata": {},
   "outputs": [
    {
     "data": {
      "text/plain": [
       "' Add two arguments\\n    Arguments:\\n        a: an integer\\n        b: an integer\\n    Returns:\\n        The sum of the two arguments\\n    '"
      ]
     },
     "execution_count": 119,
     "metadata": {},
     "output_type": "execute_result"
    }
   ],
   "source": [
    "def add(a, b):\n",
    "    \"\"\" Add two arguments\n",
    "    Arguments:\n",
    "        a: an integer\n",
    "        b: an integer\n",
    "    Returns:\n",
    "        The sum of the two arguments\n",
    "    \"\"\"\n",
    "    return a + b\n",
    "add.__doc__"
   ]
  },
  {
   "cell_type": "code",
   "execution_count": 120,
   "id": "5e0a6e78",
   "metadata": {},
   "outputs": [
    {
     "name": "stdout",
     "output_type": "stream",
     "text": [
      "Help on function add in module __main__:\n",
      "\n",
      "add(a, b)\n",
      "    Add two arguments\n",
      "    Arguments:\n",
      "        a: an integer\n",
      "        b: an integer\n",
      "    Returns:\n",
      "        The sum of the two arguments\n",
      "\n"
     ]
    }
   ],
   "source": [
    "help(add)"
   ]
  },
  {
   "cell_type": "code",
   "execution_count": 122,
   "id": "f70c6e74",
   "metadata": {},
   "outputs": [
    {
     "ename": "SyntaxError",
     "evalue": "cannot assign to literal here. Maybe you meant '==' instead of '='? (2449269404.py, line 4)",
     "output_type": "error",
     "traceback": [
      "\u001b[1;36m  Cell \u001b[1;32mIn[122], line 4\u001b[1;36m\u001b[0m\n\u001b[1;33m    10,20 = (x,y)\u001b[0m\n\u001b[1;37m       ^\u001b[0m\n\u001b[1;31mSyntaxError\u001b[0m\u001b[1;31m:\u001b[0m cannot assign to literal here. Maybe you meant '==' instead of '='?\n"
     ]
    }
   ],
   "source": [
    "# Python *args\n",
    "#The following unpacks a tuple into two variables:\n",
    "    \n",
    "10,20 = (x,y)"
   ]
  },
  {
   "cell_type": "code",
   "execution_count": 142,
   "id": "9d61858f",
   "metadata": {},
   "outputs": [
    {
     "name": "stdout",
     "output_type": "stream",
     "text": [
      "[30, 30]\n"
     ]
    }
   ],
   "source": [
    "i,j,*k = (10,20,30,30)\n",
    "print(k)"
   ]
  },
  {
   "cell_type": "code",
   "execution_count": 127,
   "id": "3909c8f2",
   "metadata": {},
   "outputs": [
    {
     "data": {
      "text/plain": [
       "30"
      ]
     },
     "execution_count": 127,
     "metadata": {},
     "output_type": "execute_result"
    }
   ],
   "source": [
    "def add(x, y):\n",
    "    return x + y\n",
    "\n",
    "\n",
    "add(10, 20)"
   ]
  },
  {
   "cell_type": "code",
   "execution_count": 131,
   "id": "d362b507",
   "metadata": {},
   "outputs": [
    {
     "name": "stdout",
     "output_type": "stream",
     "text": [
      "10\n",
      "20\n",
      "[30, 40]\n",
      "<class 'list'>\n"
     ]
    }
   ],
   "source": [
    "x, y, *z = 10, 20, 30, 40\n",
    "\n",
    "print(x)\n",
    "print(y)\n",
    "print(z)\n",
    "print(type(z))"
   ]
  },
  {
   "cell_type": "code",
   "execution_count": 144,
   "id": "b5c97e0f",
   "metadata": {},
   "outputs": [
    {
     "name": "stdout",
     "output_type": "stream",
     "text": [
      "180\n"
     ]
    }
   ],
   "source": [
    "\n",
    "def add(x, y, *values,**keypairs):\n",
    "    total = x + y\n",
    "    for arg in args:\n",
    "        total += arg\n",
    "\n",
    "    return total\n",
    "\n",
    "\n",
    "result = add(10, 20, 30, 40,50,10,20)\n",
    "print(result)"
   ]
  },
  {
   "cell_type": "code",
   "execution_count": 33,
   "id": "4d9e318a",
   "metadata": {},
   "outputs": [
    {
     "name": "stdout",
     "output_type": "stream",
     "text": [
      "()\n"
     ]
    }
   ],
   "source": [
    "def add(*args):\n",
    "    print(args)\n",
    "\n",
    "\n",
    "add()"
   ]
  },
  {
   "cell_type": "code",
   "execution_count": 34,
   "id": "cf0a3d77",
   "metadata": {},
   "outputs": [
    {
     "name": "stdout",
     "output_type": "stream",
     "text": [
      "(1, 2, 3)\n"
     ]
    }
   ],
   "source": [
    "def add(*args):\n",
    "    print(args)\n",
    "\n",
    "\n",
    "add(1,2,3)"
   ]
  },
  {
   "cell_type": "code",
   "execution_count": 35,
   "id": "ac263829",
   "metadata": {},
   "outputs": [
    {
     "name": "stdout",
     "output_type": "stream",
     "text": [
      "1\n",
      "2\n",
      "3\n"
     ]
    }
   ],
   "source": [
    "def add(*args):\n",
    "    print(args[0])\n",
    "    print(args[1])\n",
    "    print(args[2])\n",
    "\n",
    "\n",
    "add(1, 2, 3)"
   ]
  },
  {
   "cell_type": "code",
   "execution_count": 145,
   "id": "a232c7c1",
   "metadata": {},
   "outputs": [
    {
     "name": "stdout",
     "output_type": "stream",
     "text": [
      "24\n"
     ]
    }
   ],
   "source": [
    "def add(*args):\n",
    "    total = 0\n",
    "    for arg in args:\n",
    "        total += arg\n",
    "    return total\n",
    "\n",
    "\n",
    "total = add(1, 2, 3,5,6,7)\n",
    "print(total)"
   ]
  },
  {
   "cell_type": "code",
   "execution_count": null,
   "id": "42a28820",
   "metadata": {},
   "outputs": [],
   "source": [
    "Python *args argument exhausts positional arguments"
   ]
  },
  {
   "cell_type": "code",
   "execution_count": 161,
   "id": "1405ac64",
   "metadata": {},
   "outputs": [
    {
     "data": {
      "text/plain": [
       "40"
      ]
     },
     "execution_count": 161,
     "metadata": {},
     "output_type": "execute_result"
    }
   ],
   "source": [
    "def add(x, y,  z,*args):\n",
    "    return x + y + z \n",
    "\n",
    "\n",
    "add(10, 20, 10, 30, 40, 50)\n"
   ]
  },
  {
   "cell_type": "code",
   "execution_count": 158,
   "id": "4ccafc27",
   "metadata": {},
   "outputs": [
    {
     "data": {
      "text/plain": [
       "40"
      ]
     },
     "execution_count": 158,
     "metadata": {},
     "output_type": "execute_result"
    }
   ],
   "source": [
    "def add(x, y,z,*args):\n",
    "    return x + y + z \n",
    "\n",
    "\n",
    "add(10,10,20,30,40)"
   ]
  },
  {
   "cell_type": "code",
   "execution_count": null,
   "id": "dc734d2f",
   "metadata": {},
   "outputs": [],
   "source": [
    "# Python **kwargs parameters\n",
    "The **kwargs is called a keyword parameter."
   ]
  },
  {
   "cell_type": "code",
   "execution_count": 39,
   "id": "19874af2",
   "metadata": {},
   "outputs": [],
   "source": [
    "def connect(**kwargs):\n",
    "    print(type(kwargs))\n",
    "    print(kwargs)"
   ]
  },
  {
   "cell_type": "code",
   "execution_count": 163,
   "id": "3db00364",
   "metadata": {},
   "outputs": [
    {
     "name": "stdout",
     "output_type": "stream",
     "text": [
      "<class 'dict'>\n",
      "{}\n",
      "<class 'dict'>\n",
      "{'one': 10, 'password': 'Sam$12'}\n"
     ]
    }
   ],
   "source": [
    "type(connect())\n",
    "connect(one = 10, password = 'Sam$12')"
   ]
  },
  {
   "cell_type": "code",
   "execution_count": 41,
   "id": "c657c071",
   "metadata": {},
   "outputs": [
    {
     "name": "stdout",
     "output_type": "stream",
     "text": [
      "<class 'dict'>\n",
      "{'server': 'localhost', 'port': 3306, 'user': 'root', 'password': 'Akaksh@123'}\n"
     ]
    }
   ],
   "source": [
    "connect(server='localhost', port=3306, user='root', password='Akaksh@123')"
   ]
  },
  {
   "cell_type": "markdown",
   "id": "92e77c1a",
   "metadata": {},
   "source": [
    "# FILE input/output in python"
   ]
  },
  {
   "cell_type": "code",
   "execution_count": null,
   "id": "74b74559",
   "metadata": {},
   "outputs": [],
   "source": [
    "Python Read Text File\n",
    "1) open() function\n",
    "\n",
    "open(path_to_file, mode)"
   ]
  },
  {
   "cell_type": "code",
   "execution_count": null,
   "id": "de4bc395",
   "metadata": {},
   "outputs": [],
   "source": [
    " f = open('','r')"
   ]
  },
  {
   "cell_type": "code",
   "execution_count": null,
   "id": "f7029f2d",
   "metadata": {},
   "outputs": [],
   "source": [
    "2) Reading text methods\n",
    "The file object provides you with three methods for reading text from a text file:\n",
    "\n",
    "read(size) – read some contents of a file based on the optional size and return the contents as a string. \n",
    "If you omit the size, the read() method reads from where it left off till the end of the file. \n",
    "If the end of a file has been reached, the read() method returns an empty string.\n",
    "\n",
    "readline() – read a single line from a text file and return the line as a string. \n",
    "If the end of a file has been reached, the readline() returns an empty string.\n",
    "\n",
    "readlines() – read all the lines of the text file into a list of strings.\n",
    "This method is useful if you have a small file and you want to manipulate the whole text of that file"
   ]
  },
  {
   "cell_type": "code",
   "execution_count": null,
   "id": "90854650",
   "metadata": {},
   "outputs": [],
   "source": [
    "3) close() method\n",
    "\n",
    "f.close()"
   ]
  },
  {
   "cell_type": "code",
   "execution_count": 43,
   "id": "95e8befa",
   "metadata": {},
   "outputs": [],
   "source": [
    "f = open(r\"C:\\Users\\excel\\OneDrive\\Desktop\\python_intro.txt\",mode = 'r')\n"
   ]
  },
  {
   "cell_type": "code",
   "execution_count": 44,
   "id": "4733ae42",
   "metadata": {},
   "outputs": [
    {
     "data": {
      "text/plain": [
       "['The Python Tutorial\\n',\n",
       " 'Python is an easy to learn, powerful programming language. It has efficient high-level data structures and a simple but effective approach to object-oriented programming. Pythonâ€™s elegant syntax and dynamic typing, together with its interpreted nature, make it an ideal language for scripting and rapid application development in many areas on most platforms.\\n',\n",
       " '\\n',\n",
       " 'The Python interpreter and the extensive standard library are freely available in source or binary form for all major platforms from the Python web site, https://www.python.org/, and may be freely distributed. The same site also contains distributions of and pointers to many free third party Python modules, programs and tools, and additional documentation.\\n',\n",
       " '\\n',\n",
       " 'The Python interpreter is easily extended with new functions and data types implemented in C or C++ (or other languages callable from C). Python is also suitable as an extension language for customizable applications.\\n',\n",
       " '\\n',\n",
       " 'This tutorial introduces the reader informally to the basic concepts and features of the Python language and system. It helps to have a Python interpreter handy for hands-on experience, but all examples are self-contained, so the tutorial can be read off-line as well.\\n',\n",
       " '\\n',\n",
       " 'For a description of standard objects and modules, see The Python Standard Library. The Python Language Reference gives a more formal definition of the language. To write extensions in C or C++, read Extending and Embedding the Python Interpreter and Python/C API Reference Manual. There are also several books covering Python in depth.\\n',\n",
       " '\\n',\n",
       " 'This tutorial does not attempt to be comprehensive and cover every single feature, or even every commonly used feature. Instead, it introduces many of Pythonâ€™s most noteworthy features, and will give you a good idea of the languageâ€™s flavor and style. After reading it, you will be able to read and write Python modules and programs, and you will be ready to learn more about the various Python library modules described in The Python Standard Library.']"
      ]
     },
     "execution_count": 44,
     "metadata": {},
     "output_type": "execute_result"
    }
   ],
   "source": [
    "f.readlines()"
   ]
  },
  {
   "cell_type": "code",
   "execution_count": 45,
   "id": "18a04adf",
   "metadata": {},
   "outputs": [],
   "source": [
    "f = open(r\"C:\\Users\\excel\\OneDrive\\Desktop\\intro_python.txt\",mode = 'r')\n",
    "f.readline()\n",
    "f.close()"
   ]
  },
  {
   "cell_type": "code",
   "execution_count": 49,
   "id": "896dcbca",
   "metadata": {},
   "outputs": [
    {
     "name": "stdout",
     "output_type": "stream",
     "text": [
      "['New to Python?\\n', 'Read BeginnersGuide/Overview for a short explanation of what Python is.\\n', '\\n', 'Getting Python\\n', 'Next, install the Python 3 interpreter on your computer. This is the program that reads Python programs and carries out their instructions; you need it before you can do any Python programming. Mac and Linux distributions may include an outdated version of Python (Python 2), but you should install an updated one (Python 3). See BeginnersGuide/Download for instructions to download the correct version of Python.\\n', '\\n', 'There are also Python interpreter and IDE bundles available, such as Thonny. Other options can be found at IntegratedDevelopmentEnvironments.\\n', '\\n', \"At some stage, you'll want to edit and save your program code. Take a look at HowToEditPythonCode for some advice and recommendations.\\n\", '\\n', 'Learning Python\\n', 'Next, read a tutorial and try some simple experiments with your new Python interpreter.\\n', '\\n', 'If you have never programmed before, see BeginnersGuide/NonProgrammers for a list of suitable tutorials.\\n', '\\n', 'If you have previous programming experience, consult BeginnersGuide/Programmers, which lists more advanced tutorials.\\n', '\\n', \"If English isn't your first language, you might be more comfortable with a tutorial that's been translated into your language. Consult python.org's list of Non-English resources.\\n\", '\\n', 'Most tutorials assume that you know how to run a program on your computer. If you are using Windows and need help with this, see How do I Run a Program Under Windows.\\n', '\\n', 'Some sites offer in-browser coding for those who want to learn Python:\\n', '\\n', '\\n', 'CodÃ©dex\\n', '\\n', 'Codecademy\\n', '\\n', 'Coding Bootcamps\\n', '\\n', 'DataCamp\\n', '\\n', 'Dataquest for Python for data science.\\n', '\\n', 'HackInScience free and open source platform.\\n', '\\n', 'High School Technology Services for general Python\\n', '\\n', 'Python Land: A completely free beginners tutorial with interactive, editable code examples']\n"
     ]
    }
   ],
   "source": [
    "with open(r\"C:\\Users\\excel\\OneDrive\\Desktop\\intro_python.txt\") as f:\n",
    "    contents = f.readlines()\n",
    "print(contents)"
   ]
  },
  {
   "cell_type": "code",
   "execution_count": 48,
   "id": "20973f88",
   "metadata": {},
   "outputs": [
    {
     "ename": "ValueError",
     "evalue": "I/O operation on closed file.",
     "output_type": "error",
     "traceback": [
      "\u001b[1;31m---------------------------------------------------------------------------\u001b[0m",
      "\u001b[1;31mValueError\u001b[0m                                Traceback (most recent call last)",
      "Cell \u001b[1;32mIn[48], line 1\u001b[0m\n\u001b[1;32m----> 1\u001b[0m f\u001b[38;5;241m.\u001b[39mread()\n",
      "\u001b[1;31mValueError\u001b[0m: I/O operation on closed file."
     ]
    }
   ],
   "source": [
    "f.read()"
   ]
  },
  {
   "cell_type": "code",
   "execution_count": null,
   "id": "a0e72071",
   "metadata": {},
   "outputs": [],
   "source": []
  },
  {
   "cell_type": "code",
   "execution_count": null,
   "id": "5ce1929a",
   "metadata": {},
   "outputs": [],
   "source": [
    "To close the file automatically without calling the close() method, you use the with statement like this:\n",
    "    \n",
    "    with open(path_to_file) as f:\n",
    "    contents = f.readlines()"
   ]
  },
  {
   "cell_type": "code",
   "execution_count": null,
   "id": "6ad67a11",
   "metadata": {},
   "outputs": [],
   "source": [
    "Reading a text file examples\n",
    "\n",
    "with open('the-zen-of-python.txt') as f:\n",
    "    contents = f.read()\n",
    "    print(contents)"
   ]
  },
  {
   "cell_type": "code",
   "execution_count": 57,
   "id": "f737dee8",
   "metadata": {},
   "outputs": [
    {
     "name": "stdout",
     "output_type": "stream",
     "text": [
      "New\n",
      "Read\n",
      "\n",
      "\n",
      "Getting\n",
      "Next,\n",
      "\n",
      "\n",
      "There\n",
      "\n",
      "\n",
      "At\n",
      "\n",
      "\n",
      "Learning\n",
      "Next,\n",
      "\n",
      "\n",
      "If\n",
      "\n",
      "\n",
      "If\n",
      "\n",
      "\n",
      "If\n",
      "\n",
      "\n",
      "Most\n",
      "\n",
      "\n",
      "Some\n",
      "\n",
      "\n",
      "\n",
      "\n",
      "CodÃ©dex\n",
      "\n",
      "\n",
      "\n",
      "Codecademy\n",
      "\n",
      "\n",
      "\n",
      "Coding\n",
      "\n",
      "\n",
      "DataCamp\n",
      "\n",
      "\n",
      "\n",
      "Dataquest\n",
      "\n",
      "\n",
      "HackInScience\n",
      "\n",
      "\n",
      "High\n",
      "\n",
      "\n",
      "Python\n"
     ]
    }
   ],
   "source": [
    "with open(\"C:/Users/excel/OneDrive/Desktop/intro_python.txt\") as f:\n",
    "    for line in f.readlines():\n",
    "        line = line.split(' ')\n",
    "        print(line[0])\n",
    "#     [print(line. for line in f.readlines()]"
   ]
  },
  {
   "cell_type": "code",
   "execution_count": 58,
   "id": "5e8a9127",
   "metadata": {},
   "outputs": [
    {
     "name": "stdout",
     "output_type": "stream",
     "text": [
      "New to Python?\n",
      "Read BeginnersGuide/Overview for a short explanation of what Python is.\n",
      "\n",
      "Getting Python\n",
      "Next, install the Python 3 interpreter on your computer. This is the program that reads Python programs and carries out their instructions; you need it before you can do any Python programming. Mac and Linux distributions may include an outdated version of Python (Python 2), but you should install an updated one (Python 3). See BeginnersGuide/Download for instructions to download the correct version of Python.\n",
      "\n",
      "There are also Python interpreter and IDE bundles available, such as Thonny. Other options can be found at IntegratedDevelopmentEnvironments.\n",
      "\n",
      "At some stage, you'll want to edit and save your program code. Take a look at HowToEditPythonCode for some advice and recommendations.\n",
      "\n",
      "Learning Python\n",
      "Next, read a tutorial and try some simple experiments with your new Python interpreter.\n",
      "\n",
      "If you have never programmed before, see BeginnersGuide/NonProgrammers for a list of suitable tutorials.\n",
      "\n",
      "If you have previous programming experience, consult BeginnersGuide/Programmers, which lists more advanced tutorials.\n",
      "\n",
      "If English isn't your first language, you might be more comfortable with a tutorial that's been translated into your language. Consult python.org's list of Non-English resources.\n",
      "\n",
      "Most tutorials assume that you know how to run a program on your computer. If you are using Windows and need help with this, see How do I Run a Program Under Windows.\n",
      "\n",
      "Some sites offer in-browser coding for those who want to learn Python:\n",
      "\n",
      "\n",
      "CodÃ©dex\n",
      "\n",
      "Codecademy\n",
      "\n",
      "Coding Bootcamps\n",
      "\n",
      "DataCamp\n",
      "\n",
      "Dataquest for Python for data science.\n",
      "\n",
      "HackInScience free and open source platform.\n",
      "\n",
      "High School Technology Services for general Python\n",
      "\n",
      "Python Land: A completely free beginners tutorial with interactive, editable code examples\n"
     ]
    }
   ],
   "source": [
    "with open(r\"C:\\Users\\excel\\OneDrive\\Desktop\\intro_python.txt\") as f:\n",
    "    while True:\n",
    "        line = f.readline()\n",
    "        if not line:\n",
    "            break\n",
    "        print(line.strip())"
   ]
  },
  {
   "cell_type": "code",
   "execution_count": null,
   "id": "dcd97b74",
   "metadata": {},
   "outputs": [],
   "source": [
    "with open('the-zen-of-python.txt') as f:\n",
    "    for line in f:\n",
    "        print(line.strip())"
   ]
  },
  {
   "cell_type": "code",
   "execution_count": 60,
   "id": "feb83e1a",
   "metadata": {},
   "outputs": [
    {
     "name": "stdout",
     "output_type": "stream",
     "text": [
      "New to Python?\n",
      "Read BeginnersGuide/Overview for a short explanation of what Python is.\n",
      "\n",
      "Getting Python\n",
      "Next, install the Python 3 interpreter on your computer. This is the program that reads Python programs and carries out their instructions; you need it before you can do any Python programming. Mac and Linux distributions may include an outdated version of Python (Python 2), but you should install an updated one (Python 3). See BeginnersGuide/Download for instructions to download the correct version of Python.\n",
      "\n",
      "There are also Python interpreter and IDE bundles available, such as Thonny. Other options can be found at IntegratedDevelopmentEnvironments.\n",
      "\n",
      "At some stage, you'll want to edit and save your program code. Take a look at HowToEditPythonCode for some advice and recommendations.\n",
      "\n",
      "Learning Python\n",
      "Next, read a tutorial and try some simple experiments with your new Python interpreter.\n",
      "\n",
      "If you have never programmed before, see BeginnersGuide/NonProgrammers for a list of suitable tutorials.\n",
      "\n",
      "If you have previous programming experience, consult BeginnersGuide/Programmers, which lists more advanced tutorials.\n",
      "\n",
      "If English isn't your first language, you might be more comfortable with a tutorial that's been translated into your language. Consult python.org's list of Non-English resources.\n",
      "\n",
      "Most tutorials assume that you know how to run a program on your computer. If you are using Windows and need help with this, see How do I Run a Program Under Windows.\n",
      "\n",
      "Some sites offer in-browser coding for those who want to learn Python:\n",
      "\n",
      "\n",
      "Codédex\n",
      "\n",
      "Codecademy\n",
      "\n",
      "Coding Bootcamps\n",
      "\n",
      "DataCamp\n",
      "\n",
      "Dataquest for Python for data science.\n",
      "\n",
      "HackInScience free and open source platform.\n",
      "\n",
      "High School Technology Services for general Python\n",
      "\n",
      "Python Land: A completely free beginners tutorial with interactive, editable code examples\n"
     ]
    }
   ],
   "source": [
    "with open(r\"C:\\Users\\excel\\OneDrive\\Desktop\\intro_python.txt\", encoding='utf8') as f:\n",
    "    for line in f:\n",
    "        print(line.strip())"
   ]
  },
  {
   "cell_type": "code",
   "execution_count": null,
   "id": "f47e6d8a",
   "metadata": {},
   "outputs": [],
   "source": []
  },
  {
   "cell_type": "code",
   "execution_count": null,
   "id": "e9af5d18",
   "metadata": {},
   "outputs": [],
   "source": []
  },
  {
   "cell_type": "markdown",
   "id": "f9102024",
   "metadata": {},
   "source": [
    "# Python Write Text File"
   ]
  },
  {
   "cell_type": "code",
   "execution_count": null,
   "id": "5c7719eb",
   "metadata": {},
   "outputs": [],
   "source": [
    "\n",
    "\n",
    "f = open(file, mode)\n",
    "\n",
    "f.write('\\n')\n",
    "f.writelines('\\n')"
   ]
  },
  {
   "cell_type": "code",
   "execution_count": 61,
   "id": "ddad4acd",
   "metadata": {},
   "outputs": [
    {
     "data": {
      "text/plain": [
       "'C:\\\\Users\\\\excel\\\\DATA Science'"
      ]
     },
     "execution_count": 61,
     "metadata": {},
     "output_type": "execute_result"
    }
   ],
   "source": [
    "import os\n",
    "os.getcwd()"
   ]
  },
  {
   "cell_type": "code",
   "execution_count": 62,
   "id": "5921a962",
   "metadata": {},
   "outputs": [],
   "source": [
    "lines = ['Readme', 'How to write text files in Python']\n",
    "with open('readme.txt', 'w') as f:\n",
    "    for line in lines:\n",
    "        f.write(line)\n",
    "        f.write('\\n')"
   ]
  },
  {
   "cell_type": "code",
   "execution_count": 65,
   "id": "b8e0f8b2",
   "metadata": {},
   "outputs": [
    {
     "data": {
      "text/plain": [
       "['.ipynb_checkpoints',\n",
       " 'Basic Statistics.ipynb',\n",
       " 'intermediate Python.ipynb',\n",
       " 'Introduction to python.ipynb',\n",
       " 'readme.txt',\n",
       " 'readme1.txt']"
      ]
     },
     "execution_count": 65,
     "metadata": {},
     "output_type": "execute_result"
    }
   ],
   "source": [
    "import os\n",
    "os.listdir()"
   ]
  },
  {
   "cell_type": "code",
   "execution_count": 63,
   "id": "0a422fde",
   "metadata": {},
   "outputs": [],
   "source": [
    "lines = ['Readme', 'How to write text files in Python']\n",
    "with open('readme1.txt', 'w') as f:\n",
    "    f.writelines(lines)"
   ]
  },
  {
   "cell_type": "code",
   "execution_count": null,
   "id": "5330d21f",
   "metadata": {},
   "outputs": [],
   "source": [
    "# task:  write output of grades in a file using previouse code."
   ]
  },
  {
   "cell_type": "code",
   "execution_count": 72,
   "id": "8ed91871",
   "metadata": {},
   "outputs": [],
   "source": [
    "import statistics\n",
    "student_marks = [{'name':'sam',\n",
    "    'age':25,\n",
    "    'subjects':['Maths','science','CS','Statistics','Phyisics','Bio'],\n",
    "    'Marks':[60,70,80,90,70,60]},\n",
    "                 {'name':'fam',\n",
    "    'age':25,\n",
    "    'subjects':['Maths','science','CS','Statistics','Phyisics','Bio'],\n",
    "    'Marks':[60,70,80,80,70,60]}\n",
    "                ]\n",
    "with open('average_marks.txt',mode ='w') as f:\n",
    "    averages = []\n",
    "    for marks in student_marks:\n",
    "        average = statistics.mean(marks['Marks'])\n",
    "        averages.append(average)\n",
    "        \n",
    "    f.write(str(averages))"
   ]
  },
  {
   "cell_type": "code",
   "execution_count": 73,
   "id": "f9a98ad3",
   "metadata": {},
   "outputs": [
    {
     "data": {
      "text/plain": [
       "['[71.66666666666667, 70]']"
      ]
     },
     "execution_count": 73,
     "metadata": {},
     "output_type": "execute_result"
    }
   ],
   "source": [
    "f = open('average_marks.txt','r')\n",
    "f.readlines()"
   ]
  },
  {
   "cell_type": "code",
   "execution_count": 69,
   "id": "2fb9aae8",
   "metadata": {},
   "outputs": [
    {
     "data": {
      "text/plain": [
       "['.ipynb_checkpoints',\n",
       " 'average_marks.txt',\n",
       " 'Basic Statistics.ipynb',\n",
       " 'intermediate Python.ipynb',\n",
       " 'Introduction to python.ipynb',\n",
       " 'readme.txt',\n",
       " 'readme1.txt']"
      ]
     },
     "execution_count": 69,
     "metadata": {},
     "output_type": "execute_result"
    }
   ],
   "source": [
    "os.listdir()"
   ]
  },
  {
   "cell_type": "code",
   "execution_count": 74,
   "id": "65a39b94",
   "metadata": {},
   "outputs": [],
   "source": [
    "lines = ['Readme', 'How to write text files in Python programming']\n",
    "with open('readme.txt', 'w') as f:\n",
    "    f.write('\\n'.join(lines))"
   ]
  },
  {
   "cell_type": "code",
   "execution_count": 77,
   "id": "59b04434",
   "metadata": {},
   "outputs": [
    {
     "data": {
      "text/plain": [
       "['Readme\\n',\n",
       " 'How to write text files in Python programming\\n',\n",
       " 'Append text files\\n',\n",
       " 'The End']"
      ]
     },
     "execution_count": 77,
     "metadata": {},
     "output_type": "execute_result"
    }
   ],
   "source": [
    "f = open('readme.txt','r')\n",
    "f.readlines()"
   ]
  },
  {
   "cell_type": "code",
   "execution_count": 76,
   "id": "4b1b99e8",
   "metadata": {},
   "outputs": [],
   "source": [
    "more_lines = ['', 'Append text files', 'The End']\n",
    "\n",
    "with open('readme.txt', 'a') as f:\n",
    "    f.write('\\n'.join(more_lines))"
   ]
  },
  {
   "cell_type": "code",
   "execution_count": null,
   "id": "a18dcd92",
   "metadata": {},
   "outputs": [],
   "source": [
    "'r'       open for reading (default)\n",
    "'w'       open for writing, truncating the file first\n",
    "'x'       create a new file and open it for writing\n",
    "'a'       open for writing, appending to the end of the file if it exists\n",
    "'b'       binary mode\n",
    "'t'       text mode (default)\n",
    "'+'       open a disk file for updating (reading and writing)"
   ]
  },
  {
   "cell_type": "code",
   "execution_count": null,
   "id": "4ac2b9be",
   "metadata": {},
   "outputs": [],
   "source": [
    "Create Text File\n",
    "\n",
    "with open('readme.txt', 'w') as f:\n",
    "    f.write('Create a new text file!')"
   ]
  },
  {
   "cell_type": "markdown",
   "id": "a06ec262",
   "metadata": {},
   "source": [
    "# Check If File Exists"
   ]
  },
  {
   "cell_type": "code",
   "execution_count": null,
   "id": "43ba3470",
   "metadata": {},
   "outputs": [],
   "source": [
    "os.path.exists() function\n",
    "\n",
    "from os.path import exists\n",
    "\n",
    "file_exists = exists(path_to_file)"
   ]
  },
  {
   "cell_type": "code",
   "execution_count": 81,
   "id": "b0472d64",
   "metadata": {},
   "outputs": [
    {
     "data": {
      "text/plain": [
       "False"
      ]
     },
     "execution_count": 81,
     "metadata": {},
     "output_type": "execute_result"
    }
   ],
   "source": [
    "from os.path import exists as file_exists\n",
    "\n",
    "file_exists('readme2.txt')"
   ]
  },
  {
   "cell_type": "code",
   "execution_count": 79,
   "id": "e56f1be2",
   "metadata": {},
   "outputs": [
    {
     "data": {
      "text/plain": [
       "['.ipynb_checkpoints',\n",
       " 'average_marks.txt',\n",
       " 'Basic Statistics.ipynb',\n",
       " 'intermediate Python.ipynb',\n",
       " 'Introduction to python.ipynb',\n",
       " 'readme.txt',\n",
       " 'readme1.txt']"
      ]
     },
     "execution_count": 79,
     "metadata": {},
     "output_type": "execute_result"
    }
   ],
   "source": [
    "os.listdir()"
   ]
  },
  {
   "cell_type": "code",
   "execution_count": 82,
   "id": "e35b261b",
   "metadata": {},
   "outputs": [
    {
     "data": {
      "text/plain": [
       "False"
      ]
     },
     "execution_count": 82,
     "metadata": {},
     "output_type": "execute_result"
    }
   ],
   "source": [
    "# Path.is_file() method\n",
    "\n",
    "from pathlib import Path\n",
    "\n",
    "path = Path('readme2.txt')\n",
    "\n",
    "path.is_file()"
   ]
  },
  {
   "cell_type": "code",
   "execution_count": 84,
   "id": "e01b3f99",
   "metadata": {},
   "outputs": [
    {
     "name": "stdout",
     "output_type": "stream",
     "text": [
      "The file readme2.txt does not exist\n"
     ]
    }
   ],
   "source": [
    "from pathlib import Path\n",
    "\n",
    "path_to_file = 'readme2.txt'\n",
    "path = Path(path_to_file)\n",
    "\n",
    "if path.is_file():\n",
    "    print(f'The file {path_to_file} exists')\n",
    "else:\n",
    "    print(f'The file {path_to_file} does not exist')"
   ]
  },
  {
   "cell_type": "markdown",
   "id": "4a5f53c6",
   "metadata": {},
   "source": [
    "# Read CSV File"
   ]
  },
  {
   "cell_type": "code",
   "execution_count": 101,
   "id": "0a368cce",
   "metadata": {},
   "outputs": [
    {
     "name": "stdout",
     "output_type": "stream",
     "text": [
      "80073.89\n"
     ]
    }
   ],
   "source": [
    "import csv\n",
    "# f = open('path/to/csv_file')\n",
    "f = open(r\"D:\\PowerBI\\Sample dataset\\apple_products.csv\", encoding='UTF8')\n",
    "csv_reader = csv.reader(f)\n",
    "sale_price = []\n",
    "for line in csv_reader:\n",
    "    sale_price.append(line[4])\n",
    "# print(sale_price)\n",
    "price = sale_price[1:]\n",
    "values = []\n",
    "for i in price:\n",
    "    price = int(i)\n",
    "    values.append(price)\n",
    "print(round(statistics.mean(values),2))\n",
    "\n",
    "    \n",
    "# print(price)\n",
    "\n",
    "f.close()   "
   ]
  },
  {
   "cell_type": "code",
   "execution_count": null,
   "id": "2e64f975",
   "metadata": {},
   "outputs": [],
   "source": [
    "import csv\n",
    "\n",
    "with open('\"D:\\PowerBI\\Sample dataset\\apple_products.csv\"', 'r') as f:\n",
    "    csv_reader = csv.reader(f)\n",
    "    for line in csv_reader:\n",
    "        # process each line\n",
    "        print(line)\n"
   ]
  },
  {
   "cell_type": "code",
   "execution_count": null,
   "id": "69dd8094",
   "metadata": {},
   "outputs": [],
   "source": [
    "import csv\n",
    "\n",
    "with open('country.csv', encoding=\"utf8\") as f:\n",
    "    csv_reader = csv.reader(f)\n",
    "    for line in csv_reader:\n",
    "        print(line)"
   ]
  },
  {
   "cell_type": "code",
   "execution_count": null,
   "id": "94607cf1",
   "metadata": {},
   "outputs": [],
   "source": [
    "import csv\n",
    "\n",
    "total_area = 0\n",
    "\n",
    "# calculate the total area of all countries\n",
    "\n",
    "with open('country.csv', encoding=\"utf8\") as f:\n",
    "    csv_reader = csv.reader(f)\n",
    "\n",
    "    # skip the header\n",
    "    next(csv_reader)\n",
    "\n",
    "    # calculate total\n",
    "    for line in csv_reader:\n",
    "        total_area += float(line[1])\n",
    "\n",
    "print(total_area)"
   ]
  },
  {
   "cell_type": "code",
   "execution_count": null,
   "id": "7c01e73d",
   "metadata": {},
   "outputs": [],
   "source": [
    "import csv\n",
    "\n",
    "with open('country.csv', encoding=\"utf8\") as f:\n",
    "    csv_reader = csv.DictReader(f)\n",
    "    # skip the header\n",
    "    next(csv_reader)\n",
    "    # show the data\n",
    "    for line in csv_reader:\n",
    "        print(f\"The area of {line['name']} is {line['area']} km2\")\n"
   ]
  },
  {
   "cell_type": "code",
   "execution_count": null,
   "id": "89d5e194",
   "metadata": {},
   "outputs": [],
   "source": [
    "import csv\n",
    "\n",
    "fieldnames = ['country_name', 'area', 'code2', 'code3']\n",
    "\n",
    "with open('country.csv', encoding=\"utf8\") as f:\n",
    "    csv_reader = csv.DictReader(f, fieldnames)\n",
    "    next(csv_reader)\n",
    "    for line in csv_reader:\n",
    "        print(f\"The area of {line['country_name']} is {line['area']} km2\")\n"
   ]
  },
  {
   "cell_type": "markdown",
   "id": "ac7dd5c1",
   "metadata": {},
   "source": [
    "# writing csv file"
   ]
  },
  {
   "cell_type": "code",
   "execution_count": 102,
   "id": "041bb6a4",
   "metadata": {},
   "outputs": [],
   "source": [
    "import csv\n",
    "\n",
    "header = ['name', 'area', 'country_code2', 'country_code3']\n",
    "data = ['Afghanistan', 652090, 'AF', 'AFG']\n",
    "\n",
    "\n",
    "with open('countries.csv', 'w', encoding='UTF8', newline='') as f:\n",
    "    writer = csv.writer(f)\n",
    "\n",
    "    # write the header\n",
    "    writer.writerow(header)\n",
    "\n",
    "    # write the data\n",
    "    writer.writerow(data)"
   ]
  },
  {
   "cell_type": "code",
   "execution_count": 103,
   "id": "94aaf25d",
   "metadata": {},
   "outputs": [
    {
     "data": {
      "text/plain": [
       "['.ipynb_checkpoints',\n",
       " 'average_marks.txt',\n",
       " 'Basic Statistics.ipynb',\n",
       " 'countries.csv',\n",
       " 'intermediate Python.ipynb',\n",
       " 'Introduction to python.ipynb',\n",
       " 'readme.txt',\n",
       " 'readme1.txt']"
      ]
     },
     "execution_count": 103,
     "metadata": {},
     "output_type": "execute_result"
    }
   ],
   "source": [
    "os.listdir()"
   ]
  },
  {
   "cell_type": "code",
   "execution_count": 104,
   "id": "2bee1d2e",
   "metadata": {},
   "outputs": [],
   "source": [
    "import csv\n",
    "\n",
    "header = ['name', 'area', 'country_code2', 'country_code3']\n",
    "data = [\n",
    "    ['Albania', 28748, 'AL', 'ALB'],\n",
    "    ['Algeria', 2381741, 'DZ', 'DZA'],\n",
    "    ['American Samoa', 199, 'AS', 'ASM'],\n",
    "    ['Andorra', 468, 'AD', 'AND'],\n",
    "    ['Angola', 1246700, 'AO', 'AGO']\n",
    "]\n",
    "\n",
    "with open('countries1.csv', 'w', encoding='UTF8', newline='') as f:\n",
    "    writer = csv.writer(f)\n",
    "\n",
    "    # write the header\n",
    "    writer.writerow(header)\n",
    "\n",
    "    # write multiple rows\n",
    "    writer.writerows(data)\n"
   ]
  },
  {
   "cell_type": "code",
   "execution_count": 105,
   "id": "feb271fd",
   "metadata": {},
   "outputs": [
    {
     "data": {
      "text/plain": [
       "['.ipynb_checkpoints',\n",
       " 'average_marks.txt',\n",
       " 'Basic Statistics.ipynb',\n",
       " 'countries.csv',\n",
       " 'countries1.csv',\n",
       " 'intermediate Python.ipynb',\n",
       " 'Introduction to python.ipynb',\n",
       " 'readme.txt',\n",
       " 'readme1.txt']"
      ]
     },
     "execution_count": 105,
     "metadata": {},
     "output_type": "execute_result"
    }
   ],
   "source": [
    "os.listdir()"
   ]
  },
  {
   "cell_type": "code",
   "execution_count": 19,
   "id": "d7720de1",
   "metadata": {},
   "outputs": [],
   "source": [
    "# using dictwriter\n",
    "\n",
    "import csv\n",
    "\n",
    "# csv header\n",
    "fieldnames = ['name', 'area', 'country_code2', 'country_code3']\n",
    "\n",
    "# csv data\n",
    "rows = [\n",
    "    {'name': 'Albania',\n",
    "    'area': 28748,\n",
    "    'country_code2': 'AL',\n",
    "    'country_code3': 'ALB'},\n",
    "    {'name': 'Algeria',\n",
    "    'area': 2381741,\n",
    "    'country_code2': 'DZ',\n",
    "    'country_code3': 'DZA'},\n",
    "    {'name': 'American Samoa',\n",
    "    'area': 199,\n",
    "    'country_code2': 'AS',\n",
    "    'country_code3': 'ASM'}\n",
    "]\n",
    "\n",
    "with open('countries4.csv', 'a', encoding='UTF8', newline='') as f:\n",
    "    writer = csv.DictWriter(f, fieldnames=fieldnames)\n",
    "    writer.writeheader()\n",
    "    writer.writerows(rows)\n"
   ]
  },
  {
   "cell_type": "code",
   "execution_count": 21,
   "id": "d780a661",
   "metadata": {},
   "outputs": [
    {
     "data": {
      "text/plain": [
       "['.ipynb_checkpoints',\n",
       " 'average_marks.txt',\n",
       " 'Basic Statistics.ipynb',\n",
       " 'countries.csv',\n",
       " 'countries1.csv',\n",
       " 'countries3.csv',\n",
       " 'countries4.csv',\n",
       " 'intermediate Python.ipynb',\n",
       " 'Introduction to python.ipynb',\n",
       " 'Python_interview_questions.ipynb',\n",
       " 'readme.txt',\n",
       " 'readme1.txt']"
      ]
     },
     "execution_count": 21,
     "metadata": {},
     "output_type": "execute_result"
    }
   ],
   "source": [
    "import os\n",
    "os.listdir()"
   ]
  },
  {
   "cell_type": "code",
   "execution_count": 22,
   "id": "7be20195",
   "metadata": {},
   "outputs": [
    {
     "data": {
      "text/plain": [
       "['name,area,country_code2,country_code3\\n',\n",
       " 'Albania,28748,AL,ALB\\n',\n",
       " 'Algeria,2381741,DZ,DZA\\n',\n",
       " 'American Samoa,199,AS,ASM\\n']"
      ]
     },
     "execution_count": 22,
     "metadata": {},
     "output_type": "execute_result"
    }
   ],
   "source": [
    "f = open('countries4.csv','r')\n",
    "f.readlines()"
   ]
  },
  {
   "cell_type": "code",
   "execution_count": null,
   "id": "75162a03",
   "metadata": {},
   "outputs": [],
   "source": [
    "# Rename File\n",
    "\n",
    "import os\n",
    "\n",
    "os.rename('readme.txt', 'notes.txt')"
   ]
  },
  {
   "cell_type": "code",
   "execution_count": null,
   "id": "e1ebbdae",
   "metadata": {},
   "outputs": [],
   "source": [
    "# Deleting file\n",
    "import os\n",
    "\n",
    "os.remove('readme.txt')"
   ]
  },
  {
   "cell_type": "code",
   "execution_count": null,
   "id": "aa873c6d",
   "metadata": {},
   "outputs": [],
   "source": [
    "import os\n",
    "\n",
    "filename = 'readme.txt'\n",
    "if os.path.exists(filename):\n",
    "    os.remove(filename)"
   ]
  },
  {
   "cell_type": "code",
   "execution_count": 42,
   "id": "1fab4823",
   "metadata": {},
   "outputs": [],
   "source": [
    "import os"
   ]
  },
  {
   "cell_type": "code",
   "execution_count": 44,
   "id": "cf8af12a",
   "metadata": {},
   "outputs": [
    {
     "data": {
      "text/plain": [
       "<function sys.exit(status=None, /)>"
      ]
     },
     "execution_count": 44,
     "metadata": {},
     "output_type": "execute_result"
    }
   ],
   "source": [
    "os.sys.exit"
   ]
  },
  {
   "cell_type": "code",
   "execution_count": 45,
   "id": "4337d959",
   "metadata": {},
   "outputs": [
    {
     "data": {
      "text/plain": [
       "12"
      ]
     },
     "execution_count": 45,
     "metadata": {},
     "output_type": "execute_result"
    }
   ],
   "source": [
    "import os\n",
    "os.cpu_count()"
   ]
  },
  {
   "cell_type": "code",
   "execution_count": 49,
   "id": "927b5e93",
   "metadata": {},
   "outputs": [
    {
     "data": {
      "text/plain": [
       "['.ipynb_checkpoints',\n",
       " 'Basic Statistics.ipynb',\n",
       " 'intermediate Python.ipynb',\n",
       " 'Introduction to python.ipynb']"
      ]
     },
     "execution_count": 49,
     "metadata": {},
     "output_type": "execute_result"
    }
   ],
   "source": [
    "os.listdir()\n"
   ]
  },
  {
   "cell_type": "markdown",
   "id": "82cdd0bd",
   "metadata": {},
   "source": [
    "# Exception handling."
   ]
  },
  {
   "cell_type": "code",
   "execution_count": null,
   "id": "e9ec8fdb",
   "metadata": {},
   "outputs": [],
   "source": [
    "Try...except\n",
    "try...... except...... finally\n",
    "try......... except....... else"
   ]
  },
  {
   "cell_type": "code",
   "execution_count": null,
   "id": "e3d10917",
   "metadata": {},
   "outputs": [],
   "source": [
    "Two types of error\n",
    "1) Syntax error\n",
    "When you write an invalid Python code, you’ll get a syntax error.\n",
    "\n",
    "2) Exceptional error\n",
    "Even though when your code has valid syntax, it may cause an error during execution.\n",
    "\n",
    "eg: TypeError, NameError,valueError\n",
    "    \n",
    "Reading a file that doesn’t exist.\n",
    "Connecting to a remote server that is offline.\n",
    "Bad user inputs."
   ]
  },
  {
   "cell_type": "code",
   "execution_count": 24,
   "id": "c6cc82f6",
   "metadata": {},
   "outputs": [
    {
     "name": "stdout",
     "output_type": "stream",
     "text": [
      "give diffresnt value for b\n"
     ]
    }
   ],
   "source": [
    "a= 10\n",
    "b = 0\n",
    "try:\n",
    "    c= a/b\n",
    "    print(c)\n",
    "except:\n",
    "    print(\"give diffresnt value for b\")\n"
   ]
  },
  {
   "cell_type": "code",
   "execution_count": 6,
   "id": "de16cae0",
   "metadata": {},
   "outputs": [
    {
     "ename": "ModuleNotFoundError",
     "evalue": "No module named 'keras'",
     "output_type": "error",
     "traceback": [
      "\u001b[1;31m---------------------------------------------------------------------------\u001b[0m",
      "\u001b[1;31mModuleNotFoundError\u001b[0m                       Traceback (most recent call last)",
      "Cell \u001b[1;32mIn[6], line 1\u001b[0m\n\u001b[1;32m----> 1\u001b[0m \u001b[38;5;28;01mimport\u001b[39;00m \u001b[38;5;21;01mkeras\u001b[39;00m\n",
      "\u001b[1;31mModuleNotFoundError\u001b[0m: No module named 'keras'"
     ]
    }
   ],
   "source": [
    "try:\n",
    "     with open(filename,'r').. # First executes\n",
    "     ....\n",
    "except:\n",
    "     # handling exception"
   ]
  },
  {
   "cell_type": "code",
   "execution_count": 37,
   "id": "5012f4a7",
   "metadata": {},
   "outputs": [
    {
     "ename": "UnsupportedOperation",
     "evalue": "not writable",
     "output_type": "error",
     "traceback": [
      "\u001b[1;31m---------------------------------------------------------------------------\u001b[0m",
      "\u001b[1;31mUnsupportedOperation\u001b[0m                      Traceback (most recent call last)",
      "Cell \u001b[1;32mIn[37], line 2\u001b[0m\n\u001b[0;32m      1\u001b[0m f \u001b[38;5;241m=\u001b[39m \u001b[38;5;28mopen\u001b[39m(\u001b[38;5;124m'\u001b[39m\u001b[38;5;124mcountries.csv\u001b[39m\u001b[38;5;124m'\u001b[39m,\u001b[38;5;124m'\u001b[39m\u001b[38;5;124mr\u001b[39m\u001b[38;5;124m'\u001b[39m)\n\u001b[1;32m----> 2\u001b[0m f\u001b[38;5;241m.\u001b[39mwrite(\u001b[38;5;124m'\u001b[39m\u001b[38;5;124msjhdjashdh\u001b[39m\u001b[38;5;124m'\u001b[39m)\n",
      "\u001b[1;31mUnsupportedOperation\u001b[0m: not writable"
     ]
    }
   ],
   "source": [
    "f = open('countries.csv','r')\n",
    "f.write('sjhdjashdh')"
   ]
  },
  {
   "cell_type": "code",
   "execution_count": 43,
   "id": "90bfa883",
   "metadata": {},
   "outputs": [
    {
     "name": "stdout",
     "output_type": "stream",
     "text": [
      "Error:\n"
     ]
    }
   ],
   "source": [
    "try:\n",
    "    f = open('countries.csv','r')\n",
    "    f.read('Test write this')\n",
    "except IOError:\n",
    "    # This will only check for an IOError exception and then execute this print statement\n",
    "    print(\"Error: Could not find file or read data\")\n",
    "except TypeError:\n",
    "    # This will only check for an IOError exception and then execute this print statement\n",
    "    print(\"Error:\")\n",
    "else: # this else block will execute if try block does not raise an exception\n",
    "    print(\"Content written successfully\")\n",
    "    f.close()"
   ]
  },
  {
   "cell_type": "code",
   "execution_count": null,
   "id": "ef54df03",
   "metadata": {},
   "outputs": [],
   "source": []
  },
  {
   "cell_type": "code",
   "execution_count": 47,
   "id": "ab3a3ab3",
   "metadata": {},
   "outputs": [
    {
     "data": {
      "text/plain": [
       "['.ipynb_checkpoints',\n",
       " 'average_marks.txt',\n",
       " 'Basic Statistics.ipynb',\n",
       " 'countries.csv',\n",
       " 'countries1.csv',\n",
       " 'countries3.csv',\n",
       " 'countries4.csv',\n",
       " 'intermediate Python.ipynb',\n",
       " 'Introduction to python.ipynb',\n",
       " 'Python_interview_questions.ipynb',\n",
       " 'readme.txt',\n",
       " 'readme1.txt',\n",
       " 'testfile']"
      ]
     },
     "execution_count": 47,
     "metadata": {},
     "output_type": "execute_result"
    }
   ],
   "source": [
    "os.listdir()"
   ]
  },
  {
   "cell_type": "code",
   "execution_count": null,
   "id": "c2769518",
   "metadata": {},
   "outputs": [],
   "source": [
    "f = open('demo_file','r')\n",
    "f.write('Test write this')\n",
    "print(\"fsfsfsfsf\")"
   ]
  },
  {
   "cell_type": "code",
   "execution_count": null,
   "id": "541e18fb",
   "metadata": {},
   "outputs": [],
   "source": [
    "try:\n",
    "    f = open('demo_file','r')\n",
    "    f.write('Test write this')\n",
    "except IOError:\n",
    "    # This will only check for an IOError exception and then execute this print statement\n",
    "   print(\"Error: Could not find file or read data\")\n",
    "else:\n",
    "   print(\"Content written successfully\")\n",
    "   f.close()"
   ]
  },
  {
   "cell_type": "code",
   "execution_count": 45,
   "id": "92dd2dff",
   "metadata": {},
   "outputs": [
    {
     "name": "stdout",
     "output_type": "stream",
     "text": [
      "[Errno 2] No such file or directory: 'testfile'\n"
     ]
    }
   ],
   "source": [
    "try:\n",
    "    f = open('testfile','r')\n",
    "    f.write('Test write this')\n",
    "except Exception as e:\n",
    "    # This will check for any exception and then execute this print statement\n",
    "    print(e)\n",
    "else:\n",
    "    print(\"Content written successfully\")\n",
    "    f.close()"
   ]
  },
  {
   "cell_type": "markdown",
   "id": "32b2d9c7",
   "metadata": {},
   "source": [
    "finally\n",
    "The finally: Block of code will always be run regardless if there was an exception in the try code block. \n",
    "\n",
    "The syntax is:\n",
    "\n",
    "try:\n",
    "   Code block here\n",
    "   ...\n",
    "   Due to any exception, this code may be skipped!\n",
    "finally:\n",
    "   This code block would always be executed.\n",
    "For example:"
   ]
  },
  {
   "cell_type": "code",
   "execution_count": 46,
   "id": "4020d202",
   "metadata": {},
   "outputs": [
    {
     "name": "stdout",
     "output_type": "stream",
     "text": [
      "Always execute finally code blocks\n"
     ]
    }
   ],
   "source": [
    "try:\n",
    "    f = open(\"testfile\", \"w\")\n",
    "    f.write(\"Test write statement\")\n",
    "finally:\n",
    "    print(\"Always execute finally code blocks\")"
   ]
  },
  {
   "cell_type": "code",
   "execution_count": null,
   "id": "49d0ce88",
   "metadata": {},
   "outputs": [],
   "source": [
    "def askint():\n",
    "        try:\n",
    "            val = int(input(\"Please enter an integer: \"))\n",
    "        except:\n",
    "            print(\"Looks like you did not enter an integer!\")\n",
    "            \n",
    "        finally:\n",
    "            print(\"Finally, I executed!\")\n",
    "        print(val)"
   ]
  },
  {
   "cell_type": "code",
   "execution_count": 49,
   "id": "daf911ee",
   "metadata": {},
   "outputs": [],
   "source": [
    "\n",
    "# Program to handle multiple errors with one\n",
    "# except statement\n",
    "# Python 3\n",
    " \n",
    "def fun(a):\n",
    "    if a < 4:\n",
    " \n",
    "        # throws ZeroDivisionError for a = 3\n",
    "        b = a/(a-3)\n",
    " \n",
    "    # throws NameError if a >= 4\n",
    "    print(\"Value of b = \", b)\n",
    "     \n"
   ]
  },
  {
   "cell_type": "code",
   "execution_count": 54,
   "id": "128b633f",
   "metadata": {},
   "outputs": [
    {
     "name": "stdout",
     "output_type": "stream",
     "text": [
      "Value of b =  -2.0\n",
      "1 Occurred and Handled\n"
     ]
    }
   ],
   "source": [
    "try:\n",
    "    fun(2)\n",
    "    fun(5)\n",
    " \n",
    "# note that braces () are necessary here for\n",
    "# multiple exceptions\n",
    "except (ZeroDivisionError,NameError):\n",
    "    print(f\"{0 or 1} Occurred and Handled\")\n"
   ]
  },
  {
   "cell_type": "markdown",
   "id": "450035c1",
   "metadata": {},
   "source": [
    "# # Task : create a function which gives the multiplication table and handle the exception."
   ]
  },
  {
   "cell_type": "code",
   "execution_count": 9,
   "id": "54381940",
   "metadata": {},
   "outputs": [
    {
     "name": "stdout",
     "output_type": "stream",
     "text": [
      "-5.0\n",
      "a/b result in 0\n"
     ]
    }
   ],
   "source": [
    "\n",
    "# Program to depict else clause with try-except\n",
    "# Python 3\n",
    "# Function which returns a/b\n",
    "def AbyB(a , b):\n",
    "    try:\n",
    "        c = ((a+b) / (a-b))\n",
    "    except ZeroDivisionError:\n",
    "        print (\"a/b result in 0\")\n",
    "    else:\n",
    "        print (c)\n",
    " \n",
    "# Driver program to test above function\n",
    "AbyB(2.0, 3.0)\n",
    "AbyB(3.0, 3.0)"
   ]
  },
  {
   "cell_type": "code",
   "execution_count": 64,
   "id": "61182be5",
   "metadata": {},
   "outputs": [
    {
     "name": "stdout",
     "output_type": "stream",
     "text": [
      "enter the value: 4\n"
     ]
    }
   ],
   "source": [
    "n = input(\"enter the value: \")\n",
    "def mul(n):\n",
    "    try:\n",
    "        for i in range(1,11):\n",
    "            print(i * int(n))\n",
    "    except ValueError:\n",
    "        print(\"enter the number only\")\n",
    "    "
   ]
  },
  {
   "cell_type": "code",
   "execution_count": 65,
   "id": "3b2c206f",
   "metadata": {},
   "outputs": [
    {
     "name": "stdout",
     "output_type": "stream",
     "text": [
      "4\n",
      "8\n",
      "12\n",
      "16\n",
      "20\n",
      "24\n",
      "28\n",
      "32\n",
      "36\n",
      "40\n"
     ]
    }
   ],
   "source": [
    "mul(n)"
   ]
  },
  {
   "cell_type": "code",
   "execution_count": 66,
   "id": "0f4cbc19",
   "metadata": {},
   "outputs": [
    {
     "name": "stdout",
     "output_type": "stream",
     "text": [
      "Can't divide by zero\n",
      "This is always executed\n"
     ]
    }
   ],
   "source": [
    "\n",
    "# Python program to demonstrate finally\n",
    " \n",
    "# No exception Exception raised in try block\n",
    "try:\n",
    "    k = 5//0  # raises divide by zero exception.\n",
    "    print(k)\n",
    "# handles zerodivision exception\n",
    "except ZeroDivisionError:\n",
    "    print(\"Can't divide by zero\")\n",
    "finally:\n",
    "    # this block is always executed\n",
    "    # regardless of exception generation.\n",
    "    print('This is always executed')"
   ]
  },
  {
   "cell_type": "markdown",
   "id": "411ef595",
   "metadata": {},
   "source": [
    "# the following program calculates the sales growth:"
   ]
  },
  {
   "cell_type": "code",
   "execution_count": 78,
   "id": "8eeb70e6",
   "metadata": {},
   "outputs": [
    {
     "name": "stdout",
     "output_type": "stream",
     "text": [
      "Enter the net sales for\n",
      "- Prior period:value\n",
      "Enter the value only\n",
      "Sales decrease 0.0%\n"
     ]
    }
   ],
   "source": [
    "# get input net sales\n",
    "print('Enter the net sales for')\n",
    "\n",
    "try:\n",
    "    previous = float(input('- Prior period:'))\n",
    "    current = float(input('- Current period:'))\n",
    "\n",
    "    # calculate the change in percentage\n",
    "    change = (current - previous) * 100 / previous\n",
    "\n",
    "    # show the result\n",
    "    if change > 0:\n",
    "        result = f'Sales increase {abs(change)}%'\n",
    "    else:\n",
    "        result = f'Sales decrease {abs(change)}%'\n",
    "except:\n",
    "    print('Enter the value only')\n"
   ]
  },
  {
   "cell_type": "code",
   "execution_count": 69,
   "id": "a24e0cfd",
   "metadata": {},
   "outputs": [
    {
     "ename": "SyntaxError",
     "evalue": "invalid syntax (4026375337.py, line 1)",
     "output_type": "error",
     "traceback": [
      "\u001b[1;36m  Cell \u001b[1;32mIn[69], line 1\u001b[1;36m\u001b[0m\n\u001b[1;33m    Handling exceptions\u001b[0m\n\u001b[1;37m             ^\u001b[0m\n\u001b[1;31mSyntaxError\u001b[0m\u001b[1;31m:\u001b[0m invalid syntax\n"
     ]
    }
   ],
   "source": [
    "Handling exceptions\n",
    "To make the program more robust, you need to handle the exception once it occurs\n",
    "\n",
    "try:\n",
    "    # code that may cause error\n",
    "except:\n",
    "    # handle errors"
   ]
  },
  {
   "cell_type": "code",
   "execution_count": 72,
   "id": "c6487650",
   "metadata": {},
   "outputs": [
    {
     "name": "stdout",
     "output_type": "stream",
     "text": [
      "Enter the net sales for\n",
      "- Prior period:value\n",
      "Error! Please enter a number for net sales.\n"
     ]
    }
   ],
   "source": [
    "try:\n",
    "    # get input net sales\n",
    "    print('Enter the net sales for')\n",
    "\n",
    "    previous = float(input('- Prior period:'))\n",
    "    current = float(input('- Current period:'))\n",
    "\n",
    "    # calculate the change in percentage\n",
    "    change = (current - previous) * 100 / previous\n",
    "\n",
    "    # show the result\n",
    "    if change > 0:\n",
    "        result = f'Sales increase {abs(change)}%'\n",
    "    else:\n",
    "        result = f'Sales decrease {abs(change)}%'\n",
    "\n",
    "    print(result)\n",
    "except:\n",
    "    print('Error! Please enter a number for net sales.')\n"
   ]
  },
  {
   "cell_type": "code",
   "execution_count": 11,
   "id": "30dc1e42",
   "metadata": {},
   "outputs": [
    {
     "ename": "Exception",
     "evalue": "Sorry, no numbers below zero",
     "output_type": "error",
     "traceback": [
      "\u001b[1;31m---------------------------------------------------------------------------\u001b[0m",
      "\u001b[1;31mException\u001b[0m                                 Traceback (most recent call last)",
      "Cell \u001b[1;32mIn[11], line 4\u001b[0m\n\u001b[0;32m      1\u001b[0m x \u001b[38;5;241m=\u001b[39m \u001b[38;5;241m-\u001b[39m\u001b[38;5;241m1\u001b[39m\n\u001b[0;32m      3\u001b[0m \u001b[38;5;28;01mif\u001b[39;00m x \u001b[38;5;241m<\u001b[39m \u001b[38;5;241m0\u001b[39m:\n\u001b[1;32m----> 4\u001b[0m     \u001b[38;5;28;01mraise\u001b[39;00m \u001b[38;5;167;01mException\u001b[39;00m(\u001b[38;5;124m\"\u001b[39m\u001b[38;5;124mSorry, no numbers below zero\u001b[39m\u001b[38;5;124m\"\u001b[39m)\n",
      "\u001b[1;31mException\u001b[0m: Sorry, no numbers below zero"
     ]
    }
   ],
   "source": [
    "x = -1\n",
    "\n",
    "if x < 0:\n",
    "    raise Exception(\"Sorry, no numbers below zero\")"
   ]
  },
  {
   "cell_type": "code",
   "execution_count": 13,
   "id": "9aab9df3",
   "metadata": {},
   "outputs": [
    {
     "ename": "TypeError",
     "evalue": "Only integers are allowed",
     "output_type": "error",
     "traceback": [
      "\u001b[1;31m---------------------------------------------------------------------------\u001b[0m",
      "\u001b[1;31mTypeError\u001b[0m                                 Traceback (most recent call last)",
      "Cell \u001b[1;32mIn[13], line 4\u001b[0m\n\u001b[0;32m      1\u001b[0m x \u001b[38;5;241m=\u001b[39m \u001b[38;5;124m\"\u001b[39m\u001b[38;5;124mhello\u001b[39m\u001b[38;5;124m\"\u001b[39m\n\u001b[0;32m      3\u001b[0m \u001b[38;5;28;01mif\u001b[39;00m \u001b[38;5;129;01mnot\u001b[39;00m \u001b[38;5;28mtype\u001b[39m(x) \u001b[38;5;129;01mis\u001b[39;00m \u001b[38;5;28mint\u001b[39m:\n\u001b[1;32m----> 4\u001b[0m     \u001b[38;5;28;01mraise\u001b[39;00m \u001b[38;5;167;01mTypeError\u001b[39;00m(\u001b[38;5;124m\"\u001b[39m\u001b[38;5;124mOnly integers are allowed\u001b[39m\u001b[38;5;124m\"\u001b[39m)\n",
      "\u001b[1;31mTypeError\u001b[0m: Only integers are allowed"
     ]
    }
   ],
   "source": [
    "x = \"hello\"\n",
    "\n",
    "if not type(x) is int:\n",
    "    raise TypeError(\"Only integers are allowed\")"
   ]
  },
  {
   "cell_type": "code",
   "execution_count": null,
   "id": "78fe3390",
   "metadata": {},
   "outputs": [],
   "source": [
    "\n",
    "# Program to depict Raising Exception\n",
    " \n",
    "try:\n",
    "    raise NameError(\"Hi there\")  # Raise Error\n",
    "except NameError:\n",
    "    print (\"An exception\")\n",
    "    raise  # To determine whether the exception was raised or not"
   ]
  },
  {
   "cell_type": "code",
   "execution_count": 19,
   "id": "f10f21f4",
   "metadata": {},
   "outputs": [
    {
     "name": "stdout",
     "output_type": "stream",
     "text": [
      "Enter the net sales for\n",
      "- Prior period:100\n",
      "- Current period:120'\n",
      "Error! Please enter a number for net sales.\n"
     ]
    }
   ],
   "source": [
    "#Catching specific exceptions\n",
    "try:\n",
    "    # get input net sales\n",
    "    print('Enter the net sales for')\n",
    "\n",
    "    previous = float(input('- Prior period:'))\n",
    "    current = float(input('- Current period:'))\n",
    "\n",
    "    # calculate the change in percentage\n",
    "    change = (current - previous) * 100 / previous\n",
    "\n",
    "    # show the result\n",
    "    if change > 0:\n",
    "        result = f'Sales increase {abs(change)}%'\n",
    "    else:\n",
    "        result = f'Sales decrease {abs(change)}%'\n",
    "\n",
    "    print(result)\n",
    "except ValueError:\n",
    "    print('Error! Please enter a number for net sales.')\n"
   ]
  },
  {
   "cell_type": "markdown",
   "id": "99d40e08",
   "metadata": {},
   "source": [
    "# Handling multiple exceptions"
   ]
  },
  {
   "cell_type": "code",
   "execution_count": 21,
   "id": "3a8a4750",
   "metadata": {},
   "outputs": [
    {
     "name": "stdout",
     "output_type": "stream",
     "text": [
      "Enter the net sales for\n",
      "- Prior period:0\n",
      "- Current period:100\n"
     ]
    },
    {
     "ename": "ZeroDivisionError",
     "evalue": "float division by zero",
     "output_type": "error",
     "traceback": [
      "\u001b[1;31m---------------------------------------------------------------------------\u001b[0m",
      "\u001b[1;31mZeroDivisionError\u001b[0m                         Traceback (most recent call last)",
      "Cell \u001b[1;32mIn[21], line 10\u001b[0m\n\u001b[0;32m      7\u001b[0m current \u001b[38;5;241m=\u001b[39m \u001b[38;5;28mfloat\u001b[39m(\u001b[38;5;28minput\u001b[39m(\u001b[38;5;124m'\u001b[39m\u001b[38;5;124m- Current period:\u001b[39m\u001b[38;5;124m'\u001b[39m))\n\u001b[0;32m      9\u001b[0m \u001b[38;5;66;03m# calculate the change in percentage\u001b[39;00m\n\u001b[1;32m---> 10\u001b[0m change \u001b[38;5;241m=\u001b[39m (current \u001b[38;5;241m-\u001b[39m previous) \u001b[38;5;241m*\u001b[39m \u001b[38;5;241m100\u001b[39m \u001b[38;5;241m/\u001b[39m previous\n\u001b[0;32m     12\u001b[0m \u001b[38;5;66;03m# show the result\u001b[39;00m\n\u001b[0;32m     13\u001b[0m \u001b[38;5;28;01mif\u001b[39;00m change \u001b[38;5;241m>\u001b[39m \u001b[38;5;241m0\u001b[39m:\n",
      "\u001b[1;31mZeroDivisionError\u001b[0m: float division by zero"
     ]
    }
   ],
   "source": [
    "#Catching specific exceptions\n",
    "try:\n",
    "    # get input net sales\n",
    "    print('Enter the net sales for')\n",
    "\n",
    "    previous = float(input('- Prior period:'))\n",
    "    current = float(input('- Current period:'))\n",
    "\n",
    "    # calculate the change in percentage\n",
    "    change = (current - previous) * 100 / previous\n",
    "\n",
    "    # show the result\n",
    "    if change > 0:\n",
    "        result = f'Sales increase {abs(change)}%'\n",
    "    else:\n",
    "        result = f'Sales decrease {abs(change)}%'\n",
    "\n",
    "    print(result)\n",
    "except ValueError:\n",
    "    print('Error! Please enter a number for net sales.')"
   ]
  },
  {
   "cell_type": "code",
   "execution_count": null,
   "id": "dee24dba",
   "metadata": {},
   "outputs": [],
   "source": [
    "try:\n",
    "    # code that may cause an exception\n",
    "except Exception1 as e1:\n",
    "    # handle exception\n",
    "except Exception2 as e2:\n",
    "    # handle exception\n",
    "except Exception3 as e3:\n",
    "    # handle exception "
   ]
  },
  {
   "cell_type": "code",
   "execution_count": 23,
   "id": "f3ef8efa",
   "metadata": {},
   "outputs": [
    {
     "name": "stdout",
     "output_type": "stream",
     "text": [
      "Enter the net sales for\n",
      "- Prior period:0\n",
      "- Current period:100\n",
      "Error! The prior net sales cannot be zero.\n"
     ]
    }
   ],
   "source": [
    "try:\n",
    "    # get input net sales\n",
    "    print('Enter the net sales for')\n",
    "\n",
    "    previous = float(input('- Prior period:'))\n",
    "    current = float(input('- Current period:'))\n",
    "\n",
    "    # calculate the change in percentage\n",
    "    change = (current - previous) * 100 / previous\n",
    "\n",
    "    # show the result\n",
    "    if change > 0:\n",
    "        result = f'Sales increase {abs(change)}%'\n",
    "    else:\n",
    "        result = f'Sales decrease {abs(change)}%'\n",
    "\n",
    "    print(result)\n",
    "except ValueError:\n",
    "    print('Error! Please enter a number for net sales.')\n",
    "except ZeroDivisionError:\n",
    "    print('Error! The prior net sales cannot be zero.')\n"
   ]
  },
  {
   "cell_type": "code",
   "execution_count": 25,
   "id": "2f682564",
   "metadata": {},
   "outputs": [
    {
     "name": "stdout",
     "output_type": "stream",
     "text": [
      "Enter the net sales for\n",
      "- Prior period:1das\n",
      "Error! Please enter a number for net sales.\n"
     ]
    }
   ],
   "source": [
    "try:\n",
    "    # get input net sales\n",
    "    print('Enter the net sales for')\n",
    "\n",
    "    previous = float(input('- Prior period:'))\n",
    "    current = float(input('- Current period:'))\n",
    "\n",
    "    # calculate the change in percentage\n",
    "    change = (current - previous) * 100 / previous\n",
    "\n",
    "    # show the result\n",
    "    if change > 0:\n",
    "        result = f'Sales increase {abs(change)}%'\n",
    "    else:\n",
    "        result = f'Sales decrease {abs(change)}%'\n",
    "\n",
    "    print(result)\n",
    "except ValueError:\n",
    "    print('Error! Please enter a number for net sales.')\n",
    "except ZeroDivisionError:\n",
    "    print('Error! The prior net sales cannot be zero.')\n",
    "except Exception as error:\n",
    "    print(error)"
   ]
  },
  {
   "cell_type": "code",
   "execution_count": 15,
   "id": "bf8aac4e",
   "metadata": {},
   "outputs": [
    {
     "name": "stdout",
     "output_type": "stream",
     "text": [
      "Enter the value: excelr\n"
     ]
    },
    {
     "ename": "ValueError",
     "evalue": "invalid literal for int() with base 10: 'excelr'",
     "output_type": "error",
     "traceback": [
      "\u001b[1;31m---------------------------------------------------------------------------\u001b[0m",
      "\u001b[1;31mValueError\u001b[0m                                Traceback (most recent call last)",
      "Cell \u001b[1;32mIn[15], line 3\u001b[0m\n\u001b[0;32m      1\u001b[0m a \u001b[38;5;241m=\u001b[39m \u001b[38;5;28minput\u001b[39m(\u001b[38;5;124m\"\u001b[39m\u001b[38;5;124mEnter the value: \u001b[39m\u001b[38;5;124m\"\u001b[39m)\n\u001b[0;32m      2\u001b[0m \u001b[38;5;28;01mfor\u001b[39;00m i \u001b[38;5;129;01min\u001b[39;00m \u001b[38;5;28mrange\u001b[39m(\u001b[38;5;241m1\u001b[39m,\u001b[38;5;241m11\u001b[39m):\n\u001b[1;32m----> 3\u001b[0m     \u001b[38;5;28mprint\u001b[39m(\u001b[38;5;124mf\u001b[39m\u001b[38;5;124m\"\u001b[39m\u001b[38;5;124mmultiplication table of \u001b[39m\u001b[38;5;132;01m{\u001b[39;00ma\u001b[38;5;132;01m}\u001b[39;00m\u001b[38;5;124m = \u001b[39m\u001b[38;5;132;01m{\u001b[39;00m\u001b[38;5;28mint\u001b[39m(a)\u001b[38;5;250m \u001b[39m\u001b[38;5;241m*\u001b[39m\u001b[38;5;250m \u001b[39mi\u001b[38;5;132;01m}\u001b[39;00m\u001b[38;5;124m\"\u001b[39m)\n",
      "\u001b[1;31mValueError\u001b[0m: invalid literal for int() with base 10: 'excelr'"
     ]
    }
   ],
   "source": [
    "a = input(\"Enter the value: \")\n",
    "for i in range(1,11):\n",
    "    print(f\"multiplication table of {a} = {int(a) * i}\")"
   ]
  },
  {
   "cell_type": "code",
   "execution_count": 18,
   "id": "f80f813e",
   "metadata": {},
   "outputs": [
    {
     "name": "stdout",
     "output_type": "stream",
     "text": [
      "Enter the value: sam\n",
      "invalid literal for int() with base 10: 'sam'\n",
      "execute this line\n",
      "execute this line also\n"
     ]
    }
   ],
   "source": [
    "a = input(\"Enter the value: \")\n",
    "try:\n",
    "    for i in range(1,11):\n",
    "        print(f\"multiplication table of {a} = {int(a) * i}\")\n",
    "except Exception as e:\n",
    "    print(e)\n",
    "\n",
    "print(\"execute this line\")\n",
    "print(\"execute this line also\")"
   ]
  },
  {
   "cell_type": "code",
   "execution_count": 80,
   "id": "fd2acf50",
   "metadata": {},
   "outputs": [],
   "source": [
    "import pandas"
   ]
  },
  {
   "cell_type": "code",
   "execution_count": 81,
   "id": "49f3e513",
   "metadata": {},
   "outputs": [
    {
     "name": "stdout",
     "output_type": "stream",
     "text": [
      "Defaulting to user installation because normal site-packages is not writeable\n",
      "Collecting keras\n",
      "  Downloading keras-2.13.1-py3-none-any.whl (1.7 MB)\n",
      "                                              0.0/1.7 MB ? eta -:--:--\n",
      "     ----                                     0.2/1.7 MB 5.9 MB/s eta 0:00:01\n",
      "     -----------------------                  1.0/1.7 MB 12.6 MB/s eta 0:00:01\n",
      "     ---------------------------------------- 1.7/1.7 MB 13.5 MB/s eta 0:00:00\n",
      "Installing collected packages: keras\n",
      "Successfully installed keras-2.13.1\n"
     ]
    }
   ],
   "source": [
    "!pip install keras"
   ]
  },
  {
   "cell_type": "code",
   "execution_count": null,
   "id": "5ae326d5",
   "metadata": {},
   "outputs": [],
   "source": []
  }
 ],
 "metadata": {
  "kernelspec": {
   "display_name": "Python 3 (ipykernel)",
   "language": "python",
   "name": "python3"
  },
  "language_info": {
   "codemirror_mode": {
    "name": "ipython",
    "version": 3
   },
   "file_extension": ".py",
   "mimetype": "text/x-python",
   "name": "python",
   "nbconvert_exporter": "python",
   "pygments_lexer": "ipython3",
   "version": "3.11.3"
  }
 },
 "nbformat": 4,
 "nbformat_minor": 5
}
