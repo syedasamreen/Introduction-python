{
 "cells": [
  {
   "cell_type": "markdown",
   "id": "313ac744",
   "metadata": {},
   "source": [
    "# Variables:"
   ]
  },
  {
   "cell_type": "code",
   "execution_count": 1,
   "id": "83bc31ce",
   "metadata": {},
   "outputs": [],
   "source": [
    "varible1__1 = 10"
   ]
  },
  {
   "cell_type": "code",
   "execution_count": 2,
   "id": "6422d29e",
   "metadata": {},
   "outputs": [],
   "source": [
    "#Libraries-->Packages-->Modules--->Class-->Function-->variable"
   ]
  },
  {
   "cell_type": "code",
   "execution_count": 3,
   "id": "b49d69b8",
   "metadata": {},
   "outputs": [],
   "source": [
    "X = 105"
   ]
  },
  {
   "cell_type": "code",
   "execution_count": 4,
   "id": "82a53673",
   "metadata": {},
   "outputs": [
    {
     "name": "stdout",
     "output_type": "stream",
     "text": [
      "105\n"
     ]
    }
   ],
   "source": [
    "print(X)"
   ]
  },
  {
   "cell_type": "code",
   "execution_count": 5,
   "id": "09fd037a",
   "metadata": {},
   "outputs": [
    {
     "name": "stdout",
     "output_type": "stream",
     "text": [
      "115\n"
     ]
    }
   ],
   "source": [
    "print(X+10)"
   ]
  },
  {
   "cell_type": "code",
   "execution_count": 6,
   "id": "f621a7e6",
   "metadata": {},
   "outputs": [],
   "source": [
    "#return x"
   ]
  },
  {
   "cell_type": "code",
   "execution_count": 7,
   "id": "0e597b19",
   "metadata": {},
   "outputs": [
    {
     "data": {
      "text/plain": [
       "(101, 111, 108, 128)"
      ]
     },
     "execution_count": 7,
     "metadata": {},
     "output_type": "execute_result"
    }
   ],
   "source": [
    "101,111,108,128"
   ]
  },
  {
   "cell_type": "code",
   "execution_count": 8,
   "id": "489b394a",
   "metadata": {},
   "outputs": [
    {
     "data": {
      "text/plain": [
       "448"
      ]
     },
     "execution_count": 8,
     "metadata": {},
     "output_type": "execute_result"
    }
   ],
   "source": [
    "Y = 101+111+108+128\n",
    "Y"
   ]
  },
  {
   "cell_type": "code",
   "execution_count": 9,
   "id": "30fd0879",
   "metadata": {},
   "outputs": [
    {
     "data": {
      "text/plain": [
       "896"
      ]
     },
     "execution_count": 9,
     "metadata": {},
     "output_type": "execute_result"
    }
   ],
   "source": [
    "Z = Y * 2\n",
    "Z"
   ]
  },
  {
   "cell_type": "code",
   "execution_count": 10,
   "id": "b8226b31",
   "metadata": {},
   "outputs": [
    {
     "data": {
      "text/plain": [
       "149.33333333333334"
      ]
     },
     "execution_count": 10,
     "metadata": {},
     "output_type": "execute_result"
    }
   ],
   "source": [
    "Y/3"
   ]
  },
  {
   "cell_type": "code",
   "execution_count": 11,
   "id": "c3db1356",
   "metadata": {},
   "outputs": [
    {
     "data": {
      "text/plain": [
       "448"
      ]
     },
     "execution_count": 11,
     "metadata": {},
     "output_type": "execute_result"
    }
   ],
   "source": [
    "Y"
   ]
  },
  {
   "cell_type": "code",
   "execution_count": 12,
   "id": "5fb99b86",
   "metadata": {},
   "outputs": [
    {
     "data": {
      "text/plain": [
       "896"
      ]
     },
     "execution_count": 12,
     "metadata": {},
     "output_type": "execute_result"
    }
   ],
   "source": [
    "Z"
   ]
  },
  {
   "cell_type": "markdown",
   "id": "3d465bf9",
   "metadata": {},
   "source": [
    "# arithmetic operators"
   ]
  },
  {
   "cell_type": "code",
   "execution_count": 13,
   "id": "c58ab291",
   "metadata": {},
   "outputs": [],
   "source": [
    "#+,*,-,/,%,//,**"
   ]
  },
  {
   "cell_type": "markdown",
   "id": "48c77974",
   "metadata": {},
   "source": [
    "Q1. Assign two variables naming as age, weight. operate the arithmentic operations?"
   ]
  },
  {
   "cell_type": "markdown",
   "id": "2d4b234f",
   "metadata": {},
   "source": [
    "# Logical operators"
   ]
  },
  {
   "cell_type": "markdown",
   "id": "b23b0f9f",
   "metadata": {},
   "source": [
    "and, or, not,"
   ]
  },
  {
   "cell_type": "raw",
   "id": "d628208d",
   "metadata": {},
   "source": [
    "# Q2. Assign two variables naming as age, weight,weight1. operate the logical operations?"
   ]
  },
  {
   "cell_type": "code",
   "execution_count": 14,
   "id": "ece832a7",
   "metadata": {},
   "outputs": [],
   "source": [
    "age = 20\n",
    "weight = 50\n",
    "weight1 = 50"
   ]
  },
  {
   "cell_type": "code",
   "execution_count": 15,
   "id": "22c1ed98",
   "metadata": {},
   "outputs": [
    {
     "data": {
      "text/plain": [
       "50"
      ]
     },
     "execution_count": 15,
     "metadata": {},
     "output_type": "execute_result"
    }
   ],
   "source": [
    "#AND\n",
    "\n",
    "age and weight"
   ]
  },
  {
   "cell_type": "code",
   "execution_count": 16,
   "id": "f2883602",
   "metadata": {},
   "outputs": [
    {
     "data": {
      "text/plain": [
       "20"
      ]
     },
     "execution_count": 16,
     "metadata": {},
     "output_type": "execute_result"
    }
   ],
   "source": [
    "age or weight"
   ]
  },
  {
   "cell_type": "code",
   "execution_count": 17,
   "id": "983ebdc7",
   "metadata": {},
   "outputs": [
    {
     "data": {
      "text/plain": [
       "50"
      ]
     },
     "execution_count": 17,
     "metadata": {},
     "output_type": "execute_result"
    }
   ],
   "source": [
    "weight and weight1"
   ]
  },
  {
   "cell_type": "code",
   "execution_count": 18,
   "id": "b5c8e925",
   "metadata": {},
   "outputs": [
    {
     "data": {
      "text/plain": [
       "False"
      ]
     },
     "execution_count": 18,
     "metadata": {},
     "output_type": "execute_result"
    }
   ],
   "source": [
    "not weight"
   ]
  },
  {
   "cell_type": "markdown",
   "id": "18c84f4a",
   "metadata": {},
   "source": [
    "# Comparision operators"
   ]
  },
  {
   "cell_type": "markdown",
   "id": "6418536a",
   "metadata": {},
   "source": [
    "==,!=,<,<=,>,>= [ output is in bool ]"
   ]
  },
  {
   "cell_type": "markdown",
   "id": "6a31b60f",
   "metadata": {},
   "source": [
    "# Memebership operators"
   ]
  },
  {
   "cell_type": "code",
   "execution_count": 19,
   "id": "b0ba8be9",
   "metadata": {},
   "outputs": [],
   "source": [
    "#is, is not, in, not in"
   ]
  },
  {
   "cell_type": "code",
   "execution_count": 20,
   "id": "36ce77db",
   "metadata": {},
   "outputs": [],
   "source": [
    "XYZ = [21,22,0,24,26,5,10]"
   ]
  },
  {
   "cell_type": "code",
   "execution_count": 21,
   "id": "a4c937e1",
   "metadata": {},
   "outputs": [
    {
     "data": {
      "text/plain": [
       "list"
      ]
     },
     "execution_count": 21,
     "metadata": {},
     "output_type": "execute_result"
    }
   ],
   "source": [
    "type(XYZ)"
   ]
  },
  {
   "cell_type": "code",
   "execution_count": 22,
   "id": "c7d32b58",
   "metadata": {},
   "outputs": [
    {
     "data": {
      "text/plain": [
       "False"
      ]
     },
     "execution_count": 22,
     "metadata": {},
     "output_type": "execute_result"
    }
   ],
   "source": [
    "XYZ is type(XYZ)"
   ]
  },
  {
   "cell_type": "code",
   "execution_count": 23,
   "id": "88384282",
   "metadata": {},
   "outputs": [
    {
     "data": {
      "text/plain": [
       "True"
      ]
     },
     "execution_count": 23,
     "metadata": {},
     "output_type": "execute_result"
    }
   ],
   "source": [
    "21 in XYZ"
   ]
  },
  {
   "cell_type": "code",
   "execution_count": null,
   "id": "80b43567",
   "metadata": {},
   "outputs": [],
   "source": []
  },
  {
   "cell_type": "markdown",
   "id": "42eb421a",
   "metadata": {},
   "source": [
    "# Assignment operators"
   ]
  },
  {
   "cell_type": "code",
   "execution_count": 24,
   "id": "a7396562",
   "metadata": {},
   "outputs": [],
   "source": [
    "#=,+=,-=,*=,**=,/=,//=,%="
   ]
  },
  {
   "cell_type": "code",
   "execution_count": 25,
   "id": "608c378f",
   "metadata": {},
   "outputs": [],
   "source": [
    "age += 20"
   ]
  },
  {
   "cell_type": "code",
   "execution_count": 26,
   "id": "bebccc0c",
   "metadata": {},
   "outputs": [
    {
     "data": {
      "text/plain": [
       "40"
      ]
     },
     "execution_count": 26,
     "metadata": {},
     "output_type": "execute_result"
    }
   ],
   "source": [
    "age"
   ]
  },
  {
   "cell_type": "code",
   "execution_count": 27,
   "id": "51d22661",
   "metadata": {},
   "outputs": [
    {
     "data": {
      "text/plain": [
       "20"
      ]
     },
     "execution_count": 27,
     "metadata": {},
     "output_type": "execute_result"
    }
   ],
   "source": [
    "age -= 20\n",
    "age"
   ]
  },
  {
   "cell_type": "markdown",
   "id": "7baf0593",
   "metadata": {},
   "source": [
    "# String manipulation"
   ]
  },
  {
   "cell_type": "code",
   "execution_count": 28,
   "id": "d738769c",
   "metadata": {},
   "outputs": [],
   "source": [
    "data_science = '''data science is the \\tdomain of study that deals with vast volumes of \n",
    "data using modern tools and techniques to \n",
    "find unseen patterns, derive meaningful information, \\tand make business decisions'''"
   ]
  },
  {
   "cell_type": "code",
   "execution_count": 29,
   "id": "1cf56bac",
   "metadata": {},
   "outputs": [
    {
     "data": {
      "text/plain": [
       "'data science is the \\tdomain of study that deals with vast volumes of \\ndata using modern tools and techniques to \\nfind unseen patterns, derive meaningful information, \\tand make business decisions'"
      ]
     },
     "execution_count": 29,
     "metadata": {},
     "output_type": "execute_result"
    }
   ],
   "source": [
    "data_science"
   ]
  },
  {
   "cell_type": "code",
   "execution_count": 30,
   "id": "e9174100",
   "metadata": {},
   "outputs": [
    {
     "data": {
      "text/plain": [
       "'Data science is the domain of study that deals with vast volumes of \\ndata using modern tools and techniques to\\nfind unseen patterns, derive meaningful information, and make business decisions'"
      ]
     },
     "execution_count": 30,
     "metadata": {},
     "output_type": "execute_result"
    }
   ],
   "source": [
    "'Data science is the domain of study that deals with vast volumes of \\ndata using modern tools and techniques to\\nfind unseen patterns, derive meaningful information, and make business decisions'"
   ]
  },
  {
   "cell_type": "code",
   "execution_count": 31,
   "id": "d27169c9",
   "metadata": {},
   "outputs": [
    {
     "data": {
      "text/plain": [
       "str"
      ]
     },
     "execution_count": 31,
     "metadata": {},
     "output_type": "execute_result"
    }
   ],
   "source": [
    "type(data_science)"
   ]
  },
  {
   "cell_type": "code",
   "execution_count": 32,
   "id": "132b2670",
   "metadata": {},
   "outputs": [
    {
     "data": {
      "text/plain": [
       "'Data science is the \\tdomain of study that deals with vast volumes of \\ndata using modern tools and techniques to \\nfind unseen patterns, derive meaningful information, \\tand make business decisions'"
      ]
     },
     "execution_count": 32,
     "metadata": {},
     "output_type": "execute_result"
    }
   ],
   "source": [
    "data_science.capitalize()\n"
   ]
  },
  {
   "cell_type": "markdown",
   "id": "fbc972c2",
   "metadata": {},
   "source": [
    "variables"
   ]
  },
  {
   "cell_type": "code",
   "execution_count": 33,
   "id": "fff3fe4d",
   "metadata": {},
   "outputs": [
    {
     "data": {
      "text/plain": [
       "'data science is the \\tdomain of study that deals with vast volumes of \\ndata using modern tools and techniques to \\nfind unseen patterns, derive meaningful information, \\tand make business decisions'"
      ]
     },
     "execution_count": 33,
     "metadata": {},
     "output_type": "execute_result"
    }
   ],
   "source": [
    "data_science.casefold()"
   ]
  },
  {
   "cell_type": "code",
   "execution_count": 34,
   "id": "f6c88c9b",
   "metadata": {},
   "outputs": [
    {
     "data": {
      "text/plain": [
       "'data science is the \\tdomain of study that deals with vast volumes of \\ndata using modern tools and techniques to \\nfind unseen patterns, derive meaningful information, \\tand make business decisions'"
      ]
     },
     "execution_count": 34,
     "metadata": {},
     "output_type": "execute_result"
    }
   ],
   "source": [
    "data_science.center(5, ' ')"
   ]
  },
  {
   "cell_type": "code",
   "execution_count": 35,
   "id": "481df854",
   "metadata": {},
   "outputs": [],
   "source": [
    "en = data_science.encode(encoding='ASCII', errors='strict')"
   ]
  },
  {
   "cell_type": "code",
   "execution_count": 36,
   "id": "effe3e64",
   "metadata": {},
   "outputs": [
    {
     "data": {
      "text/plain": [
       "b'data science is the \\tdomain of study that deals with vast volumes of \\ndata using modern tools and techniques to \\nfind unseen patterns, derive meaningful information, \\tand make business decisions'"
      ]
     },
     "execution_count": 36,
     "metadata": {},
     "output_type": "execute_result"
    }
   ],
   "source": [
    "en"
   ]
  },
  {
   "cell_type": "code",
   "execution_count": 37,
   "id": "ed9a2df2",
   "metadata": {},
   "outputs": [
    {
     "data": {
      "text/plain": [
       "'data science is the \\tdomain of study that deals with vast volumes of \\ndata using modern tools and techniques to \\nfind unseen patterns, derive meaningful information, \\tand make business decisions'"
      ]
     },
     "execution_count": 37,
     "metadata": {},
     "output_type": "execute_result"
    }
   ],
   "source": [
    "data_science"
   ]
  },
  {
   "cell_type": "code",
   "execution_count": 38,
   "id": "9f45a650",
   "metadata": {},
   "outputs": [
    {
     "data": {
      "text/plain": [
       "True"
      ]
     },
     "execution_count": 38,
     "metadata": {},
     "output_type": "execute_result"
    }
   ],
   "source": [
    "data_science.endswith('s')"
   ]
  },
  {
   "cell_type": "code",
   "execution_count": 39,
   "id": "c5763f4f",
   "metadata": {},
   "outputs": [
    {
     "data": {
      "text/plain": [
       "True"
      ]
     },
     "execution_count": 39,
     "metadata": {},
     "output_type": "execute_result"
    }
   ],
   "source": [
    "data_science.startswith('d')"
   ]
  },
  {
   "cell_type": "code",
   "execution_count": 40,
   "id": "bc073864",
   "metadata": {},
   "outputs": [
    {
     "data": {
      "text/plain": [
       "'data science is the     domain of study that deals with vast volumes of \\ndata using modern tools and techniques to \\nfind unseen patterns, derive meaningful information,    and make business decisions'"
      ]
     },
     "execution_count": 40,
     "metadata": {},
     "output_type": "execute_result"
    }
   ],
   "source": [
    "data_science.expandtabs()\n"
   ]
  },
  {
   "cell_type": "code",
   "execution_count": 41,
   "id": "35aa4dda",
   "metadata": {},
   "outputs": [
    {
     "data": {
      "text/plain": [
       "45"
      ]
     },
     "execution_count": 41,
     "metadata": {},
     "output_type": "execute_result"
    }
   ],
   "source": [
    "data_science.find('l')"
   ]
  },
  {
   "cell_type": "code",
   "execution_count": 42,
   "id": "02c9e93c",
   "metadata": {},
   "outputs": [
    {
     "data": {
      "text/plain": [
       "21"
      ]
     },
     "execution_count": 42,
     "metadata": {},
     "output_type": "execute_result"
    }
   ],
   "source": [
    "data_science.index('domain')"
   ]
  },
  {
   "cell_type": "code",
   "execution_count": 43,
   "id": "cfe0b87b",
   "metadata": {},
   "outputs": [
    {
     "data": {
      "text/plain": [
       "'data science is the \\tdomain of study that deals with vast volumes of \\ndata using modern tools and techniques to \\nfind unseen patterns, derive meaningful information, \\tand make business decisions'"
      ]
     },
     "execution_count": 43,
     "metadata": {},
     "output_type": "execute_result"
    }
   ],
   "source": [
    "data_science.ljust(10,'/')"
   ]
  },
  {
   "cell_type": "code",
   "execution_count": 44,
   "id": "dfad7b56",
   "metadata": {},
   "outputs": [],
   "source": [
    "tt= data_science.split('e')"
   ]
  },
  {
   "cell_type": "code",
   "execution_count": 45,
   "id": "dfc6075e",
   "metadata": {},
   "outputs": [
    {
     "data": {
      "text/plain": [
       "18"
      ]
     },
     "execution_count": 45,
     "metadata": {},
     "output_type": "execute_result"
    }
   ],
   "source": [
    "len(tt)"
   ]
  },
  {
   "cell_type": "code",
   "execution_count": 46,
   "id": "8ea1b4da",
   "metadata": {},
   "outputs": [
    {
     "data": {
      "text/plain": [
       "'  data sci'"
      ]
     },
     "execution_count": 46,
     "metadata": {},
     "output_type": "execute_result"
    }
   ],
   "source": [
    "tt[0].rjust(10)"
   ]
  },
  {
   "cell_type": "code",
   "execution_count": 47,
   "id": "e8138acd",
   "metadata": {},
   "outputs": [],
   "source": [
    "r = 'excelr'"
   ]
  },
  {
   "cell_type": "code",
   "execution_count": 48,
   "id": "75b1ad3f",
   "metadata": {},
   "outputs": [
    {
     "data": {
      "text/plain": [
       "'excelr'"
      ]
     },
     "execution_count": 48,
     "metadata": {},
     "output_type": "execute_result"
    }
   ],
   "source": [
    "r.rjust(5,' ')"
   ]
  },
  {
   "cell_type": "code",
   "execution_count": 49,
   "id": "27edc832",
   "metadata": {},
   "outputs": [],
   "source": [
    "t = 'Excelr'"
   ]
  },
  {
   "cell_type": "code",
   "execution_count": 50,
   "id": "23b9411c",
   "metadata": {},
   "outputs": [
    {
     "data": {
      "text/plain": [
       "'Excelr science is the \\tdomain of study that deals with vast volumes of \\nExcelr using modern tools and techniques to \\nfind unseen patterns, derive meaningful information, \\tand make business decisions'"
      ]
     },
     "execution_count": 50,
     "metadata": {},
     "output_type": "execute_result"
    }
   ],
   "source": [
    "data_science.replace('data','Excelr')"
   ]
  },
  {
   "cell_type": "code",
   "execution_count": 51,
   "id": "e617aec3",
   "metadata": {},
   "outputs": [],
   "source": [
    "ff = data_science.swapcase()"
   ]
  },
  {
   "cell_type": "code",
   "execution_count": 52,
   "id": "6b8a41f3",
   "metadata": {},
   "outputs": [
    {
     "data": {
      "text/plain": [
       "'data science is the \\tdomain of study that deals with vast volumes of \\ndata using modern tools and techniques to \\nfind unseen patterns, derive meaningful information, \\tand make business decisions'"
      ]
     },
     "execution_count": 52,
     "metadata": {},
     "output_type": "execute_result"
    }
   ],
   "source": [
    "ff.swapcase()"
   ]
  },
  {
   "cell_type": "code",
   "execution_count": 53,
   "id": "403bc76d",
   "metadata": {},
   "outputs": [
    {
     "data": {
      "text/plain": [
       "'data science is the \\tdomain of study that deals with vast volumes of \\ndata using modern tools and techniques to \\nfind unseen patterns, derive meaningful information, \\tand make business decisions'"
      ]
     },
     "execution_count": 53,
     "metadata": {},
     "output_type": "execute_result"
    }
   ],
   "source": [
    "data_science.zfill(0)"
   ]
  },
  {
   "cell_type": "code",
   "execution_count": 63,
   "id": "6327c248",
   "metadata": {},
   "outputs": [
    {
     "data": {
      "text/plain": [
       "str"
      ]
     },
     "execution_count": 63,
     "metadata": {},
     "output_type": "execute_result"
    }
   ],
   "source": [
    "type(data_science)"
   ]
  },
  {
   "cell_type": "code",
   "execution_count": 65,
   "id": "44e5dafe",
   "metadata": {},
   "outputs": [
    {
     "data": {
      "text/plain": [
       "int"
      ]
     },
     "execution_count": 65,
     "metadata": {},
     "output_type": "execute_result"
    }
   ],
   "source": [
    "t3 = 9.0\n",
    "type(int(t3))"
   ]
  },
  {
   "cell_type": "code",
   "execution_count": 68,
   "id": "4fd94699",
   "metadata": {},
   "outputs": [],
   "source": [
    "data_science1 ='10'"
   ]
  },
  {
   "cell_type": "code",
   "execution_count": 69,
   "id": "e7d3457e",
   "metadata": {},
   "outputs": [
    {
     "data": {
      "text/plain": [
       "10"
      ]
     },
     "execution_count": 69,
     "metadata": {},
     "output_type": "execute_result"
    }
   ],
   "source": [
    "int(data_science1)"
   ]
  },
  {
   "cell_type": "code",
   "execution_count": null,
   "id": "9d7794e4",
   "metadata": {},
   "outputs": [],
   "source": [
    "data_science[::2]"
   ]
  },
  {
   "cell_type": "code",
   "execution_count": null,
   "id": "268d1f77",
   "metadata": {},
   "outputs": [],
   "source": [
    "int()\n",
    "str()\n",
    "float()\n",
    "complex()\n",
    "bool()\n",
    "list()\n",
    "dict()\n",
    "tuple()"
   ]
  },
  {
   "cell_type": "code",
   "execution_count": null,
   "id": "4377e3c1",
   "metadata": {},
   "outputs": [],
   "source": []
  },
  {
   "cell_type": "code",
   "execution_count": 70,
   "id": "947c78f3",
   "metadata": {},
   "outputs": [
    {
     "data": {
      "text/plain": [
       "int"
      ]
     },
     "execution_count": 70,
     "metadata": {},
     "output_type": "execute_result"
    }
   ],
   "source": [
    "age = 56.0\n",
    "type(int(age))"
   ]
  },
  {
   "cell_type": "code",
   "execution_count": 72,
   "id": "015cfc97",
   "metadata": {},
   "outputs": [
    {
     "name": "stdout",
     "output_type": "stream",
     "text": [
      "5858\n"
     ]
    }
   ],
   "source": [
    "weight = '58' *2\n",
    "type(weight * 0)\n",
    "print(weight)"
   ]
  },
  {
   "cell_type": "code",
   "execution_count": 73,
   "id": "d9217627",
   "metadata": {},
   "outputs": [
    {
     "data": {
      "text/plain": [
       "'data science is the \\tdomain of study that deals with vast volumes of \\ndata using modern tools and techniques to \\nfind unseen patterns, derive meaningful information, \\tand make business decisions'"
      ]
     },
     "execution_count": 73,
     "metadata": {},
     "output_type": "execute_result"
    }
   ],
   "source": [
    "data_science"
   ]
  },
  {
   "cell_type": "code",
   "execution_count": null,
   "id": "66b9fc0f",
   "metadata": {},
   "outputs": [],
   "source": [
    "data_science1"
   ]
  },
  {
   "cell_type": "code",
   "execution_count": 74,
   "id": "65a74eb3",
   "metadata": {},
   "outputs": [
    {
     "data": {
      "text/plain": [
       "'dt'"
      ]
     },
     "execution_count": 74,
     "metadata": {},
     "output_type": "execute_result"
    }
   ],
   "source": [
    "data_science[0:4:2]"
   ]
  },
  {
   "cell_type": "code",
   "execution_count": null,
   "id": "f707027a",
   "metadata": {},
   "outputs": [],
   "source": [
    "data_science[0:78]"
   ]
  },
  {
   "cell_type": "code",
   "execution_count": 78,
   "id": "d6db5f7a",
   "metadata": {},
   "outputs": [
    {
     "data": {
      "text/plain": [
       "' ei'"
      ]
     },
     "execution_count": 78,
     "metadata": {},
     "output_type": "execute_result"
    }
   ],
   "source": [
    "data_science[-10:-5:2]"
   ]
  },
  {
   "cell_type": "markdown",
   "id": "b5939254",
   "metadata": {},
   "source": [
    "accessing index:\n",
    "[start:End:Step]\n"
   ]
  },
  {
   "cell_type": "code",
   "execution_count": null,
   "id": "014eab6a",
   "metadata": {},
   "outputs": [],
   "source": [
    "data_science[0:10:2]"
   ]
  },
  {
   "cell_type": "code",
   "execution_count": null,
   "id": "7ecc470f",
   "metadata": {},
   "outputs": [],
   "source": [
    "data_science[-10:-1:2]"
   ]
  },
  {
   "cell_type": "code",
   "execution_count": 55,
   "id": "d3bc1de8",
   "metadata": {},
   "outputs": [
    {
     "data": {
      "text/plain": [
       "'data '"
      ]
     },
     "execution_count": 55,
     "metadata": {},
     "output_type": "execute_result"
    }
   ],
   "source": [
    "data_science[:5:]"
   ]
  },
  {
   "cell_type": "code",
   "execution_count": 56,
   "id": "68a87059",
   "metadata": {},
   "outputs": [
    {
     "data": {
      "text/plain": [
       "'dc ea  dwalotneodn isasiauoonenen'"
      ]
     },
     "execution_count": 56,
     "metadata": {},
     "output_type": "execute_result"
    }
   ],
   "source": [
    "data_science[::6]"
   ]
  },
  {
   "cell_type": "code",
   "execution_count": 79,
   "id": "0f25f671",
   "metadata": {},
   "outputs": [
    {
     "data": {
      "text/plain": [
       "(56.0, '5858')"
      ]
     },
     "execution_count": 79,
     "metadata": {},
     "output_type": "execute_result"
    }
   ],
   "source": [
    "# formating using format\n",
    "age,weight"
   ]
  },
  {
   "cell_type": "code",
   "execution_count": 84,
   "id": "92e0534d",
   "metadata": {},
   "outputs": [],
   "source": [
    "statment = 'My age is {}, my weight is {},my friends age is {}, and weight is {}'"
   ]
  },
  {
   "cell_type": "code",
   "execution_count": 85,
   "id": "2bb7e76d",
   "metadata": {},
   "outputs": [
    {
     "data": {
      "text/plain": [
       "'My age is 56.0, my weight is 5858,my friends age is 56.0, and weight is 5858'"
      ]
     },
     "execution_count": 85,
     "metadata": {},
     "output_type": "execute_result"
    }
   ],
   "source": [
    "statment.format(age,weight,age,weight)"
   ]
  },
  {
   "cell_type": "code",
   "execution_count": 86,
   "id": "041e685d",
   "metadata": {},
   "outputs": [
    {
     "data": {
      "text/plain": [
       "'My age is 5858, my weight is 5858.56.0,66.0'"
      ]
     },
     "execution_count": 86,
     "metadata": {},
     "output_type": "execute_result"
    }
   ],
   "source": [
    "statment1 = f'My age is {weight}, my weight is {weight}.{age},{age + 10}'\n",
    "statment1"
   ]
  },
  {
   "cell_type": "code",
   "execution_count": 87,
   "id": "97c3c884",
   "metadata": {},
   "outputs": [
    {
     "data": {
      "text/plain": [
       "'56.0,5858'"
      ]
     },
     "execution_count": 87,
     "metadata": {},
     "output_type": "execute_result"
    }
   ],
   "source": [
    "f'{age},{weight}'"
   ]
  },
  {
   "cell_type": "markdown",
   "id": "08e58aae",
   "metadata": {},
   "source": [
    "# User input funciton\n",
    "input()"
   ]
  },
  {
   "cell_type": "code",
   "execution_count": 89,
   "id": "51c8bbd2",
   "metadata": {},
   "outputs": [
    {
     "name": "stdout",
     "output_type": "stream",
     "text": [
      "56\n"
     ]
    }
   ],
   "source": [
    "x = int(input())\n"
   ]
  },
  {
   "cell_type": "code",
   "execution_count": 90,
   "id": "0198c91f",
   "metadata": {},
   "outputs": [
    {
     "name": "stdout",
     "output_type": "stream",
     "text": [
      "56\n"
     ]
    },
    {
     "data": {
      "text/plain": [
       "int"
      ]
     },
     "execution_count": 90,
     "metadata": {},
     "output_type": "execute_result"
    }
   ],
   "source": [
    "print(x)\n",
    "type(x)"
   ]
  },
  {
   "cell_type": "code",
   "execution_count": null,
   "id": "fef4195e",
   "metadata": {},
   "outputs": [],
   "source": [
    "type(y)"
   ]
  },
  {
   "cell_type": "code",
   "execution_count": 91,
   "id": "09715500",
   "metadata": {},
   "outputs": [
    {
     "name": "stdout",
     "output_type": "stream",
     "text": [
      "63\n"
     ]
    }
   ],
   "source": [
    "Z = int(input())"
   ]
  },
  {
   "cell_type": "code",
   "execution_count": 92,
   "id": "e11254ed",
   "metadata": {},
   "outputs": [
    {
     "data": {
      "text/plain": [
       "int"
      ]
     },
     "execution_count": 92,
     "metadata": {},
     "output_type": "execute_result"
    }
   ],
   "source": [
    "type(Z)"
   ]
  },
  {
   "cell_type": "code",
   "execution_count": 93,
   "id": "dd1b03e5",
   "metadata": {},
   "outputs": [
    {
     "name": "stdout",
     "output_type": "stream",
     "text": [
      "Please give your correct age: 63\n",
      "63\n"
     ]
    }
   ],
   "source": [
    "x1 = input('Please give your correct age: ')\n",
    "print(x1)"
   ]
  },
  {
   "cell_type": "code",
   "execution_count": 94,
   "id": "700994aa",
   "metadata": {},
   "outputs": [
    {
     "name": "stdout",
     "output_type": "stream",
     "text": [
      "12\n",
      "from the data\n"
     ]
    },
    {
     "data": {
      "text/plain": [
       "'Data science is the study of data12 to extract meaningful insights for business.from the data'"
      ]
     },
     "execution_count": 94,
     "metadata": {},
     "output_type": "execute_result"
    }
   ],
   "source": [
    "f'Data science is the study of data{input()} to extract meaningful insights for business.{input()}'"
   ]
  },
  {
   "cell_type": "code",
   "execution_count": 95,
   "id": "d38b5e17",
   "metadata": {},
   "outputs": [
    {
     "name": "stdout",
     "output_type": "stream",
     "text": [
      "60%\n",
      "30%\n",
      "On an average my students atendence is 60%, and absence is 30%\n"
     ]
    }
   ],
   "source": [
    "student_details = f'On an average my students atendence is {input()}, and absence is {input()}'\n",
    "print(student_details)\n"
   ]
  },
  {
   "cell_type": "code",
   "execution_count": 96,
   "id": "9c08b657",
   "metadata": {},
   "outputs": [
    {
     "name": "stdout",
     "output_type": "stream",
     "text": [
      "On an average my students atendence is 60%, and absence is 30%\n"
     ]
    }
   ],
   "source": [
    "print(student_details)"
   ]
  },
  {
   "cell_type": "markdown",
   "id": "6ee91644",
   "metadata": {},
   "source": [
    "### string concatination"
   ]
  },
  {
   "cell_type": "code",
   "execution_count": 97,
   "id": "4e50a844",
   "metadata": {},
   "outputs": [
    {
     "data": {
      "text/plain": [
       "('My age is 5858, my weight is 5858.56.0,66.0',\n",
       " 'On an average my students atendence is 60%, and absence is 30%')"
      ]
     },
     "execution_count": 97,
     "metadata": {},
     "output_type": "execute_result"
    }
   ],
   "source": [
    "statment1,student_details"
   ]
  },
  {
   "cell_type": "code",
   "execution_count": 101,
   "id": "2080a55c",
   "metadata": {},
   "outputs": [
    {
     "data": {
      "text/plain": [
       "'My age is 5858, my weight is 5858.56.0,66.0 On an average my students atendence is 60%, and absence is 30%'"
      ]
     },
     "execution_count": 101,
     "metadata": {},
     "output_type": "execute_result"
    }
   ],
   "source": [
    "statment1+' '  + student_details"
   ]
  },
  {
   "cell_type": "code",
   "execution_count": 102,
   "id": "cf736626",
   "metadata": {},
   "outputs": [
    {
     "data": {
      "text/plain": [
       "68"
      ]
     },
     "execution_count": 102,
     "metadata": {},
     "output_type": "execute_result"
    }
   ],
   "source": [
    "len(statment)"
   ]
  },
  {
   "cell_type": "code",
   "execution_count": 103,
   "id": "5937f3e0",
   "metadata": {},
   "outputs": [
    {
     "data": {
      "text/plain": [
       "43"
      ]
     },
     "execution_count": 103,
     "metadata": {},
     "output_type": "execute_result"
    }
   ],
   "source": [
    "len(statment1)"
   ]
  },
  {
   "cell_type": "code",
   "execution_count": null,
   "id": "834abf46",
   "metadata": {},
   "outputs": [],
   "source": [
    ".format(), f'',input(),len()\n"
   ]
  },
  {
   "cell_type": "markdown",
   "id": "ce2ef6c7",
   "metadata": {},
   "source": [
    "Task 2: create a Three variables and use input() to get the values/statment of variables, to calcute/check which string has greater length?"
   ]
  },
  {
   "cell_type": "markdown",
   "id": "65543714",
   "metadata": {},
   "source": [
    "# List"
   ]
  },
  {
   "cell_type": "code",
   "execution_count": 106,
   "id": "243c2c47",
   "metadata": {},
   "outputs": [],
   "source": [
    "L1 = [10,11,12,13,14,15,16,15]"
   ]
  },
  {
   "cell_type": "code",
   "execution_count": 105,
   "id": "5b69b656",
   "metadata": {},
   "outputs": [
    {
     "data": {
      "text/plain": [
       "9.0"
      ]
     },
     "execution_count": 105,
     "metadata": {},
     "output_type": "execute_result"
    }
   ],
   "source": [
    "t3"
   ]
  },
  {
   "cell_type": "code",
   "execution_count": 108,
   "id": "ea5c05ee",
   "metadata": {},
   "outputs": [
    {
     "data": {
      "text/plain": [
       "int"
      ]
     },
     "execution_count": 108,
     "metadata": {},
     "output_type": "execute_result"
    }
   ],
   "source": [
    "type(L1[0])"
   ]
  },
  {
   "cell_type": "code",
   "execution_count": 115,
   "id": "60129d76",
   "metadata": {},
   "outputs": [
    {
     "data": {
      "text/plain": [
       "[10, 11, 12, 13, 14, 15, 16, 15]"
      ]
     },
     "execution_count": 115,
     "metadata": {},
     "output_type": "execute_result"
    }
   ],
   "source": [
    "L1[::]"
   ]
  },
  {
   "cell_type": "code",
   "execution_count": 110,
   "id": "b55837eb",
   "metadata": {},
   "outputs": [],
   "source": [
    "L2 = [56,'name',1J+2,6.0,True,False]"
   ]
  },
  {
   "cell_type": "code",
   "execution_count": 111,
   "id": "d34e3e5a",
   "metadata": {},
   "outputs": [
    {
     "data": {
      "text/plain": [
       "float"
      ]
     },
     "execution_count": 111,
     "metadata": {},
     "output_type": "execute_result"
    }
   ],
   "source": [
    "type(L2[3])"
   ]
  },
  {
   "cell_type": "code",
   "execution_count": 116,
   "id": "350cb4d8",
   "metadata": {},
   "outputs": [],
   "source": [
    "L2[1] = 'Excelr'"
   ]
  },
  {
   "cell_type": "code",
   "execution_count": 117,
   "id": "7530adca",
   "metadata": {},
   "outputs": [
    {
     "data": {
      "text/plain": [
       "[56, 'Excelr', (2+1j), 6.0, True, False]"
      ]
     },
     "execution_count": 117,
     "metadata": {},
     "output_type": "execute_result"
    }
   ],
   "source": [
    "L2"
   ]
  },
  {
   "cell_type": "raw",
   "id": "0606e1e7",
   "metadata": {},
   "source": [
    "# Data structers\n",
    "1) String\n",
    "2) List\n",
    "3)Set\n",
    "4)tuple\n",
    "5)Dictionary"
   ]
  },
  {
   "cell_type": "raw",
   "id": "b637c0fd",
   "metadata": {},
   "source": [
    "String : Slicing, joining, Concatination,Access,Updation,Deletion, iterating, casting."
   ]
  },
  {
   "cell_type": "markdown",
   "id": "6654b3c9",
   "metadata": {},
   "source": [
    "List: Slicing, access, Updation ,Deleting, iterating, casting."
   ]
  },
  {
   "cell_type": "markdown",
   "id": "771b363e",
   "metadata": {},
   "source": [
    "tuple: Slicing, Access, iterate, Casting."
   ]
  },
  {
   "cell_type": "markdown",
   "id": "b4a1b908",
   "metadata": {},
   "source": [
    "Set: Iterate, Casting, updating, deletion, Set operation(Union, diffrence, Intersection)"
   ]
  },
  {
   "cell_type": "markdown",
   "id": "2d4c165f",
   "metadata": {},
   "source": [
    "Dict : Slicing using fucntion, Access elements using(functions), Deleting , iterating, casting(only useing fuctiion)"
   ]
  },
  {
   "cell_type": "code",
   "execution_count": null,
   "id": "0c0f745f",
   "metadata": {},
   "outputs": [],
   "source": []
  },
  {
   "cell_type": "code",
   "execution_count": 118,
   "id": "214c5700",
   "metadata": {},
   "outputs": [],
   "source": [
    "L1 = [10,11,12,13,14,15,16,15]\n",
    "L2 =  [11,15,18,19,16,17,12]"
   ]
  },
  {
   "cell_type": "code",
   "execution_count": null,
   "id": "a54d10dc",
   "metadata": {},
   "outputs": [],
   "source": [
    "print(L1[0:7:2])"
   ]
  },
  {
   "cell_type": "markdown",
   "id": "0e8f0840",
   "metadata": {},
   "source": [
    "[start : end : step]"
   ]
  },
  {
   "cell_type": "code",
   "execution_count": 119,
   "id": "1c7a3e04",
   "metadata": {},
   "outputs": [
    {
     "data": {
      "text/plain": [
       "[10, 11, 12, 13, 14, 15, 16, 15, 11, 15, 18, 19, 16, 17, 12]"
      ]
     },
     "execution_count": 119,
     "metadata": {},
     "output_type": "execute_result"
    }
   ],
   "source": [
    "L1 + L2"
   ]
  },
  {
   "cell_type": "code",
   "execution_count": 121,
   "id": "7ae1085d",
   "metadata": {},
   "outputs": [
    {
     "data": {
      "text/plain": [
       "[10, 11, 12, 13, 14, 15, 16, 15, 10, 11, 12, 13, 14, 15, 16, 15]"
      ]
     },
     "execution_count": 121,
     "metadata": {},
     "output_type": "execute_result"
    }
   ],
   "source": [
    "L1*2"
   ]
  },
  {
   "cell_type": "code",
   "execution_count": null,
   "id": "4bcd764f",
   "metadata": {},
   "outputs": [],
   "source": [
    "L1 * L2"
   ]
  },
  {
   "cell_type": "code",
   "execution_count": null,
   "id": "d5529cdc",
   "metadata": {},
   "outputs": [],
   "source": [
    "L1"
   ]
  },
  {
   "cell_type": "code",
   "execution_count": 122,
   "id": "fc9f7451",
   "metadata": {},
   "outputs": [],
   "source": [
    "L1[7] = 17"
   ]
  },
  {
   "cell_type": "code",
   "execution_count": 123,
   "id": "952d22fc",
   "metadata": {},
   "outputs": [
    {
     "data": {
      "text/plain": [
       "[10, 11, 12, 13, 14, 15, 16, 17]"
      ]
     },
     "execution_count": 123,
     "metadata": {},
     "output_type": "execute_result"
    }
   ],
   "source": [
    "L1"
   ]
  },
  {
   "cell_type": "code",
   "execution_count": 126,
   "id": "cd7f13ba",
   "metadata": {},
   "outputs": [],
   "source": [
    "L1.append([19,20])"
   ]
  },
  {
   "cell_type": "code",
   "execution_count": 127,
   "id": "6ff33ff1",
   "metadata": {},
   "outputs": [
    {
     "data": {
      "text/plain": [
       "[10, 11, 12, 13, 14, 15, 16, 17, 19, [19, 20]]"
      ]
     },
     "execution_count": 127,
     "metadata": {},
     "output_type": "execute_result"
    }
   ],
   "source": [
    "L1"
   ]
  },
  {
   "cell_type": "code",
   "execution_count": null,
   "id": "ded08676",
   "metadata": {},
   "outputs": [],
   "source": [
    "L1.clear()"
   ]
  },
  {
   "cell_type": "code",
   "execution_count": null,
   "id": "b56e1605",
   "metadata": {},
   "outputs": [],
   "source": [
    "L1"
   ]
  },
  {
   "cell_type": "code",
   "execution_count": 128,
   "id": "de11c3df",
   "metadata": {},
   "outputs": [
    {
     "data": {
      "text/plain": [
       "[10, 11, 12, 13, 14, 15, 16, 17, 19, [19, 20]]"
      ]
     },
     "execution_count": 128,
     "metadata": {},
     "output_type": "execute_result"
    }
   ],
   "source": [
    "L3 = L1.copy()\n",
    "L3"
   ]
  },
  {
   "cell_type": "code",
   "execution_count": 129,
   "id": "311ef054",
   "metadata": {},
   "outputs": [
    {
     "data": {
      "text/plain": [
       "[10, 11, 12, 13, 14, 15, 16, 17, 19, [19, 20]]"
      ]
     },
     "execution_count": 129,
     "metadata": {},
     "output_type": "execute_result"
    }
   ],
   "source": [
    "L3"
   ]
  },
  {
   "cell_type": "code",
   "execution_count": 131,
   "id": "16a83d15",
   "metadata": {},
   "outputs": [
    {
     "data": {
      "text/plain": [
       "0"
      ]
     },
     "execution_count": 131,
     "metadata": {},
     "output_type": "execute_result"
    }
   ],
   "source": [
    "L3.count(0)"
   ]
  },
  {
   "cell_type": "code",
   "execution_count": 132,
   "id": "962e3ee9",
   "metadata": {},
   "outputs": [],
   "source": [
    "L3.extend(L2)"
   ]
  },
  {
   "cell_type": "code",
   "execution_count": 133,
   "id": "2afa2f41",
   "metadata": {},
   "outputs": [
    {
     "data": {
      "text/plain": [
       "[10, 11, 12, 13, 14, 15, 16, 17, 19, [19, 20], 11, 15, 18, 19, 16, 17, 12]"
      ]
     },
     "execution_count": 133,
     "metadata": {},
     "output_type": "execute_result"
    }
   ],
   "source": [
    "L3"
   ]
  },
  {
   "cell_type": "code",
   "execution_count": 134,
   "id": "d07cd6d5",
   "metadata": {},
   "outputs": [],
   "source": [
    "L2.extend(L3)"
   ]
  },
  {
   "cell_type": "code",
   "execution_count": 135,
   "id": "f6d325f0",
   "metadata": {},
   "outputs": [
    {
     "data": {
      "text/plain": [
       "[11,\n",
       " 15,\n",
       " 18,\n",
       " 19,\n",
       " 16,\n",
       " 17,\n",
       " 12,\n",
       " 10,\n",
       " 11,\n",
       " 12,\n",
       " 13,\n",
       " 14,\n",
       " 15,\n",
       " 16,\n",
       " 17,\n",
       " 19,\n",
       " [19, 20],\n",
       " 11,\n",
       " 15,\n",
       " 18,\n",
       " 19,\n",
       " 16,\n",
       " 17,\n",
       " 12]"
      ]
     },
     "execution_count": 135,
     "metadata": {},
     "output_type": "execute_result"
    }
   ],
   "source": [
    "L2"
   ]
  },
  {
   "cell_type": "code",
   "execution_count": null,
   "id": "fe871897",
   "metadata": {},
   "outputs": [],
   "source": [
    "s = 'Excelr'"
   ]
  },
  {
   "cell_type": "code",
   "execution_count": null,
   "id": "1c2d6f3a",
   "metadata": {},
   "outputs": [],
   "source": [
    "type(s)"
   ]
  },
  {
   "cell_type": "code",
   "execution_count": 137,
   "id": "2fbe04ed",
   "metadata": {},
   "outputs": [
    {
     "data": {
      "text/plain": [
       "2"
      ]
     },
     "execution_count": 137,
     "metadata": {},
     "output_type": "execute_result"
    }
   ],
   "source": [
    "L2.index(15)"
   ]
  },
  {
   "cell_type": "code",
   "execution_count": 138,
   "id": "5f4315aa",
   "metadata": {},
   "outputs": [],
   "source": [
    "L2.insert(1,10)"
   ]
  },
  {
   "cell_type": "code",
   "execution_count": 139,
   "id": "2dcc10aa",
   "metadata": {},
   "outputs": [
    {
     "data": {
      "text/plain": [
       "[11,\n",
       " 10,\n",
       " 10,\n",
       " 15,\n",
       " 18,\n",
       " 19,\n",
       " 16,\n",
       " 17,\n",
       " 12,\n",
       " 10,\n",
       " 11,\n",
       " 12,\n",
       " 13,\n",
       " 14,\n",
       " 15,\n",
       " 16,\n",
       " 17,\n",
       " 19,\n",
       " [19, 20],\n",
       " 11,\n",
       " 15,\n",
       " 18,\n",
       " 19,\n",
       " 16,\n",
       " 17,\n",
       " 12]"
      ]
     },
     "execution_count": 139,
     "metadata": {},
     "output_type": "execute_result"
    }
   ],
   "source": [
    "L2"
   ]
  },
  {
   "cell_type": "code",
   "execution_count": 141,
   "id": "66cb092b",
   "metadata": {},
   "outputs": [
    {
     "data": {
      "text/plain": [
       "17"
      ]
     },
     "execution_count": 141,
     "metadata": {},
     "output_type": "execute_result"
    }
   ],
   "source": [
    "L2.pop()"
   ]
  },
  {
   "cell_type": "code",
   "execution_count": 142,
   "id": "ca81c81e",
   "metadata": {},
   "outputs": [
    {
     "data": {
      "text/plain": [
       "[11,\n",
       " 10,\n",
       " 10,\n",
       " 15,\n",
       " 18,\n",
       " 19,\n",
       " 16,\n",
       " 17,\n",
       " 12,\n",
       " 10,\n",
       " 11,\n",
       " 12,\n",
       " 13,\n",
       " 14,\n",
       " 15,\n",
       " 16,\n",
       " 17,\n",
       " 19,\n",
       " [19, 20],\n",
       " 11,\n",
       " 15,\n",
       " 18,\n",
       " 19,\n",
       " 16]"
      ]
     },
     "execution_count": 142,
     "metadata": {},
     "output_type": "execute_result"
    }
   ],
   "source": [
    "L2"
   ]
  },
  {
   "cell_type": "code",
   "execution_count": 143,
   "id": "910fc120",
   "metadata": {},
   "outputs": [],
   "source": [
    "L2.remove(15)"
   ]
  },
  {
   "cell_type": "code",
   "execution_count": 144,
   "id": "1cc0bf6f",
   "metadata": {},
   "outputs": [
    {
     "data": {
      "text/plain": [
       "[11,\n",
       " 10,\n",
       " 10,\n",
       " 18,\n",
       " 19,\n",
       " 16,\n",
       " 17,\n",
       " 12,\n",
       " 10,\n",
       " 11,\n",
       " 12,\n",
       " 13,\n",
       " 14,\n",
       " 15,\n",
       " 16,\n",
       " 17,\n",
       " 19,\n",
       " [19, 20],\n",
       " 11,\n",
       " 15,\n",
       " 18,\n",
       " 19,\n",
       " 16]"
      ]
     },
     "execution_count": 144,
     "metadata": {},
     "output_type": "execute_result"
    }
   ],
   "source": [
    "L2"
   ]
  },
  {
   "cell_type": "code",
   "execution_count": 145,
   "id": "5d2cad5c",
   "metadata": {},
   "outputs": [],
   "source": [
    "L2.reverse()"
   ]
  },
  {
   "cell_type": "code",
   "execution_count": 146,
   "id": "fb0ca97a",
   "metadata": {},
   "outputs": [
    {
     "data": {
      "text/plain": [
       "[16,\n",
       " 19,\n",
       " 18,\n",
       " 15,\n",
       " 11,\n",
       " [19, 20],\n",
       " 19,\n",
       " 17,\n",
       " 16,\n",
       " 15,\n",
       " 14,\n",
       " 13,\n",
       " 12,\n",
       " 11,\n",
       " 10,\n",
       " 12,\n",
       " 17,\n",
       " 16,\n",
       " 19,\n",
       " 18,\n",
       " 10,\n",
       " 10,\n",
       " 11]"
      ]
     },
     "execution_count": 146,
     "metadata": {},
     "output_type": "execute_result"
    }
   ],
   "source": [
    "L2"
   ]
  },
  {
   "cell_type": "code",
   "execution_count": 153,
   "id": "67aa22fb",
   "metadata": {},
   "outputs": [],
   "source": [
    "L3.remove([19,20])"
   ]
  },
  {
   "cell_type": "code",
   "execution_count": 158,
   "id": "22427c70",
   "metadata": {},
   "outputs": [
    {
     "data": {
      "text/plain": [
       "[19, 19, 18, 17, 17, 16, 16, 15, 15, 14, 13, 12, 12, 11, 11, 10]"
      ]
     },
     "execution_count": 158,
     "metadata": {},
     "output_type": "execute_result"
    }
   ],
   "source": [
    "L3.sort(reverse=True)\n",
    "L3"
   ]
  },
  {
   "cell_type": "code",
   "execution_count": 160,
   "id": "7766a63f",
   "metadata": {},
   "outputs": [],
   "source": [
    "L1.clear()"
   ]
  },
  {
   "cell_type": "code",
   "execution_count": 161,
   "id": "8be54044",
   "metadata": {},
   "outputs": [
    {
     "data": {
      "text/plain": [
       "[]"
      ]
     },
     "execution_count": 161,
     "metadata": {},
     "output_type": "execute_result"
    }
   ],
   "source": [
    "L1"
   ]
  },
  {
   "cell_type": "code",
   "execution_count": 159,
   "id": "238a9644",
   "metadata": {},
   "outputs": [
    {
     "data": {
      "text/plain": [
       "[10, 11, 12, 13, 14, 15, 16, 17, 19, [19, 20]]"
      ]
     },
     "execution_count": 159,
     "metadata": {},
     "output_type": "execute_result"
    }
   ],
   "source": [
    "L1"
   ]
  },
  {
   "cell_type": "code",
   "execution_count": null,
   "id": "7d6ee435",
   "metadata": {},
   "outputs": [],
   "source": [
    "L1.append([10,11])"
   ]
  },
  {
   "cell_type": "code",
   "execution_count": null,
   "id": "015c94f5",
   "metadata": {},
   "outputs": [],
   "source": [
    "L1"
   ]
  },
  {
   "cell_type": "code",
   "execution_count": null,
   "id": "901041b2",
   "metadata": {},
   "outputs": [],
   "source": [
    "L4 = [10,11]"
   ]
  },
  {
   "cell_type": "code",
   "execution_count": null,
   "id": "db57fcf0",
   "metadata": {},
   "outputs": [],
   "source": [
    "L1.extend(L4)\n",
    "L1"
   ]
  },
  {
   "cell_type": "code",
   "execution_count": 166,
   "id": "38750ffa",
   "metadata": {},
   "outputs": [
    {
     "data": {
      "text/plain": [
       "4"
      ]
     },
     "execution_count": 166,
     "metadata": {},
     "output_type": "execute_result"
    }
   ],
   "source": [
    "L6 = [[10,15,14,[5,4,6]],[12,17,18],[13,18,19]]\n",
    "L6[0][3][1]"
   ]
  },
  {
   "cell_type": "code",
   "execution_count": 167,
   "id": "ce161ad5",
   "metadata": {},
   "outputs": [],
   "source": [
    "L6 = [[[10,0,0],[5,4,6]],[12,17,18],[13,18,19]]"
   ]
  },
  {
   "cell_type": "code",
   "execution_count": 170,
   "id": "f798c686",
   "metadata": {},
   "outputs": [
    {
     "data": {
      "text/plain": [
       "0"
      ]
     },
     "execution_count": 170,
     "metadata": {},
     "output_type": "execute_result"
    }
   ],
   "source": [
    "L6[0][0][2]"
   ]
  },
  {
   "cell_type": "code",
   "execution_count": null,
   "id": "99604c0d",
   "metadata": {},
   "outputs": [],
   "source": [
    "#Task2:  create a list of ages, calculate the higher of age?\n",
    "# if i increase age as 10 times, then which age is highest?"
   ]
  },
  {
   "cell_type": "markdown",
   "id": "0e3f9731",
   "metadata": {},
   "source": [
    "# Tuple"
   ]
  },
  {
   "cell_type": "code",
   "execution_count": 171,
   "id": "87ecc6a7",
   "metadata": {},
   "outputs": [],
   "source": [
    "T1 = 10,'Excelr',10j+1"
   ]
  },
  {
   "cell_type": "code",
   "execution_count": 172,
   "id": "7d2e4419",
   "metadata": {},
   "outputs": [
    {
     "data": {
      "text/plain": [
       "tuple"
      ]
     },
     "execution_count": 172,
     "metadata": {},
     "output_type": "execute_result"
    }
   ],
   "source": [
    "type(T1)"
   ]
  },
  {
   "cell_type": "code",
   "execution_count": 173,
   "id": "595d3d69",
   "metadata": {},
   "outputs": [],
   "source": [
    "T2 = (10,14,15,'hi',10j+1)"
   ]
  },
  {
   "cell_type": "code",
   "execution_count": 175,
   "id": "07882a28",
   "metadata": {},
   "outputs": [
    {
     "data": {
      "text/plain": [
       "tuple"
      ]
     },
     "execution_count": 175,
     "metadata": {},
     "output_type": "execute_result"
    }
   ],
   "source": [
    "type(T2)"
   ]
  },
  {
   "cell_type": "code",
   "execution_count": 176,
   "id": "669af9ba",
   "metadata": {},
   "outputs": [
    {
     "data": {
      "text/plain": [
       "(10, 'Excelr', (1+10j))"
      ]
     },
     "execution_count": 176,
     "metadata": {},
     "output_type": "execute_result"
    }
   ],
   "source": [
    "T1"
   ]
  },
  {
   "cell_type": "code",
   "execution_count": 177,
   "id": "f4bee968",
   "metadata": {},
   "outputs": [],
   "source": [
    "T3 = ('one',2,'Three',4)"
   ]
  },
  {
   "cell_type": "code",
   "execution_count": 178,
   "id": "53dd0309",
   "metadata": {},
   "outputs": [
    {
     "data": {
      "text/plain": [
       "('one', 2, 'Three', 4)"
      ]
     },
     "execution_count": 178,
     "metadata": {},
     "output_type": "execute_result"
    }
   ],
   "source": [
    "T3"
   ]
  },
  {
   "cell_type": "code",
   "execution_count": 179,
   "id": "c940e958",
   "metadata": {},
   "outputs": [
    {
     "data": {
      "text/plain": [
       "(10, 'Excelr', (1+10j), 10, 14, 15, 'hi', (1+10j))"
      ]
     },
     "execution_count": 179,
     "metadata": {},
     "output_type": "execute_result"
    }
   ],
   "source": [
    "T1 + T2"
   ]
  },
  {
   "cell_type": "code",
   "execution_count": 182,
   "id": "9c89649b",
   "metadata": {},
   "outputs": [],
   "source": [
    "T4 = list(T1)"
   ]
  },
  {
   "cell_type": "code",
   "execution_count": 183,
   "id": "91076181",
   "metadata": {},
   "outputs": [
    {
     "data": {
      "text/plain": [
       "list"
      ]
     },
     "execution_count": 183,
     "metadata": {},
     "output_type": "execute_result"
    }
   ],
   "source": [
    "type(T4)"
   ]
  },
  {
   "cell_type": "markdown",
   "id": "a352e926",
   "metadata": {},
   "source": [
    "T3"
   ]
  },
  {
   "cell_type": "code",
   "execution_count": 185,
   "id": "56c71813",
   "metadata": {},
   "outputs": [],
   "source": [
    "T4[2] = 2+20j\n"
   ]
  },
  {
   "cell_type": "code",
   "execution_count": 190,
   "id": "2e59f3fc",
   "metadata": {},
   "outputs": [
    {
     "data": {
      "text/plain": [
       "1"
      ]
     },
     "execution_count": 190,
     "metadata": {},
     "output_type": "execute_result"
    }
   ],
   "source": [
    "T3.count(10)"
   ]
  },
  {
   "cell_type": "code",
   "execution_count": 187,
   "id": "ca1f3dbd",
   "metadata": {},
   "outputs": [],
   "source": [
    "T3 = tuple(T4)"
   ]
  },
  {
   "cell_type": "code",
   "execution_count": 188,
   "id": "26660749",
   "metadata": {},
   "outputs": [
    {
     "data": {
      "text/plain": [
       "tuple"
      ]
     },
     "execution_count": 188,
     "metadata": {},
     "output_type": "execute_result"
    }
   ],
   "source": [
    "type(T3)"
   ]
  },
  {
   "cell_type": "markdown",
   "id": "eb19eee8",
   "metadata": {},
   "source": [
    "# set"
   ]
  },
  {
   "cell_type": "code",
   "execution_count": 193,
   "id": "e6585908",
   "metadata": {},
   "outputs": [],
   "source": [
    "S1 = {101,102,105,108,110,99,88,110,101}"
   ]
  },
  {
   "cell_type": "code",
   "execution_count": 195,
   "id": "4a26231c",
   "metadata": {},
   "outputs": [
    {
     "data": {
      "text/plain": [
       "{88, 99, 101, 102, 105, 108, 110}"
      ]
     },
     "execution_count": 195,
     "metadata": {},
     "output_type": "execute_result"
    }
   ],
   "source": [
    "S1"
   ]
  },
  {
   "cell_type": "code",
   "execution_count": 194,
   "id": "aab05746",
   "metadata": {},
   "outputs": [
    {
     "data": {
      "text/plain": [
       "set"
      ]
     },
     "execution_count": 194,
     "metadata": {},
     "output_type": "execute_result"
    }
   ],
   "source": [
    "type(S1)"
   ]
  },
  {
   "cell_type": "code",
   "execution_count": 196,
   "id": "8431bc72",
   "metadata": {},
   "outputs": [],
   "source": [
    "S2 = {201,202,205,208,210,99,88,110,101}"
   ]
  },
  {
   "cell_type": "markdown",
   "id": "55bc8e8c",
   "metadata": {},
   "source": [
    "Slicing : No\n",
    "Access: No\n",
    "Update: Yes funtion\n",
    "Delete:yes \n",
    "cast:yes\n"
   ]
  },
  {
   "cell_type": "code",
   "execution_count": 197,
   "id": "2808e3a7",
   "metadata": {},
   "outputs": [],
   "source": [
    "S2.add(210)"
   ]
  },
  {
   "cell_type": "code",
   "execution_count": 198,
   "id": "eb508ef3",
   "metadata": {},
   "outputs": [
    {
     "data": {
      "text/plain": [
       "{88, 99, 101, 110, 201, 202, 205, 208, 210}"
      ]
     },
     "execution_count": 198,
     "metadata": {},
     "output_type": "execute_result"
    }
   ],
   "source": [
    "S2"
   ]
  },
  {
   "cell_type": "code",
   "execution_count": 200,
   "id": "33c02d41",
   "metadata": {},
   "outputs": [],
   "source": [
    "S3 = S1.copy()"
   ]
  },
  {
   "cell_type": "code",
   "execution_count": 201,
   "id": "a46c298c",
   "metadata": {},
   "outputs": [
    {
     "data": {
      "text/plain": [
       "({88, 99, 101, 102, 105, 108, 110},\n",
       " {88, 99, 101, 110, 201, 202, 205, 208, 210})"
      ]
     },
     "execution_count": 201,
     "metadata": {},
     "output_type": "execute_result"
    }
   ],
   "source": [
    "S1,S2"
   ]
  },
  {
   "cell_type": "code",
   "execution_count": 204,
   "id": "770d32cd",
   "metadata": {},
   "outputs": [
    {
     "data": {
      "text/plain": [
       "{88, 99, 101, 102, 105, 108, 110}"
      ]
     },
     "execution_count": 204,
     "metadata": {},
     "output_type": "execute_result"
    }
   ],
   "source": [
    "S1.difference(S2)\n",
    "S1"
   ]
  },
  {
   "cell_type": "code",
   "execution_count": 205,
   "id": "46fbe90c",
   "metadata": {},
   "outputs": [],
   "source": [
    "S1.difference_update(S2)"
   ]
  },
  {
   "cell_type": "code",
   "execution_count": 206,
   "id": "7c89463b",
   "metadata": {},
   "outputs": [
    {
     "data": {
      "text/plain": [
       "{102, 105, 108}"
      ]
     },
     "execution_count": 206,
     "metadata": {},
     "output_type": "execute_result"
    }
   ],
   "source": [
    "S1"
   ]
  },
  {
   "cell_type": "code",
   "execution_count": null,
   "id": "439a7089",
   "metadata": {},
   "outputs": [],
   "source": [
    "S2"
   ]
  },
  {
   "cell_type": "code",
   "execution_count": 207,
   "id": "4428b49c",
   "metadata": {},
   "outputs": [],
   "source": [
    "S1.discard(102)"
   ]
  },
  {
   "cell_type": "code",
   "execution_count": 208,
   "id": "b2f77fec",
   "metadata": {},
   "outputs": [
    {
     "data": {
      "text/plain": [
       "{105, 108}"
      ]
     },
     "execution_count": 208,
     "metadata": {},
     "output_type": "execute_result"
    }
   ],
   "source": [
    "S1"
   ]
  },
  {
   "cell_type": "code",
   "execution_count": 209,
   "id": "291c5c69",
   "metadata": {},
   "outputs": [
    {
     "data": {
      "text/plain": [
       "{105, 108}"
      ]
     },
     "execution_count": 209,
     "metadata": {},
     "output_type": "execute_result"
    }
   ],
   "source": [
    "S1"
   ]
  },
  {
   "cell_type": "code",
   "execution_count": 210,
   "id": "8e04c1ba",
   "metadata": {},
   "outputs": [
    {
     "data": {
      "text/plain": [
       "{88, 99, 101, 110, 201, 202, 205, 208, 210}"
      ]
     },
     "execution_count": 210,
     "metadata": {},
     "output_type": "execute_result"
    }
   ],
   "source": [
    "S2"
   ]
  },
  {
   "cell_type": "code",
   "execution_count": null,
   "id": "44d6dec5",
   "metadata": {},
   "outputs": [],
   "source": [
    "S1.difference_update(S2)"
   ]
  },
  {
   "cell_type": "code",
   "execution_count": null,
   "id": "f0c28a55",
   "metadata": {},
   "outputs": [],
   "source": [
    "S1"
   ]
  },
  {
   "cell_type": "code",
   "execution_count": null,
   "id": "2d61ff16",
   "metadata": {},
   "outputs": [],
   "source": [
    "S1.discard(102)"
   ]
  },
  {
   "cell_type": "code",
   "execution_count": null,
   "id": "ed7bcd74",
   "metadata": {},
   "outputs": [],
   "source": [
    "S1"
   ]
  },
  {
   "cell_type": "code",
   "execution_count": 211,
   "id": "bd97139c",
   "metadata": {},
   "outputs": [
    {
     "data": {
      "text/plain": [
       "({88, 99, 101, 110, 201, 202, 205, 208, 210},\n",
       " {88, 99, 101, 102, 105, 108, 110})"
      ]
     },
     "execution_count": 211,
     "metadata": {},
     "output_type": "execute_result"
    }
   ],
   "source": [
    "S2,S3"
   ]
  },
  {
   "cell_type": "code",
   "execution_count": 213,
   "id": "a0ee5bd2",
   "metadata": {},
   "outputs": [
    {
     "data": {
      "text/plain": [
       "{88, 99, 101, 110, 201, 202, 205, 208, 210}"
      ]
     },
     "execution_count": 213,
     "metadata": {},
     "output_type": "execute_result"
    }
   ],
   "source": [
    "S2.intersection(S3)\n",
    "S2"
   ]
  },
  {
   "cell_type": "code",
   "execution_count": 214,
   "id": "2b9f054c",
   "metadata": {},
   "outputs": [],
   "source": [
    "S2.intersection_update(S3)"
   ]
  },
  {
   "cell_type": "code",
   "execution_count": 215,
   "id": "ba36dde3",
   "metadata": {},
   "outputs": [
    {
     "data": {
      "text/plain": [
       "{88, 99, 101, 110}"
      ]
     },
     "execution_count": 215,
     "metadata": {},
     "output_type": "execute_result"
    }
   ],
   "source": [
    "S2"
   ]
  },
  {
   "cell_type": "code",
   "execution_count": 216,
   "id": "b75053f8",
   "metadata": {},
   "outputs": [
    {
     "data": {
      "text/plain": [
       "False"
      ]
     },
     "execution_count": 216,
     "metadata": {},
     "output_type": "execute_result"
    }
   ],
   "source": [
    "S2.isdisjoint(S3)"
   ]
  },
  {
   "cell_type": "code",
   "execution_count": 218,
   "id": "7dae52c7",
   "metadata": {},
   "outputs": [
    {
     "data": {
      "text/plain": [
       "({88, 99, 101, 110}, {105, 108})"
      ]
     },
     "execution_count": 218,
     "metadata": {},
     "output_type": "execute_result"
    }
   ],
   "source": [
    "S2,S1"
   ]
  },
  {
   "cell_type": "code",
   "execution_count": 217,
   "id": "bd9bd78c",
   "metadata": {},
   "outputs": [
    {
     "data": {
      "text/plain": [
       "True"
      ]
     },
     "execution_count": 217,
     "metadata": {},
     "output_type": "execute_result"
    }
   ],
   "source": [
    "S2.isdisjoint(S1)"
   ]
  },
  {
   "cell_type": "code",
   "execution_count": 221,
   "id": "5894b00b",
   "metadata": {},
   "outputs": [
    {
     "data": {
      "text/plain": [
       "[{105, 108}, {88, 99, 101, 110}, {88, 99, 101, 102, 105, 108, 110}]"
      ]
     },
     "execution_count": 221,
     "metadata": {},
     "output_type": "execute_result"
    }
   ],
   "source": [
    "S4= [S1,S2,S3]\n",
    "S4"
   ]
  },
  {
   "cell_type": "code",
   "execution_count": 222,
   "id": "045da8c5",
   "metadata": {},
   "outputs": [
    {
     "data": {
      "text/plain": [
       "True"
      ]
     },
     "execution_count": 222,
     "metadata": {},
     "output_type": "execute_result"
    }
   ],
   "source": [
    "S2.issubset(S2)"
   ]
  },
  {
   "cell_type": "code",
   "execution_count": 223,
   "id": "d47aa3e0",
   "metadata": {},
   "outputs": [
    {
     "data": {
      "text/plain": [
       "False"
      ]
     },
     "execution_count": 223,
     "metadata": {},
     "output_type": "execute_result"
    }
   ],
   "source": [
    "S2.issuperset(S3)"
   ]
  },
  {
   "cell_type": "code",
   "execution_count": 224,
   "id": "b786229e",
   "metadata": {},
   "outputs": [
    {
     "data": {
      "text/plain": [
       "88"
      ]
     },
     "execution_count": 224,
     "metadata": {},
     "output_type": "execute_result"
    }
   ],
   "source": [
    "S2.pop()"
   ]
  },
  {
   "cell_type": "code",
   "execution_count": null,
   "id": "2b9b1748",
   "metadata": {},
   "outputs": [],
   "source": [
    "S2"
   ]
  },
  {
   "cell_type": "code",
   "execution_count": 225,
   "id": "de83b494",
   "metadata": {},
   "outputs": [
    {
     "data": {
      "text/plain": [
       "{99, 101, 105, 108, 110}"
      ]
     },
     "execution_count": 225,
     "metadata": {},
     "output_type": "execute_result"
    }
   ],
   "source": [
    "S1.symmetric_difference(S2)"
   ]
  },
  {
   "cell_type": "code",
   "execution_count": null,
   "id": "f76ffe34",
   "metadata": {},
   "outputs": [],
   "source": [
    "S1,S2"
   ]
  },
  {
   "cell_type": "code",
   "execution_count": 226,
   "id": "92fbdd50",
   "metadata": {},
   "outputs": [],
   "source": [
    "S1.symmetric_difference_update(S2)"
   ]
  },
  {
   "cell_type": "code",
   "execution_count": 227,
   "id": "e8eadb03",
   "metadata": {},
   "outputs": [
    {
     "data": {
      "text/plain": [
       "{99, 101, 105, 108, 110}"
      ]
     },
     "execution_count": 227,
     "metadata": {},
     "output_type": "execute_result"
    }
   ],
   "source": [
    "S1"
   ]
  },
  {
   "cell_type": "code",
   "execution_count": 228,
   "id": "60afd13c",
   "metadata": {},
   "outputs": [
    {
     "data": {
      "text/plain": [
       "{99, 101, 105, 108, 110}"
      ]
     },
     "execution_count": 228,
     "metadata": {},
     "output_type": "execute_result"
    }
   ],
   "source": [
    "S1.union(S2)"
   ]
  },
  {
   "cell_type": "code",
   "execution_count": 233,
   "id": "9eaf203e",
   "metadata": {},
   "outputs": [],
   "source": [
    "S1.update([120])"
   ]
  },
  {
   "cell_type": "code",
   "execution_count": 234,
   "id": "76f6f034",
   "metadata": {},
   "outputs": [
    {
     "data": {
      "text/plain": [
       "{99, 101, 105, 108, 110, 120}"
      ]
     },
     "execution_count": 234,
     "metadata": {},
     "output_type": "execute_result"
    }
   ],
   "source": [
    "S1"
   ]
  },
  {
   "cell_type": "code",
   "execution_count": 235,
   "id": "516b09cc",
   "metadata": {},
   "outputs": [
    {
     "data": {
      "text/plain": [
       "set"
      ]
     },
     "execution_count": 235,
     "metadata": {},
     "output_type": "execute_result"
    }
   ],
   "source": [
    "type(S1)"
   ]
  },
  {
   "cell_type": "markdown",
   "id": "740aec12",
   "metadata": {},
   "source": [
    "# Dictionary"
   ]
  },
  {
   "cell_type": "code",
   "execution_count": 236,
   "id": "e23da491",
   "metadata": {},
   "outputs": [],
   "source": [
    "\n",
    "# Slicing : no\n",
    "# Access: No using index\n",
    "# {key:value,\n",
    "#  key1:value1}\n",
    "\n",
    "Dict1 = {\n",
    "         1:'S1',\n",
    "         2:'S2',\n",
    "         3:'S3',\n",
    "         4:'S4'\n",
    "}\n",
    "        "
   ]
  },
  {
   "cell_type": "code",
   "execution_count": 237,
   "id": "1ec5aa99",
   "metadata": {},
   "outputs": [
    {
     "data": {
      "text/plain": [
       "dict_keys([1, 2, 3, 4])"
      ]
     },
     "execution_count": 237,
     "metadata": {},
     "output_type": "execute_result"
    }
   ],
   "source": [
    "Dict1.keys()"
   ]
  },
  {
   "cell_type": "code",
   "execution_count": 238,
   "id": "843c429a",
   "metadata": {},
   "outputs": [
    {
     "data": {
      "text/plain": [
       "dict_values(['S1', 'S2', 'S3', 'S4'])"
      ]
     },
     "execution_count": 238,
     "metadata": {},
     "output_type": "execute_result"
    }
   ],
   "source": [
    "Dict1.values()"
   ]
  },
  {
   "cell_type": "code",
   "execution_count": 239,
   "id": "f8976947",
   "metadata": {},
   "outputs": [
    {
     "data": {
      "text/plain": [
       "dict_items([(1, 'S1'), (2, 'S2'), (3, 'S3'), (4, 'S4')])"
      ]
     },
     "execution_count": 239,
     "metadata": {},
     "output_type": "execute_result"
    }
   ],
   "source": [
    "Dict1.items()"
   ]
  },
  {
   "cell_type": "code",
   "execution_count": 243,
   "id": "d254a4d3",
   "metadata": {},
   "outputs": [
    {
     "data": {
      "text/plain": [
       "{1: None, 2: None, 3: None, 4: None}"
      ]
     },
     "execution_count": 243,
     "metadata": {},
     "output_type": "execute_result"
    }
   ],
   "source": [
    "Dict1.fromkeys(Dict2)"
   ]
  },
  {
   "cell_type": "code",
   "execution_count": null,
   "id": "e7ff5a22",
   "metadata": {},
   "outputs": [],
   "source": []
  },
  {
   "cell_type": "code",
   "execution_count": 242,
   "id": "3ca081e8",
   "metadata": {},
   "outputs": [],
   "source": [
    "Dict2= {1:'S1',2:'S2',3:'D3',4:'D4'}"
   ]
  },
  {
   "cell_type": "code",
   "execution_count": null,
   "id": "7c1b7dca",
   "metadata": {},
   "outputs": [],
   "source": [
    "Dict1.fromkeys(Dict3)"
   ]
  },
  {
   "cell_type": "code",
   "execution_count": 244,
   "id": "2464cd17",
   "metadata": {},
   "outputs": [
    {
     "data": {
      "text/plain": [
       "'S4'"
      ]
     },
     "execution_count": 244,
     "metadata": {},
     "output_type": "execute_result"
    }
   ],
   "source": [
    "Dict1.get(4)"
   ]
  },
  {
   "cell_type": "code",
   "execution_count": null,
   "id": "558d7aa4",
   "metadata": {},
   "outputs": [],
   "source": [
    "Dict1.items()"
   ]
  },
  {
   "cell_type": "code",
   "execution_count": null,
   "id": "dbec0a66",
   "metadata": {},
   "outputs": [],
   "source": [
    "Dict1.keys()"
   ]
  },
  {
   "cell_type": "code",
   "execution_count": 245,
   "id": "64adfc32",
   "metadata": {},
   "outputs": [
    {
     "data": {
      "text/plain": [
       "'S2'"
      ]
     },
     "execution_count": 245,
     "metadata": {},
     "output_type": "execute_result"
    }
   ],
   "source": [
    "Dict1.pop(2)"
   ]
  },
  {
   "cell_type": "code",
   "execution_count": null,
   "id": "cffbe19b",
   "metadata": {},
   "outputs": [],
   "source": [
    "Dict1"
   ]
  },
  {
   "cell_type": "code",
   "execution_count": 246,
   "id": "c8a4b074",
   "metadata": {},
   "outputs": [
    {
     "data": {
      "text/plain": [
       "(4, 'S4')"
      ]
     },
     "execution_count": 246,
     "metadata": {},
     "output_type": "execute_result"
    }
   ],
   "source": [
    "Dict1.popitem()"
   ]
  },
  {
   "cell_type": "code",
   "execution_count": null,
   "id": "2cae7047",
   "metadata": {},
   "outputs": [],
   "source": [
    "Dict1"
   ]
  },
  {
   "cell_type": "code",
   "execution_count": null,
   "id": "50e80da3",
   "metadata": {},
   "outputs": [],
   "source": [
    "Dict2"
   ]
  },
  {
   "cell_type": "code",
   "execution_count": 248,
   "id": "bae676d4",
   "metadata": {},
   "outputs": [],
   "source": [
    "Dict2.update(Dict1)"
   ]
  },
  {
   "cell_type": "code",
   "execution_count": 249,
   "id": "66d9b6b6",
   "metadata": {},
   "outputs": [
    {
     "data": {
      "text/plain": [
       "{1: 'S1', 2: 'S2', 3: 'S3', 4: 'D4'}"
      ]
     },
     "execution_count": 249,
     "metadata": {},
     "output_type": "execute_result"
    }
   ],
   "source": [
    "Dict2"
   ]
  },
  {
   "cell_type": "code",
   "execution_count": 250,
   "id": "bf273348",
   "metadata": {},
   "outputs": [
    {
     "data": {
      "text/plain": [
       "dict_values(['S1', 'S2', 'S3', 'D4'])"
      ]
     },
     "execution_count": 250,
     "metadata": {},
     "output_type": "execute_result"
    }
   ],
   "source": [
    "Dict2.values()"
   ]
  },
  {
   "cell_type": "code",
   "execution_count": 251,
   "id": "1888c364",
   "metadata": {},
   "outputs": [
    {
     "data": {
      "text/plain": [
       "({1: 'S1', 3: 'S3'}, {1: 'S1', 2: 'S2', 3: 'S3', 4: 'D4'})"
      ]
     },
     "execution_count": 251,
     "metadata": {},
     "output_type": "execute_result"
    }
   ],
   "source": [
    "Dict1 , Dict2"
   ]
  },
  {
   "cell_type": "code",
   "execution_count": 252,
   "id": "ad8f98c4",
   "metadata": {},
   "outputs": [],
   "source": [
    "Dict1.update(Dict2)"
   ]
  },
  {
   "cell_type": "code",
   "execution_count": 253,
   "id": "0818ea24",
   "metadata": {},
   "outputs": [
    {
     "data": {
      "text/plain": [
       "{1: 'S1', 3: 'S3', 2: 'S2', 4: 'D4'}"
      ]
     },
     "execution_count": 253,
     "metadata": {},
     "output_type": "execute_result"
    }
   ],
   "source": [
    "Dict1"
   ]
  },
  {
   "cell_type": "code",
   "execution_count": 254,
   "id": "f70dff9c",
   "metadata": {},
   "outputs": [],
   "source": [
    "Dict1[3] = 'H3'"
   ]
  },
  {
   "cell_type": "code",
   "execution_count": 255,
   "id": "8bce9c68",
   "metadata": {},
   "outputs": [
    {
     "data": {
      "text/plain": [
       "{1: 'S1', 3: 'H3', 2: 'S2', 4: 'D4'}"
      ]
     },
     "execution_count": 255,
     "metadata": {},
     "output_type": "execute_result"
    }
   ],
   "source": [
    "Dict1"
   ]
  },
  {
   "cell_type": "code",
   "execution_count": 256,
   "id": "cea119af",
   "metadata": {},
   "outputs": [],
   "source": [
    "Student_info = {'Sl_no':[1,2,3,4,5],\n",
    "                'name':['Aiswhwarya','Akhila','Aprna','Chandru','Milind'],\n",
    "                'marks':[50,40,80,70,60]\n",
    "               }"
   ]
  },
  {
   "cell_type": "code",
   "execution_count": 257,
   "id": "30cc490a",
   "metadata": {},
   "outputs": [
    {
     "data": {
      "text/plain": [
       "{'Sl_no': [1, 2, 3, 4, 5],\n",
       " 'name': ['Aiswhwarya', 'Akhila', 'Aprna', 'Chandru', 'Milind'],\n",
       " 'marks': [50, 40, 80, 70, 60]}"
      ]
     },
     "execution_count": 257,
     "metadata": {},
     "output_type": "execute_result"
    }
   ],
   "source": [
    "Student_info"
   ]
  },
  {
   "cell_type": "code",
   "execution_count": 258,
   "id": "eac6b04a",
   "metadata": {},
   "outputs": [
    {
     "data": {
      "text/plain": [
       "[1, 2, 3, 4, 5]"
      ]
     },
     "execution_count": 258,
     "metadata": {},
     "output_type": "execute_result"
    }
   ],
   "source": [
    "Student_info['Sl_no']"
   ]
  },
  {
   "cell_type": "code",
   "execution_count": 259,
   "id": "3a9e2974",
   "metadata": {},
   "outputs": [],
   "source": [
    "Student_info['name'] = ['Aiswhwarya', 'Akhila', 'Aprna', 'Excelr', 'rupesh']"
   ]
  },
  {
   "cell_type": "code",
   "execution_count": 260,
   "id": "94498d08",
   "metadata": {},
   "outputs": [
    {
     "data": {
      "text/plain": [
       "{'Sl_no': [1, 2, 3, 4, 5],\n",
       " 'name': ['Aiswhwarya', 'Akhila', 'Aprna', 'Excelr', 'rupesh'],\n",
       " 'marks': [50, 40, 80, 70, 60]}"
      ]
     },
     "execution_count": 260,
     "metadata": {},
     "output_type": "execute_result"
    }
   ],
   "source": [
    "Student_info"
   ]
  },
  {
   "cell_type": "code",
   "execution_count": 261,
   "id": "bd4d8186",
   "metadata": {},
   "outputs": [
    {
     "data": {
      "text/plain": [
       "dict_keys(['Sl_no', 'name', 'marks'])"
      ]
     },
     "execution_count": 261,
     "metadata": {},
     "output_type": "execute_result"
    }
   ],
   "source": [
    "Student_info.keys()"
   ]
  },
  {
   "cell_type": "code",
   "execution_count": 263,
   "id": "00e0ed97",
   "metadata": {},
   "outputs": [],
   "source": [
    "STUDENTS_details = [\n",
    "                    {'name': 'sam',\n",
    "                    'age': 25,\n",
    "                    'sub':['s1','s2','s3','s4','s5','s6'],\n",
    "                    'marks': [60,40,50,80,90]},\n",
    "                    {'name': 'sam',\n",
    "                    'age': 25,\n",
    "                    'sub':['s1','s2','s3','s4','s5','s6'],\n",
    "                    'marks': [60,40,50,80,90]},\n",
    "                   ]"
   ]
  },
  {
   "cell_type": "code",
   "execution_count": 271,
   "id": "07fd829c",
   "metadata": {},
   "outputs": [
    {
     "data": {
      "text/plain": [
       "64.0"
      ]
     },
     "execution_count": 271,
     "metadata": {},
     "output_type": "execute_result"
    }
   ],
   "source": [
    "sum(STUDENTS_details[0]['marks'])/5\n"
   ]
  },
  {
   "attachments": {
    "Screenshot%202023-08-17%20174644.png": {
     "image/png": "[encoded data removed]"
    }
   },
   "cell_type": "markdown",
   "id": "1e215140",
   "metadata": {},
   "source": [
    "Task2: create a dictionary with marks, name, age, subjects with 10 names and 6 subjects. ![Screenshot%202023-08-17%20174644.png](attachment:Screenshot%202023-08-17%20174644.png)"
   ]
  },
  {
   "cell_type": "markdown",
   "id": "c223b02a",
   "metadata": {},
   "source": [
    "# Conditional Statments:\n",
    "IF,\n",
    "IF else,\n",
    "If...elif...else,\n",
    "ternary operator(value if true if condition else value is false)"
   ]
  },
  {
   "cell_type": "code",
   "execution_count": null,
   "id": "e36bf970",
   "metadata": {},
   "outputs": [],
   "source": [
    "Q1: Check the users age is eligible for voting are not?\n",
    "Q2: Give the fair price of given age of user eg: \n",
    "    if age is 5 price wil be 10, \n",
    "    if age is 6-15 price will be 15,\n",
    "    greater than 15 will have 20 price.\n",
    "Q3: Create a marksheet with grades of marks.\n",
    "    90+ -- A grade\n",
    "    70+ -- B grade\n",
    "    50+ -- C grade\n",
    "    30+ -- D grade\n",
    "    >30 -- fail."
   ]
  },
  {
   "cell_type": "code",
   "execution_count": 273,
   "id": "4ee3535d",
   "metadata": {},
   "outputs": [
    {
     "name": "stdout",
     "output_type": "stream",
     "text": [
      " A is smaller then B\n"
     ]
    }
   ],
   "source": [
    "#if : \n",
    "A = 10\n",
    "B = 20\n",
    "if A < B:\n",
    "    \n",
    "    print( ' A is smaller then B')\n",
    "\n",
    "\n",
    "    "
   ]
  },
  {
   "cell_type": "code",
   "execution_count": 274,
   "id": "8168744b",
   "metadata": {},
   "outputs": [
    {
     "name": "stdout",
     "output_type": "stream",
     "text": [
      " A is smaller then B\n"
     ]
    }
   ],
   "source": [
    "if A < B:\n",
    "    print(' A is smaller then B')\n",
    "    "
   ]
  },
  {
   "cell_type": "code",
   "execution_count": 275,
   "id": "f38f90b2",
   "metadata": {},
   "outputs": [
    {
     "name": "stdout",
     "output_type": "stream",
     "text": [
      "A is smaller then B\n"
     ]
    }
   ],
   "source": [
    "if A>B:\n",
    "    print('A is greater then B')\n",
    "else:\n",
    "    print('A is smaller then B')"
   ]
  },
  {
   "cell_type": "code",
   "execution_count": 276,
   "id": "eb453f77",
   "metadata": {},
   "outputs": [
    {
     "name": "stdout",
     "output_type": "stream",
     "text": [
      "A is Smaller then B\n"
     ]
    }
   ],
   "source": [
    "if A<B:\n",
    "    print('A is Smaller then B')\n",
    "else:\n",
    "    print('A is greater then B')"
   ]
  },
  {
   "cell_type": "raw",
   "id": "14e8d922",
   "metadata": {},
   "source": [
    "==, !=, <= ,>="
   ]
  },
  {
   "cell_type": "code",
   "execution_count": null,
   "id": "f6fe09f9",
   "metadata": {},
   "outputs": [],
   "source": [
    "# if using logical statement.( and, or, not)"
   ]
  },
  {
   "cell_type": "code",
   "execution_count": 280,
   "id": "fa2dc9b3",
   "metadata": {},
   "outputs": [
    {
     "data": {
      "text/plain": [
       "False"
      ]
     },
     "execution_count": 280,
     "metadata": {},
     "output_type": "execute_result"
    }
   ],
   "source": [
    "A!= 10 or B != 20"
   ]
  },
  {
   "cell_type": "code",
   "execution_count": 281,
   "id": "986bc322",
   "metadata": {},
   "outputs": [
    {
     "name": "stdout",
     "output_type": "stream",
     "text": [
      " Both the statement are true\n"
     ]
    }
   ],
   "source": [
    "if A > 8 and B >10:\n",
    "    print(' Both the statement are true')"
   ]
  },
  {
   "cell_type": "code",
   "execution_count": 282,
   "id": "c9939e29",
   "metadata": {},
   "outputs": [
    {
     "name": "stdout",
     "output_type": "stream",
     "text": [
      " One statment is false\n"
     ]
    }
   ],
   "source": [
    "if A > 8 and B == 10:\n",
    "    print(' Both the statement are true')\n",
    "else: \n",
    "    print(' One statment is false')"
   ]
  },
  {
   "cell_type": "code",
   "execution_count": 283,
   "id": "575bd51d",
   "metadata": {},
   "outputs": [
    {
     "name": "stdout",
     "output_type": "stream",
     "text": [
      " Both the statement are true\n"
     ]
    }
   ],
   "source": [
    "if A > 8 or B == 10:\n",
    "    print(' Both the statement are true')\n",
    "else: \n",
    "    print(' One statment is false')"
   ]
  },
  {
   "cell_type": "raw",
   "id": "97364f9c",
   "metadata": {},
   "source": [
    "# Task 2: Check the given user input is even/odd?\n",
    "\n",
    "#Task 3 : Check the users age is eligible for voting are not? "
   ]
  },
  {
   "cell_type": "code",
   "execution_count": 284,
   "id": "6d15577c",
   "metadata": {},
   "outputs": [
    {
     "name": "stdout",
     "output_type": "stream",
     "text": [
      " One statment is false\n"
     ]
    }
   ],
   "source": [
    "if not A == 10:\n",
    "    print(' Both the statement are true')\n",
    "else: \n",
    "    print(' One statment is false')"
   ]
  },
  {
   "cell_type": "code",
   "execution_count": 286,
   "id": "f42239d6",
   "metadata": {},
   "outputs": [
    {
     "name": "stdout",
     "output_type": "stream",
     "text": [
      "Both statement is false\n"
     ]
    }
   ],
   "source": [
    "if not A > 8:\n",
    "    print(' 1st statement is true')\n",
    "elif B == 10:\n",
    "    print('the second statement is true')\n",
    "else: \n",
    "    print('Both statement is false')"
   ]
  },
  {
   "cell_type": "code",
   "execution_count": 291,
   "id": "6c6b8fd0",
   "metadata": {},
   "outputs": [
    {
     "name": "stdout",
     "output_type": "stream",
     "text": [
      "Enter the number: 20\n",
      "The given number is even\n"
     ]
    }
   ],
   "source": [
    "\n",
    "K = int(input('Enter the number: '))\n",
    "if K%2 == 0:\n",
    "    print('The given number is even')\n",
    "else:\n",
    "    print('The given number is odd')"
   ]
  },
  {
   "cell_type": "code",
   "execution_count": 293,
   "id": "8bb5d2e7",
   "metadata": {},
   "outputs": [
    {
     "data": {
      "text/plain": [
       "True"
      ]
     },
     "execution_count": 293,
     "metadata": {},
     "output_type": "execute_result"
    }
   ],
   "source": [
    "K%2 ==0 "
   ]
  },
  {
   "cell_type": "code",
   "execution_count": 296,
   "id": "7ec94c1c",
   "metadata": {},
   "outputs": [
    {
     "name": "stdout",
     "output_type": "stream",
     "text": [
      "Enter the 19\n",
      "Eligible for voting\n"
     ]
    }
   ],
   "source": [
    "\n",
    "Age = int(input(\"Enter the \"))\n",
    "if Age >= 18:\n",
    "    print('Eligible for voting')\n",
    "else:\n",
    "    print('Not eligible for voting')    "
   ]
  },
  {
   "cell_type": "code",
   "execution_count": null,
   "id": "a4d1b814",
   "metadata": {},
   "outputs": [],
   "source": [
    "Task4 : Give the fair price of given age of user eg: \n",
    "    if age is 5 price wil be 10 Rs, \n",
    "    if age is 6-15 price will be 15 rs,\n",
    "    greater than 15 will have 20 rs price."
   ]
  },
  {
   "cell_type": "code",
   "execution_count": null,
   "id": "04dbedfc",
   "metadata": {},
   "outputs": [],
   "source": [
    "# ternary operator\n",
    "price = value_if_true if condition else value_if_flase "
   ]
  },
  {
   "cell_type": "code",
   "execution_count": 297,
   "id": "3731ed60",
   "metadata": {},
   "outputs": [
    {
     "data": {
      "text/plain": [
       "False"
      ]
     },
     "execution_count": 297,
     "metadata": {},
     "output_type": "execute_result"
    }
   ],
   "source": [
    "A>B"
   ]
  },
  {
   "cell_type": "code",
   "execution_count": 299,
   "id": "3799a5eb",
   "metadata": {},
   "outputs": [
    {
     "name": "stdout",
     "output_type": "stream",
     "text": [
      " value is false\n"
     ]
    }
   ],
   "source": [
    "price1 = print('Value is true') if A>B else print(' value is false')"
   ]
  },
  {
   "cell_type": "code",
   "execution_count": 302,
   "id": "77c0e226",
   "metadata": {},
   "outputs": [
    {
     "data": {
      "text/plain": [
       "56.0"
      ]
     },
     "execution_count": 302,
     "metadata": {},
     "output_type": "execute_result"
    }
   ],
   "source": [
    "age"
   ]
  },
  {
   "cell_type": "code",
   "execution_count": 303,
   "id": "71bddb48",
   "metadata": {},
   "outputs": [],
   "source": [
    "price1 = 10 if age > 15 else 20"
   ]
  },
  {
   "cell_type": "code",
   "execution_count": 304,
   "id": "f6694f4d",
   "metadata": {},
   "outputs": [
    {
     "data": {
      "text/plain": [
       "10"
      ]
     },
     "execution_count": 304,
     "metadata": {},
     "output_type": "execute_result"
    }
   ],
   "source": [
    "price1"
   ]
  },
  {
   "cell_type": "code",
   "execution_count": 305,
   "id": "ef23d6da",
   "metadata": {},
   "outputs": [
    {
     "ename": "SyntaxError",
     "evalue": "invalid syntax (2912211621.py, line 1)",
     "output_type": "error",
     "traceback": [
      "\u001b[1;36m  Cell \u001b[1;32mIn[305], line 1\u001b[1;36m\u001b[0m\n\u001b[1;33m    Utilize the task 2 for continuation.\u001b[0m\n\u001b[1;37m            ^\u001b[0m\n\u001b[1;31mSyntaxError\u001b[0m\u001b[1;31m:\u001b[0m invalid syntax\n"
     ]
    }
   ],
   "source": [
    "Utilize the task 2 for continuation.\n",
    "Task 5 : Create a marksheet with grades of marks.\n",
    "    90+ -- A grade\n",
    "    70+ -- B grade\n",
    "    50+ -- C grade\n",
    "    30+ -- D grade\n",
    "    <30 -- fail."
   ]
  },
  {
   "cell_type": "code",
   "execution_count": null,
   "id": "2f3335ef",
   "metadata": {},
   "outputs": [],
   "source": [
    "Marks = [90,80,85,36,45,80]\n",
    "if 80 in Marks:\n",
    "    print('The 80 marks has been in list')"
   ]
  },
  {
   "cell_type": "code",
   "execution_count": null,
   "id": "ec5bd0ba",
   "metadata": {},
   "outputs": [],
   "source": [
    "if 90 not in Marks:\n",
    "    print('The 80 marks has been in list')\n",
    "else:\n",
    "    print('the value is not in list')"
   ]
  },
  {
   "cell_type": "code",
   "execution_count": null,
   "id": "fb6f5067",
   "metadata": {},
   "outputs": [],
   "source": [
    "range(1,10)"
   ]
  },
  {
   "cell_type": "code",
   "execution_count": null,
   "id": "f079cb5a",
   "metadata": {},
   "outputs": [],
   "source": [
    "age = int(input('enter the age: '))\n",
    "if age in range(18,30):\n",
    "    print('The age is elegible for admission')\n",
    "else:\n",
    "    print('The age is not elegible for admission')"
   ]
  },
  {
   "cell_type": "code",
   "execution_count": null,
   "id": "976f632f",
   "metadata": {},
   "outputs": [],
   "source": [
    "# Looping statments\n",
    "## For, while."
   ]
  },
  {
   "cell_type": "code",
   "execution_count": 306,
   "id": "f1195fe2",
   "metadata": {},
   "outputs": [
    {
     "data": {
      "text/plain": [
       "range(0, 10)"
      ]
     },
     "execution_count": 306,
     "metadata": {},
     "output_type": "execute_result"
    }
   ],
   "source": [
    "range(10)"
   ]
  },
  {
   "cell_type": "code",
   "execution_count": 308,
   "id": "570c5b43",
   "metadata": {},
   "outputs": [
    {
     "name": "stdout",
     "output_type": "stream",
     "text": [
      "0\n",
      "1\n",
      "2\n",
      "3\n",
      "4\n",
      "5\n",
      "6\n",
      "7\n",
      "8\n",
      "9\n",
      "10\n"
     ]
    }
   ],
   "source": [
    "for var in range(11):\n",
    "    print(var)"
   ]
  },
  {
   "cell_type": "code",
   "execution_count": 311,
   "id": "dbfe5a32",
   "metadata": {},
   "outputs": [
    {
     "name": "stdout",
     "output_type": "stream",
     "text": [
      "2\n",
      "3\n",
      "4\n",
      "5\n",
      "6\n",
      "7\n",
      "8\n",
      "9\n",
      "10\n",
      "11\n"
     ]
    }
   ],
   "source": [
    "for i in range(1,11):\n",
    "    print(i+1)"
   ]
  },
  {
   "cell_type": "code",
   "execution_count": 312,
   "id": "4de7d15c",
   "metadata": {},
   "outputs": [
    {
     "data": {
      "text/plain": [
       "10"
      ]
     },
     "execution_count": 312,
     "metadata": {},
     "output_type": "execute_result"
    }
   ],
   "source": [
    "i"
   ]
  },
  {
   "cell_type": "code",
   "execution_count": 314,
   "id": "02b57efa",
   "metadata": {},
   "outputs": [
    {
     "name": "stdout",
     "output_type": "stream",
     "text": [
      "1\n",
      "2\n",
      "3\n",
      "4\n"
     ]
    }
   ],
   "source": [
    "for i in range(1,11):\n",
    "    if i == 5:\n",
    "        break\n",
    "    print(i)"
   ]
  },
  {
   "cell_type": "code",
   "execution_count": 315,
   "id": "17ca0582",
   "metadata": {},
   "outputs": [
    {
     "name": "stdout",
     "output_type": "stream",
     "text": [
      "1\n",
      "2\n",
      "3\n",
      "4\n",
      "6\n",
      "7\n",
      "8\n",
      "9\n",
      "10\n"
     ]
    }
   ],
   "source": [
    "for i in range(1,11):\n",
    "    if i == 5:\n",
    "        continue\n",
    "    print(i)"
   ]
  },
  {
   "cell_type": "code",
   "execution_count": 316,
   "id": "46eee712",
   "metadata": {},
   "outputs": [
    {
     "name": "stdout",
     "output_type": "stream",
     "text": [
      "1\n",
      "2\n",
      "3\n",
      "4\n",
      "5\n",
      "6\n",
      "7\n",
      "8\n",
      "9\n",
      "10\n"
     ]
    }
   ],
   "source": [
    "for i in range(1,11):\n",
    "    if i == 5:\n",
    "        pass\n",
    "    print(i)"
   ]
  },
  {
   "cell_type": "code",
   "execution_count": 323,
   "id": "01c40507",
   "metadata": {},
   "outputs": [],
   "source": [
    "student_marks = [{'name':'sam',\n",
    "    'age':25,\n",
    "    'subjects':['Maths','science','CS','Statistics','Phyisics','Bio'],\n",
    "    'Marks':[60,70,80,90,70,60]},\n",
    "                 {'name':'fam',\n",
    "    'age':25,\n",
    "    'subjects':['Maths','science','CS','Statistics','Phyisics','Bio'],\n",
    "    'Marks':[60,70,80,80,70,60]},\n",
    "                 {'name':'sss',\n",
    "    'age':25,\n",
    "    'subjects':['Maths','science','CS','Statistics','Phyisics','Bio'],\n",
    "    'Marks':[60,50,80,70,70,60]}\n",
    "                ]\n",
    "                \n"
   ]
  },
  {
   "cell_type": "code",
   "execution_count": 324,
   "id": "4de7f165",
   "metadata": {},
   "outputs": [
    {
     "data": {
      "text/plain": [
       "3"
      ]
     },
     "execution_count": 324,
     "metadata": {},
     "output_type": "execute_result"
    }
   ],
   "source": [
    "len(student_marks)"
   ]
  },
  {
   "cell_type": "code",
   "execution_count": 320,
   "id": "be2843f6",
   "metadata": {},
   "outputs": [
    {
     "data": {
      "text/plain": [
       "71.66666666666667"
      ]
     },
     "execution_count": 320,
     "metadata": {},
     "output_type": "execute_result"
    }
   ],
   "source": [
    "average = sum(student_marks[0]['Marks'])/len(student_marks[0]['Marks'])\n",
    "average"
   ]
  },
  {
   "cell_type": "code",
   "execution_count": 328,
   "id": "b2e744fa",
   "metadata": {},
   "outputs": [
    {
     "name": "stdout",
     "output_type": "stream",
     "text": [
      "71.66666666666667 A grade\n",
      "65.0 B grade\n"
     ]
    }
   ],
   "source": [
    "for i in range(len(student_marks)):\n",
    "    avg = sum(student_marks[i]['Marks'])/len(student_marks[i]['Marks'])\n",
    "    if avg > 70:\n",
    "        print(avg, 'A grade')\n",
    "    elif avg < 70:\n",
    "        print(avg, 'B grade')"
   ]
  },
  {
   "cell_type": "code",
   "execution_count": 329,
   "id": "8098ace3",
   "metadata": {},
   "outputs": [
    {
     "data": {
      "text/plain": [
       "71.66666666666667"
      ]
     },
     "execution_count": 329,
     "metadata": {},
     "output_type": "execute_result"
    }
   ],
   "source": [
    "import statistics\n",
    "statistics.mean(student_marks[0]['Marks'])"
   ]
  },
  {
   "cell_type": "code",
   "execution_count": 330,
   "id": "6bdfbceb",
   "metadata": {},
   "outputs": [],
   "source": [
    "s=10.66\n"
   ]
  },
  {
   "cell_type": "code",
   "execution_count": 339,
   "id": "1a7c9b94",
   "metadata": {},
   "outputs": [],
   "source": [
    "# Sum in for loop\n",
    "s /= 2"
   ]
  },
  {
   "cell_type": "code",
   "execution_count": 340,
   "id": "a6e01f5f",
   "metadata": {},
   "outputs": [
    {
     "data": {
      "text/plain": [
       "12.66"
      ]
     },
     "execution_count": 340,
     "metadata": {},
     "output_type": "execute_result"
    }
   ],
   "source": [
    "s"
   ]
  },
  {
   "cell_type": "code",
   "execution_count": 344,
   "id": "c4587b59",
   "metadata": {},
   "outputs": [
    {
     "name": "stdout",
     "output_type": "stream",
     "text": [
      "10\n"
     ]
    }
   ],
   "source": [
    "sum1 = 0\n",
    "for k in range(5):#[0,1,2,3,4]\n",
    "    sum1 += 2\n",
    "print(sum1)"
   ]
  },
  {
   "cell_type": "code",
   "execution_count": 346,
   "id": "af5bc272",
   "metadata": {},
   "outputs": [
    {
     "name": "stdout",
     "output_type": "stream",
     "text": [
      "15\n"
     ]
    }
   ],
   "source": [
    "sum1 = [0,1,2,3,4,5]\n",
    "sum2 = 0\n",
    "for k in sum1:\n",
    "    sum2 += k\n",
    "print(sum2)"
   ]
  },
  {
   "cell_type": "code",
   "execution_count": 352,
   "id": "4d3a7595",
   "metadata": {},
   "outputs": [
    {
     "name": "stdout",
     "output_type": "stream",
     "text": [
      "1\n",
      "0\n",
      "-2\n",
      "-5\n",
      "-9\n"
     ]
    }
   ],
   "source": [
    "sum1 = 1\n",
    "for k in range(5):\n",
    "    sum1 -= k\n",
    "    print(sum1)"
   ]
  },
  {
   "cell_type": "code",
   "execution_count": 355,
   "id": "846db74b",
   "metadata": {},
   "outputs": [
    {
     "name": "stdout",
     "output_type": "stream",
     "text": [
      "24\n"
     ]
    }
   ],
   "source": [
    "sum1 = 1\n",
    "for k in range(1,5):\n",
    "    sum1 *= k\n",
    "print(sum1)"
   ]
  },
  {
   "cell_type": "code",
   "execution_count": 356,
   "id": "2fa88029",
   "metadata": {},
   "outputs": [
    {
     "data": {
      "text/plain": [
       "24"
      ]
     },
     "execution_count": 356,
     "metadata": {},
     "output_type": "execute_result"
    }
   ],
   "source": [
    "1*2*3*4"
   ]
  },
  {
   "cell_type": "code",
   "execution_count": 357,
   "id": "af31fde4",
   "metadata": {},
   "outputs": [
    {
     "name": "stdout",
     "output_type": "stream",
     "text": [
      "4\n",
      "8\n",
      "12\n",
      "16\n",
      "20\n",
      "24\n",
      "28\n",
      "32\n",
      "36\n",
      "40\n",
      "44\n"
     ]
    }
   ],
   "source": [
    "sum1 = 0\n",
    "for k in range(11):\n",
    "    sum1 += 4\n",
    "    print(sum1)"
   ]
  },
  {
   "cell_type": "code",
   "execution_count": null,
   "id": "88b754b9",
   "metadata": {},
   "outputs": [],
   "source": [
    "#task 5 : creating multiplication table[2,10]  as list"
   ]
  },
  {
   "cell_type": "code",
   "execution_count": 358,
   "id": "fd0953e8",
   "metadata": {},
   "outputs": [
    {
     "name": "stdout",
     "output_type": "stream",
     "text": [
      "Enter which table do you need2\n",
      "2\n",
      "4\n",
      "6\n",
      "8\n",
      "10\n",
      "12\n",
      "14\n",
      "16\n",
      "18\n",
      "20\n"
     ]
    }
   ],
   "source": [
    "a=[1,2,3,4,5,6,7,8,9,10]\n",
    "b=int(input(\"Enter which table do you need\"))\n",
    "c=[]\n",
    "for i in range(0,len(a)):\n",
    "    j = b*a[i]\n",
    "    c.append(j)\n",
    "    print(b*a[i])\n",
    "    \n",
    "    #print(\"{0} * {1}=\".format(b,a[i]),b*a[i])"
   ]
  },
  {
   "cell_type": "code",
   "execution_count": 359,
   "id": "d794a3cc",
   "metadata": {},
   "outputs": [
    {
     "data": {
      "text/plain": [
       "[2, 4, 6, 8, 10, 12, 14, 16, 18, 20]"
      ]
     },
     "execution_count": 359,
     "metadata": {},
     "output_type": "execute_result"
    }
   ],
   "source": [
    "c"
   ]
  },
  {
   "cell_type": "code",
   "execution_count": 366,
   "id": "e60c57b8",
   "metadata": {},
   "outputs": [
    {
     "name": "stdout",
     "output_type": "stream",
     "text": [
      "0 0 1 \n",
      "1 0 1 \n",
      "2 0 1 \n",
      "3 0 1 \n",
      "4 0 1 \n"
     ]
    }
   ],
   "source": [
    "# nested for loop\n",
    "i = 5\n",
    "j = 2\n",
    "for k in range(5):\n",
    "    print(k,end = ' ')\n",
    "    for l in range(2):\n",
    "        print(l,end = ' ')\n",
    "    print()\n"
   ]
  },
  {
   "cell_type": "code",
   "execution_count": 369,
   "id": "cf9c94a6",
   "metadata": {},
   "outputs": [],
   "source": [
    "k = [0,1,5,6,7]\n",
    "i = ['S1','S2','S3','S4']\n",
    "for j in k:\n",
    "    if 'S5'in i:\n",
    "        print('S1 is present in i list')\n",
    "        for l in k:\n",
    "            l+=1\n",
    "            for m in i:\n",
    "                pass\n",
    "                #print(m)\n",
    "            #print(l)"
   ]
  },
  {
   "cell_type": "code",
   "execution_count": null,
   "id": "7f53dcd6",
   "metadata": {},
   "outputs": [],
   "source": [
    "# print pattern using for loop in python\n",
    "1\n",
    "1,2\n",
    "1,2,3\n",
    "1,2,3,4\n",
    "1,2,3,4,5\n",
    "\n",
    "# print pattern using for loop in python\n",
    "1\n",
    "1,2\n",
    "1,2,3\n",
    "1,2,3,4\n",
    "1,2,3\n",
    "1,2\n",
    "1"
   ]
  },
  {
   "cell_type": "markdown",
   "id": "c6396108",
   "metadata": {},
   "source": [
    "# For loops"
   ]
  },
  {
   "cell_type": "code",
   "execution_count": 374,
   "id": "bf6a3c44",
   "metadata": {},
   "outputs": [
    {
     "name": "stdout",
     "output_type": "stream",
     "text": [
      "20\n",
      "22\n",
      "24\n",
      "26\n",
      "28\n",
      "30\n",
      "32\n"
     ]
    }
   ],
   "source": [
    "# manual looping\n",
    "num = [10,11,12,13,14,15,16,17]\n",
    "print(num[0] * 2)\n",
    "print(num[1] * 2)\n",
    "print(num[2] * 2)\n",
    "print(num[3] * 2)\n",
    "print(num[4] * 2)\n",
    "print(num[5] * 2)\n",
    "print(num[6] * 2)\n"
   ]
  },
  {
   "cell_type": "code",
   "execution_count": 375,
   "id": "745e0ff5",
   "metadata": {},
   "outputs": [
    {
     "name": "stdout",
     "output_type": "stream",
     "text": [
      "0 01234\n",
      "1 01234\n",
      "2 01234\n",
      "3 01234\n",
      "4 01234\n"
     ]
    }
   ],
   "source": [
    "for i in range(5):\n",
    "    print(i,end = ' ' )\n",
    "    for j in range(5):\n",
    "        print(j, end = '')\n",
    "    print()"
   ]
  },
  {
   "cell_type": "code",
   "execution_count": null,
   "id": "0e0697be",
   "metadata": {},
   "outputs": [],
   "source": [
    "num = [10,11,12,13,14,15,16,17] # 10^2,11^2.....\n",
    "for i in num:\n",
    "    print(i*i)\n"
   ]
  },
  {
   "cell_type": "code",
   "execution_count": null,
   "id": "556fa0de",
   "metadata": {},
   "outputs": [],
   "source": [
    "num = [10,11,12,13,14,15,16,17] # 10^3,11^3.....\n",
    "for i in num:\n",
    "    print(i*i*i)"
   ]
  },
  {
   "cell_type": "code",
   "execution_count": null,
   "id": "2665c773",
   "metadata": {},
   "outputs": [],
   "source": [
    "for i in num:\n",
    "    i *=2 #  i = i*2\n",
    "    print(i)"
   ]
  },
  {
   "cell_type": "code",
   "execution_count": null,
   "id": "20550c11",
   "metadata": {},
   "outputs": [],
   "source": [
    "Veggies = ['tomato','brinjal','spinach','cucumber','pumpkin']\n",
    "for i in Veggies:\n",
    "    i+= ' #11'\n",
    "    print(i)"
   ]
  },
  {
   "cell_type": "code",
   "execution_count": null,
   "id": "d100e2b2",
   "metadata": {},
   "outputs": [],
   "source": [
    "Result = {'sam':{'sub':['maths','science','CS','DS'],'marks':[80,90,70,50]},\n",
    "         'Fam':{'sub':['maths','science','CS','DS'],'marks':[70,80,95,50]},\n",
    "         'ram':{'sub':['maths','science','CS','DS'],'marks':[77,98,70,50]}}"
   ]
  },
  {
   "cell_type": "code",
   "execution_count": null,
   "id": "50f5320c",
   "metadata": {},
   "outputs": [],
   "source": [
    "for i in Result:\n",
    "    print(i)"
   ]
  },
  {
   "cell_type": "code",
   "execution_count": null,
   "id": "fe3bc4dc",
   "metadata": {},
   "outputs": [],
   "source": [
    "Result['sam']['marks']"
   ]
  },
  {
   "cell_type": "code",
   "execution_count": null,
   "id": "b59f8eb6",
   "metadata": {},
   "outputs": [],
   "source": [
    "Result = [{'sub':['maths','science','CS','DS'],'marks':[80,90,70,50]},\n",
    "         {'sub':['maths','science','CS','DS'],'marks':[70,80,95,50]},\n",
    "         {'sub':['maths','science','CS','DS'],'marks':[77,98,70,50]}]"
   ]
  },
  {
   "cell_type": "code",
   "execution_count": null,
   "id": "826fa7dc",
   "metadata": {},
   "outputs": [],
   "source": [
    "import statistics\n",
    "for i in Result:\n",
    "    avg = statistics.mean(i['marks'])\n",
    "    print(avg)\n",
    "    if avg >= 70:\n",
    "        print('A grade')"
   ]
  },
  {
   "cell_type": "code",
   "execution_count": null,
   "id": "c7e5958d",
   "metadata": {},
   "outputs": [],
   "source": [
    "#using range()\n",
    "\n",
    "for i in range(11):\n",
    "    print(i)"
   ]
  },
  {
   "cell_type": "code",
   "execution_count": null,
   "id": "3019fa68",
   "metadata": {},
   "outputs": [],
   "source": [
    "for i in range(0,21,2):\n",
    "    print(i)"
   ]
  },
  {
   "cell_type": "code",
   "execution_count": null,
   "id": "4167c6ae",
   "metadata": {},
   "outputs": [],
   "source": [
    "table = [1,2,3,4,5,6,7,8,9,10]\n",
    "for i in range(11):\n",
    "    i*=2\n",
    "    print(i)"
   ]
  },
  {
   "cell_type": "code",
   "execution_count": null,
   "id": "85acd489",
   "metadata": {},
   "outputs": [],
   "source": [
    "table = 1\n",
    "for i in range(11):\n",
    "    i *= 2\n",
    "    print(i)"
   ]
  },
  {
   "cell_type": "code",
   "execution_count": 376,
   "id": "8081b405",
   "metadata": {},
   "outputs": [
    {
     "name": "stdout",
     "output_type": "stream",
     "text": [
      "Enter the value to print the table: 5\n",
      "5\n",
      "10\n",
      "15\n",
      "20\n",
      "25\n",
      "30\n",
      "35\n",
      "40\n",
      "45\n",
      "50\n"
     ]
    }
   ],
   "source": [
    "# nested for loop\n",
    "\n",
    "n = [int(input('Enter the value to print the table: '))]\n",
    "for i in n:\n",
    "    for j in range(1,11): ## 1--10\n",
    "        mul = i*j\n",
    "        print(mul)\n",
    "      "
   ]
  },
  {
   "cell_type": "code",
   "execution_count": null,
   "id": "3e580e9f",
   "metadata": {},
   "outputs": [],
   "source": [
    "n = [int(input('Enter the value to print the table: '))]\n",
    "for i in n:\n",
    "    for j in range(1,11): ## 1--10\n",
    "        mul = i*j\n",
    "#         print(mul)\n",
    "        for k in range(1,mul,2):\n",
    "            k+=2\n",
    "            print(k)\n",
    "        "
   ]
  },
  {
   "cell_type": "markdown",
   "id": "98fc0617",
   "metadata": {},
   "source": [
    "# patterns using loop"
   ]
  },
  {
   "cell_type": "raw",
   "id": "c3fef630",
   "metadata": {},
   "source": [
    "1\n",
    "1,2\n",
    "1,2,3\n",
    "1,2,3,4\n",
    "1,2,3,4,5"
   ]
  },
  {
   "cell_type": "code",
   "execution_count": 391,
   "id": "2847b10f",
   "metadata": {},
   "outputs": [
    {
     "name": "stdout",
     "output_type": "stream",
     "text": [
      "0 \n",
      "0 1 \n",
      "0 1 2 \n",
      "0 1 2 3 \n",
      "0 1 2 3 4 \n",
      "0 1 2 3 4 5 \n",
      "0 1 2 3 4 5 6 \n",
      "0 1 2 3 4 5 6 7 \n",
      "0 1 2 3 4 5 6 7 8 \n"
     ]
    }
   ],
   "source": [
    "# create a pattern\n",
    "n = 10\n",
    "for n in range(1,n):\n",
    "\n",
    "    for m in range(n):\n",
    "        print(m, end = ' ')\n",
    "\n",
    "    print()\n"
   ]
  },
  {
   "cell_type": "code",
   "execution_count": null,
   "id": "972b04e5",
   "metadata": {},
   "outputs": [],
   "source": [
    "#1,2,3,4,5,6,9,10\n",
    "for i in range(1,11):\n",
    "    print(i)"
   ]
  },
  {
   "cell_type": "code",
   "execution_count": 10,
   "id": "f5c3fa7b",
   "metadata": {},
   "outputs": [
    {
     "name": "stdout",
     "output_type": "stream",
     "text": [
      "10\n",
      "9\n",
      "8\n",
      "7\n",
      "6\n",
      "5\n",
      "4\n",
      "3\n",
      "2\n",
      "1\n"
     ]
    }
   ],
   "source": [
    "h = 10\n",
    "for i in range(10,0,-1):\n",
    "    print(i)"
   ]
  },
  {
   "cell_type": "code",
   "execution_count": 1,
   "id": "f0dca7ea",
   "metadata": {},
   "outputs": [],
   "source": [
    "n=10\n",
    "for i in range(n+1,1):\n",
    "    print(i)\n",
    "    \n"
   ]
  },
  {
   "cell_type": "code",
   "execution_count": 8,
   "id": "1b93cc52",
   "metadata": {},
   "outputs": [
    {
     "name": "stdout",
     "output_type": "stream",
     "text": [
      "10\n",
      "9\n",
      "8\n",
      "7\n",
      "6\n",
      "5\n",
      "4\n",
      "3\n",
      "2\n"
     ]
    }
   ],
   "source": [
    "for n in range(n-1,0,-1):\n",
    "    print(n+1)\n",
    "   "
   ]
  },
  {
   "cell_type": "code",
   "execution_count": null,
   "id": "5ee93df9",
   "metadata": {},
   "outputs": [],
   "source": [
    "init\n",
    "condition\n",
    "increment/decrement"
   ]
  },
  {
   "cell_type": "markdown",
   "id": "7cc4b8ad",
   "metadata": {},
   "source": [
    "# while loop"
   ]
  },
  {
   "cell_type": "code",
   "execution_count": 13,
   "id": "32c01a4b",
   "metadata": {},
   "outputs": [
    {
     "name": "stdout",
     "output_type": "stream",
     "text": [
      "1\n",
      "2\n",
      "3\n",
      "4\n",
      "5\n",
      "6\n",
      "7\n",
      "8\n",
      "9\n",
      "10\n",
      "=================================================\n",
      "10\n",
      "9\n",
      "8\n",
      "7\n",
      "6\n",
      "5\n",
      "4\n",
      "3\n",
      "2\n",
      "1\n"
     ]
    }
   ],
   "source": [
    "i = 1\n",
    "while(i<=10):\n",
    "    print(i)\n",
    "    i = i+1\n",
    "print('=================================================')\n",
    "i = 10\n",
    "while(i>=1):\n",
    "    print(i)\n",
    "    i = i-1"
   ]
  },
  {
   "cell_type": "code",
   "execution_count": 14,
   "id": "52d9be5f",
   "metadata": {},
   "outputs": [
    {
     "name": "stdout",
     "output_type": "stream",
     "text": [
      "1\n",
      "2\n",
      "3\n",
      "4\n",
      "5\n",
      "6\n",
      "7\n",
      "8\n",
      "9\n",
      "10\n"
     ]
    }
   ],
   "source": [
    "i = 1\n",
    "while(i<=10):\n",
    "    print(i)\n",
    "    i = i+1"
   ]
  },
  {
   "cell_type": "code",
   "execution_count": 15,
   "id": "f8a8433a",
   "metadata": {},
   "outputs": [
    {
     "name": "stdout",
     "output_type": "stream",
     "text": [
      "10\n",
      "9\n",
      "8\n",
      "7\n",
      "6\n",
      "5\n",
      "4\n",
      "3\n",
      "2\n",
      "1\n",
      "0\n"
     ]
    }
   ],
   "source": [
    "i = 10\n",
    "while(i>=0):\n",
    "    print(i)\n",
    "    i = i-1"
   ]
  },
  {
   "cell_type": "code",
   "execution_count": 18,
   "id": "f44b8ebc",
   "metadata": {},
   "outputs": [
    {
     "name": "stdout",
     "output_type": "stream",
     "text": [
      "enter the number: 9\n",
      "9\n",
      "8\n",
      "7\n",
      "6\n",
      "5\n",
      "4\n",
      "3\n",
      "2\n",
      "1\n"
     ]
    }
   ],
   "source": [
    "# # 1st n natural numbers\n",
    "# n = int(input('enter the number: '))\n",
    "# i = 1\n",
    "# while(i<=n):\n",
    "#     print(i)\n",
    "#     i = i+1\n",
    "    \n",
    "#program to print 10 - 1.\n",
    "n = int(input('enter the number: '))\n",
    "i = n\n",
    "while(i>=1):\n",
    "    print(i)\n",
    "    i = i-1"
   ]
  },
  {
   "cell_type": "code",
   "execution_count": 19,
   "id": "1d897aae",
   "metadata": {},
   "outputs": [
    {
     "name": "stdout",
     "output_type": "stream",
     "text": [
      "sum =  15\n"
     ]
    }
   ],
   "source": [
    "# 1st sum of n natural numbers\n",
    "n = 5\n",
    "i = 1\n",
    "sum = 0\n",
    "while(i<=n):\n",
    "    sum = sum + i# 1+2+3+4+5 = 15\n",
    "    i = i+1\n",
    "print('sum = ',sum)"
   ]
  },
  {
   "cell_type": "code",
   "execution_count": 23,
   "id": "557c43dc",
   "metadata": {},
   "outputs": [
    {
     "name": "stdout",
     "output_type": "stream",
     "text": [
      "enter the number: 5\n",
      "sum =  15\n"
     ]
    }
   ],
   "source": [
    "n = int(input('enter the number: ')) #[1+2+3+4+5+6......n]\n",
    "i = 1\n",
    "sum = 0\n",
    "while(i<=n):\n",
    "    sum = sum + i\n",
    "    i = i+1\n",
    "print('sum = ',sum)"
   ]
  },
  {
   "cell_type": "code",
   "execution_count": null,
   "id": "f3443a53",
   "metadata": {},
   "outputs": [],
   "source": [
    "# [ 1^2 + 2^2 + 3^2 + 4^2.....n^2]"
   ]
  },
  {
   "cell_type": "code",
   "execution_count": 24,
   "id": "4ee4c336",
   "metadata": {},
   "outputs": [
    {
     "name": "stdout",
     "output_type": "stream",
     "text": [
      "enter the number: 6\n",
      "sum =  91\n"
     ]
    }
   ],
   "source": [
    "n = int(input('enter the number: '))\n",
    "i = 1\n",
    "sum = 0\n",
    "while(i<=n):\n",
    "    sum = sum + i*i\n",
    "    i = i+1\n",
    "print('sum = ',sum)"
   ]
  },
  {
   "cell_type": "code",
   "execution_count": 25,
   "id": "b2220f6c",
   "metadata": {},
   "outputs": [
    {
     "name": "stdout",
     "output_type": "stream",
     "text": [
      "enter the number: 3\n",
      "sum =  36\n"
     ]
    }
   ],
   "source": [
    "n = int(input('enter the number: '))\n",
    "i = 1\n",
    "sum = 0\n",
    "while(i<=n):\n",
    "    sum = sum + i*i*i\n",
    "    i = i+1\n",
    "print('sum = ',sum)"
   ]
  },
  {
   "cell_type": "code",
   "execution_count": 26,
   "id": "cf3e5238",
   "metadata": {},
   "outputs": [
    {
     "name": "stdout",
     "output_type": "stream",
     "text": [
      "2\n",
      "4\n",
      "6\n",
      "8\n",
      "10\n"
     ]
    }
   ],
   "source": [
    "# print(even number)\n",
    "n = 10\n",
    "i = 2\n",
    "while(i<=10):\n",
    "    print(i)\n",
    "    i = i+2"
   ]
  },
  {
   "cell_type": "code",
   "execution_count": 30,
   "id": "e6918777",
   "metadata": {},
   "outputs": [
    {
     "name": "stdout",
     "output_type": "stream",
     "text": [
      "1\n",
      "3\n",
      "5\n",
      "7\n",
      "9\n"
     ]
    }
   ],
   "source": [
    "# print(odd number)\n",
    "n = 10\n",
    "i = 1\n",
    "while(i<=10):\n",
    "    print(i)\n",
    "    i = i+2"
   ]
  },
  {
   "cell_type": "code",
   "execution_count": 32,
   "id": "f41805ee",
   "metadata": {},
   "outputs": [
    {
     "name": "stdout",
     "output_type": "stream",
     "text": [
      "enter the number: 5\n",
      "sum =  9\n"
     ]
    }
   ],
   "source": [
    "# sum of even numbers\n",
    "n = int(input('enter the number: '))\n",
    "i =1\n",
    "sum = 0\n",
    "while(i<=n):\n",
    "    sum = sum + i\n",
    "    i = i+2\n",
    "print('sum = ',sum)"
   ]
  },
  {
   "cell_type": "code",
   "execution_count": 35,
   "id": "3d2d653f",
   "metadata": {},
   "outputs": [
    {
     "name": "stdout",
     "output_type": "stream",
     "text": [
      "sum of digit=  14\n"
     ]
    }
   ],
   "source": [
    "## sum of digits of given number\n",
    "i = 248\n",
    "sum = 0 #[ 8 + 4 + 2]\n",
    "while(i>0):\n",
    "    sum = sum+i%10\n",
    "    i = i//10\n",
    "print('sum of digit= ',sum)"
   ]
  },
  {
   "cell_type": "code",
   "execution_count": 34,
   "id": "1d5fe7b3",
   "metadata": {},
   "outputs": [
    {
     "data": {
      "text/plain": [
       "2"
      ]
     },
     "execution_count": 34,
     "metadata": {},
     "output_type": "execute_result"
    }
   ],
   "source": [
    "\n"
   ]
  },
  {
   "cell_type": "code",
   "execution_count": 36,
   "id": "87080ac2",
   "metadata": {},
   "outputs": [
    {
     "name": "stdout",
     "output_type": "stream",
     "text": [
      "sum of digit=  84\n"
     ]
    }
   ],
   "source": [
    "## sum of square of digits\n",
    "i = 248\n",
    "sum = 0\n",
    "while(i>0):\n",
    "    sum = sum+(i%10) * (i%10) #[ 64 + 16 + 4]\n",
    "    i = i//10\n",
    "print('sum of digit= ',sum)\n",
    "\n",
    "## sum of cube of digits"
   ]
  },
  {
   "cell_type": "code",
   "execution_count": 38,
   "id": "7fe5c39d",
   "metadata": {},
   "outputs": [
    {
     "name": "stdout",
     "output_type": "stream",
     "text": [
      "number is armstrong\n",
      "sum of digit=  153\n"
     ]
    }
   ],
   "source": [
    "## Armstrong number [153 = 1^3 + 5^3 + 3^3] 1+125+27\n",
    "i = 153\n",
    "j = i\n",
    "sum = 0\n",
    "while(i>0):\n",
    "    sum = sum+(i%10) * (i%10)* (i%10)\n",
    "    i = i//10\n",
    "if j == sum:\n",
    "    print('number is armstrong')\n",
    "else:\n",
    "    print('number is not armstrong')\n",
    "print('sum of digit= ',sum)"
   ]
  },
  {
   "cell_type": "code",
   "execution_count": 40,
   "id": "96522922",
   "metadata": {},
   "outputs": [
    {
     "name": "stdout",
     "output_type": "stream",
     "text": [
      "prod of digit=  64\n"
     ]
    }
   ],
   "source": [
    "## product of digits\n",
    "\n",
    "i = 248\n",
    "prod = 1\n",
    "while(i>0):\n",
    "    prod = prod * (i%10)\n",
    "    i = i//10\n",
    "print('prod of digit= ',prod)"
   ]
  },
  {
   "cell_type": "code",
   "execution_count": 41,
   "id": "a522e8a6",
   "metadata": {},
   "outputs": [
    {
     "name": "stdout",
     "output_type": "stream",
     "text": [
      "prod of digit=  4096\n"
     ]
    }
   ],
   "source": [
    "## product square of digits\n",
    "\n",
    "i = 248\n",
    "prod = 1\n",
    "while(i>0):\n",
    "    prod = prod * (i%10) * (i%10)\n",
    "    i = i//10\n",
    "print('prod of digit= ',prod)"
   ]
  },
  {
   "cell_type": "code",
   "execution_count": 43,
   "id": "44f55e12",
   "metadata": {},
   "outputs": [
    {
     "name": "stdout",
     "output_type": "stream",
     "text": [
      "8\n",
      "84\n",
      "842\n",
      "rev of digit=  842\n"
     ]
    }
   ],
   "source": [
    "# print the reverse of number\n",
    "i = 248\n",
    "rev = 0\n",
    "while(i>0):\n",
    "    rev = (rev*10) + (i%10)\n",
    "    print(rev)\n",
    "    i = i//10\n",
    "print('rev of digit= ',rev)"
   ]
  },
  {
   "cell_type": "code",
   "execution_count": 45,
   "id": "29ab57f9",
   "metadata": {},
   "outputs": [
    {
     "name": "stdout",
     "output_type": "stream",
     "text": [
      "123\n",
      "number is not pelindrome\n",
      "rev of digit=  321\n"
     ]
    }
   ],
   "source": [
    "# print the check the pelindrom number\n",
    "i = int(input())\n",
    "pel = 0\n",
    "x= i\n",
    "while(i>0):\n",
    "    pel = (pel*10) + (i%10)\n",
    "    i = i//10\n",
    "if x == pel:\n",
    "    print('number is pelindrome')\n",
    "else:\n",
    "    print('number is not pelindrome')\n",
    "print('rev of digit= ',pel)"
   ]
  },
  {
   "cell_type": "code",
   "execution_count": 46,
   "id": "841492a9",
   "metadata": {},
   "outputs": [
    {
     "name": "stdout",
     "output_type": "stream",
     "text": [
      "1\n",
      "2\n",
      "3\n",
      "4\n",
      "1\n",
      "2\n",
      "3\n",
      "4\n",
      "1\n",
      "2\n",
      "3\n",
      "4\n",
      "1\n",
      "2\n",
      "3\n",
      "4\n",
      "1\n",
      "2\n",
      "3\n",
      "4\n"
     ]
    }
   ],
   "source": [
    "# nested loop\n",
    "i = 1\n",
    "while i <= 5:\n",
    "    j = 1\n",
    "    while j<5:\n",
    "        print(j)\n",
    "        j = j+1\n",
    "    i = i+1"
   ]
  },
  {
   "cell_type": "code",
   "execution_count": 47,
   "id": "65094b00",
   "metadata": {},
   "outputs": [
    {
     "name": "stdout",
     "output_type": "stream",
     "text": [
      "1 \n",
      "1 2 \n",
      "1 2 3 \n",
      "1 2 3 4 \n",
      "1 2 3 4 5 \n"
     ]
    }
   ],
   "source": [
    "i = 1\n",
    "while i<= 5:\n",
    "    j = 1\n",
    "    while j<=i:\n",
    "        print(j, end = ' ')\n",
    "        j = j+1\n",
    "    print()\n",
    "    i = i+1"
   ]
  },
  {
   "cell_type": "code",
   "execution_count": 51,
   "id": "e157e44f",
   "metadata": {},
   "outputs": [
    {
     "name": "stdout",
     "output_type": "stream",
     "text": [
      "1 1 \n",
      "2 1 2 2 \n",
      "3 1 3 2 3 3 \n",
      "4 1 4 2 4 3 4 4 \n",
      "5 1 5 2 5 3 5 4 5 5 \n"
     ]
    }
   ],
   "source": [
    "i = 1\n",
    "while i<= 5:\n",
    "    j = 1\n",
    "    while j<=i:\n",
    "        print(i, end = ' ')\n",
    "        j = j+1\n",
    "    print()\n",
    "    i = i+1"
   ]
  },
  {
   "cell_type": "code",
   "execution_count": 52,
   "id": "64cdcd5c",
   "metadata": {},
   "outputs": [
    {
     "name": "stdout",
     "output_type": "stream",
     "text": [
      "1 \n",
      "1 2 \n",
      "1 2 3 \n",
      "1 2 3 4 \n",
      "1 2 3 4 5 \n"
     ]
    }
   ],
   "source": [
    "i = 1\n",
    "while i<= 5:\n",
    "    j = 1\n",
    "    while j<=i:\n",
    "        print(j, end = ' ')\n",
    "        j = j+1\n",
    "    print()\n",
    "    i = i+1"
   ]
  },
  {
   "cell_type": "code",
   "execution_count": 55,
   "id": "30207f99",
   "metadata": {},
   "outputs": [
    {
     "name": "stdout",
     "output_type": "stream",
     "text": [
      "\n",
      "0\n",
      "01\n",
      "012\n",
      "0123\n"
     ]
    }
   ],
   "source": [
    "for i in range(5):\n",
    "    j = 1\n",
    "    for j in range(i):\n",
    "        print(j,end = '')\n",
    "        j = j+1\n",
    "    print()\n",
    "    i = i+1"
   ]
  },
  {
   "cell_type": "code",
   "execution_count": 56,
   "id": "e28e76ab",
   "metadata": {},
   "outputs": [
    {
     "name": "stdout",
     "output_type": "stream",
     "text": [
      "\n",
      "1\n",
      "22\n",
      "333\n",
      "4444\n"
     ]
    }
   ],
   "source": [
    "for i in range(5):\n",
    "    j = 1\n",
    "    for j in range(i):\n",
    "        print(i,end = '')\n",
    "        j = j+1\n",
    "    print()\n",
    "    i = i+1"
   ]
  },
  {
   "cell_type": "code",
   "execution_count": 57,
   "id": "5323d4cc",
   "metadata": {},
   "outputs": [
    {
     "name": "stdout",
     "output_type": "stream",
     "text": [
      "\n",
      "0\n",
      "01\n",
      "012\n",
      "0123\n",
      "01234\n"
     ]
    }
   ],
   "source": [
    "for i in range(n+1):\n",
    "    j = 1\n",
    "    for j in range(i):\n",
    "        print(j,end = '')\n",
    "        j = j+1\n",
    "    print()\n",
    "    i = i+1"
   ]
  },
  {
   "cell_type": "code",
   "execution_count": 59,
   "id": "9004b669",
   "metadata": {
    "scrolled": true
   },
   "outputs": [
    {
     "name": "stdout",
     "output_type": "stream",
     "text": [
      "    1 \n",
      "\n",
      "   1 2 \n",
      "\n",
      "  1 2 3 \n",
      "\n",
      " 1 2 3 4 \n",
      "\n",
      "1 2 3 4 5 \n",
      "\n"
     ]
    }
   ],
   "source": [
    "i = 1\n",
    "while i<= 5:\n",
    "    j = 1\n",
    "    while j<=5-i:\n",
    "        print(' ',end = '')\n",
    "        j = j+1\n",
    "    k = 1\n",
    "    while k<=i:\n",
    "        print(k, end = ' ')\n",
    "        k = k+1\n",
    "    while k<=i:\n",
    "        print(k+1, end = ' ')\n",
    "        k = k+1\n",
    "    print()\n",
    "    print()\n",
    "        i = i+1"
   ]
  },
  {
   "cell_type": "code",
   "execution_count": 60,
   "id": "a65d4595",
   "metadata": {},
   "outputs": [
    {
     "name": "stdout",
     "output_type": "stream",
     "text": [
      "    1 \n",
      "   2 2 \n",
      "  3 3 3 \n",
      " 4 4 4 4 \n",
      "5 5 5 5 5 \n"
     ]
    }
   ],
   "source": [
    "i = 1\n",
    "while i<= 5:\n",
    "    j = 1\n",
    "    while j<=5-i:\n",
    "        print(' ',end = '')\n",
    "        j = j+1\n",
    "    k = 1\n",
    "    while k<=i:\n",
    "        print(i, end = ' ')\n",
    "        k = k+1\n",
    "    print()\n",
    "    i = i+1"
   ]
  },
  {
   "cell_type": "code",
   "execution_count": 61,
   "id": "dba1ffb5",
   "metadata": {},
   "outputs": [
    {
     "name": "stdout",
     "output_type": "stream",
     "text": [
      "    5 \n",
      "   4 4 \n",
      "  3 3 3 \n",
      " 2 2 2 2 \n",
      "1 1 1 1 1 \n"
     ]
    }
   ],
   "source": [
    "i = 1\n",
    "while i<= 5:\n",
    "    j = 1\n",
    "    while j<=5-i:\n",
    "        print(' ',end = '')\n",
    "        j = j+1\n",
    "    k = 1\n",
    "    while k<=i:\n",
    "        print(j, end = ' ')\n",
    "        k = k+1\n",
    "    print()\n",
    "    i = i+1"
   ]
  },
  {
   "cell_type": "code",
   "execution_count": 62,
   "id": "229d2191",
   "metadata": {},
   "outputs": [
    {
     "name": "stdout",
     "output_type": "stream",
     "text": [
      "    1 \n",
      "   1 2 \n",
      "  1 2 3 \n",
      " 1 2 3 4 \n",
      "1 2 3 4 5 \n"
     ]
    }
   ],
   "source": [
    "i = 1\n",
    "while i<= 5:\n",
    "    j = 1\n",
    "    while j<=5-i:\n",
    "        print(' ',end = '')\n",
    "        j = j+1\n",
    "    k = 1\n",
    "    while k<=i:\n",
    "        print(k, end = ' ')\n",
    "        k = k+1\n",
    "    print()\n",
    "    i = i+1"
   ]
  },
  {
   "cell_type": "code",
   "execution_count": 63,
   "id": "16acfaf3",
   "metadata": {},
   "outputs": [
    {
     "name": "stdout",
     "output_type": "stream",
     "text": [
      "          \n",
      "        * \n",
      "      * * \n",
      "    * * * \n",
      "  * * * * \n"
     ]
    }
   ],
   "source": [
    "for i in range(5):\n",
    "    b = 1\n",
    "    for b in range(5-i):\n",
    "        print(' ',end= ' ')\n",
    "    j = 1\n",
    "    for j in range(i):\n",
    "        print('*',end = ' ')\n",
    "        j = j+1\n",
    "    print()"
   ]
  },
  {
   "cell_type": "code",
   "execution_count": 64,
   "id": "edfab5b7",
   "metadata": {},
   "outputs": [
    {
     "name": "stdout",
     "output_type": "stream",
     "text": [
      "          \n",
      "        1 \n",
      "      2 2 \n",
      "    3 3 3 \n",
      "  4 4 4 4 \n"
     ]
    }
   ],
   "source": [
    "for i in range(5):\n",
    "    b = 1\n",
    "    for b in range(5-i):\n",
    "        print(' ',end= ' ')\n",
    "    j = 1\n",
    "    for j in range(i):\n",
    "        print(i,end = ' ')\n",
    "        j = j+1\n",
    "    print()"
   ]
  },
  {
   "cell_type": "code",
   "execution_count": 68,
   "id": "d0220a68",
   "metadata": {},
   "outputs": [
    {
     "name": "stdout",
     "output_type": "stream",
     "text": [
      "        \n",
      "      1 2 \n",
      "    2 3 2 3 \n",
      "  3 4 3 4 3 4 \n",
      "4 5 4 5 4 5 4 5 \n"
     ]
    }
   ],
   "source": [
    "for i in range(5):\n",
    "    b = 1\n",
    "    for b in range(5-i,1,-1):\n",
    "        print(' ',end= ' ')\n",
    "        \n",
    "    j = 1\n",
    "    for j in range(i):\n",
    "        print(i,i+1,end = ' ')\n",
    "        j = j+1\n",
    "    print()"
   ]
  },
  {
   "cell_type": "code",
   "execution_count": null,
   "id": "9c80bac8",
   "metadata": {},
   "outputs": [],
   "source": [
    "n = 5\n",
    "for i in range(n,1):\n",
    "    \n",
    "    for j in range(n):\n",
    "        print(i,i+1,end = '')\n",
    "        j = j+1\n",
    "        print(' ',end = '')\n",
    "        i = i+1\n",
    "    print()"
   ]
  },
  {
   "cell_type": "code",
   "execution_count": null,
   "id": "dbc1bef4",
   "metadata": {},
   "outputs": [],
   "source": [
    "for i in range(10,0,-1):\n",
    "    print(i)\n",
    "else:\n",
    "    print('conmplited')"
   ]
  },
  {
   "cell_type": "code",
   "execution_count": null,
   "id": "0f97ccf8",
   "metadata": {},
   "outputs": [],
   "source": [
    "\n",
    "k = [1,2,3,4,5,6,7,8,9,10]\n",
    "l = []\n",
    "for i in k:\n",
    "    for j in range(1,11):\n",
    "        j = j * i\n",
    "        l.append(j)\n",
    "print(l)"
   ]
  },
  {
   "cell_type": "code",
   "execution_count": null,
   "id": "0aa46036",
   "metadata": {},
   "outputs": [],
   "source": [
    "# functions\n",
    "\n",
    "Defining a Python function\n",
    "\n",
    "def greet():\n",
    "    \"\"\" Display a greeting to users \"\"\"\n",
    "    print('Hi')\n",
    "1) Function definition\n",
    "\n",
    "A function definition starts with the def keyword and the name of the function (greet)\n",
    "\n",
    "2) Function body\n",
    "All the indented lines that follow the function definition make up the function’s body\n",
    "\n",
    "Calling a function"
   ]
  },
  {
   "cell_type": "code",
   "execution_count": null,
   "id": "4450b8de",
   "metadata": {},
   "outputs": [],
   "source": [
    "dir()"
   ]
  },
  {
   "cell_type": "code",
   "execution_count": null,
   "id": "24619911",
   "metadata": {},
   "outputs": [],
   "source": []
  },
  {
   "cell_type": "code",
   "execution_count": null,
   "id": "0a497bd2",
   "metadata": {},
   "outputs": [],
   "source": [
    "Passing information to Python functions\n",
    "\n",
    "def greet(name):\n",
    "    \n",
    "The name is called a function parameter or simply a parameter.\n",
    "\n",
    "def greet(name):\n",
    "    print(f\"Hi {name}\")\n",
    "\n",
    "greet('sam')"
   ]
  },
  {
   "cell_type": "code",
   "execution_count": null,
   "id": "f00f09e5",
   "metadata": {},
   "outputs": [],
   "source": [
    "Returning a value\n",
    "\n",
    "def greet(name):\n",
    "    return f\"Hi {name}\""
   ]
  },
  {
   "cell_type": "code",
   "execution_count": null,
   "id": "f6e4f0b4",
   "metadata": {},
   "outputs": [],
   "source": [
    "Python functions with multiple parameters\n",
    "\n",
    "def sum(a, b):\n",
    "    return a + b\n",
    "\n",
    "\n",
    "total = sum(10,20)\n",
    "print(total"
   ]
  },
  {
   "cell_type": "code",
   "execution_count": null,
   "id": "18f2b4fb",
   "metadata": {},
   "outputs": [],
   "source": [
    "Python default parameters in functions\n",
    "\n",
    "def function_name(param1, param2=value2, param3=value3, ...):\n",
    "\n",
    "When you define a function, you can specify a default value for each parameter\n",
    "\n",
    "def greet(name, message='Hi'):\n",
    "    return f\"{message} {name}\""
   ]
  },
  {
   "cell_type": "markdown",
   "id": "3833436b",
   "metadata": {},
   "source": [
    "Lambda function:\n",
    "Python lambda expressions allow you to define anonymous functions.\n",
    "\n",
    "Anonymous functions are functions without names. The anonymous functions are useful when you need to use them once.\n",
    "lambda parameters: expression\n",
    "\n",
    "def anonymous(parameters):\n",
    "    return expression"
   ]
  },
  {
   "cell_type": "code",
   "execution_count": null,
   "id": "7595dbef",
   "metadata": {},
   "outputs": [],
   "source": [
    "def times(n):\n",
    "    return lambda x: x * n"
   ]
  },
  {
   "cell_type": "code",
   "execution_count": null,
   "id": "8b575b88",
   "metadata": {},
   "outputs": [],
   "source": [
    "# docstring\n",
    "help(print)\n",
    "\n",
    "def add(a, b):\n",
    "    \"Return the sum of two arguments\"\n",
    "    return a + b\n",
    "help(add)"
   ]
  },
  {
   "cell_type": "code",
   "execution_count": null,
   "id": "2c5ff1cc",
   "metadata": {},
   "outputs": [],
   "source": [
    "def add(a, b):\n",
    "    \"\"\" Add two arguments\n",
    "    Arguments:\n",
    "        a: an integer\n",
    "        b: an integer\n",
    "        \n",
    "    Returns:\n",
    "        The sum of the two arguments\n",
    "    \"\"\"\n",
    "    return a + b"
   ]
  },
  {
   "cell_type": "markdown",
   "id": "92249c76",
   "metadata": {},
   "source": [
    "# python functions"
   ]
  },
  {
   "cell_type": "raw",
   "id": "38cd7649",
   "metadata": {},
   "source": [
    "User defined Python function:\n",
    "    \n",
    "you need to perform a task multiple times in a program.\n",
    "And you don’t want to copy the code for that same task all over places.\n",
    "In practice, you use functions to divide a large program into smaller and more manageable parts.\n",
    "The functions will make your program easier to develop, read, test, and maintain.\n",
    "\n",
    "Defining a function\n",
    "def greet():\n",
    "    \"\"\" Display a greeting to users \"\"\"\n",
    "    print('Hi')\n",
    "\n",
    "1) Function definition\n",
    "\n",
    "A function definition starts with the def keyword and the name of the function (greet)\n",
    "\n",
    "Defining a function\n",
    "def greet():\n",
    "    \"\"\" Display a greeting to users \"\"\"\n",
    "    print('Hi')\n",
    "\n",
    "    \n",
    "2) Function body\n",
    "All the indented lines that follow the function definition make up the function’s body\n",
    "   \"\"\" Display a greeting to users \"\"\"\n",
    "    print('Hi')\n",
    "\n",
    "Calling a function\n",
    "\n",
    "greet()"
   ]
  },
  {
   "cell_type": "code",
   "execution_count": null,
   "id": "fe2c30fd",
   "metadata": {},
   "outputs": [],
   "source": [
    "def greet():\n",
    "    \"\"\" Display a greeting to users \"\"\" #-->doctsring\n",
    "    print('Hi')"
   ]
  },
  {
   "cell_type": "code",
   "execution_count": null,
   "id": "e3569bd2",
   "metadata": {},
   "outputs": [],
   "source": [
    "Parameters, arguments, keyword arguments, default paremets,docs strings."
   ]
  },
  {
   "cell_type": "code",
   "execution_count": null,
   "id": "83b42203",
   "metadata": {},
   "outputs": [],
   "source": [
    "def message():\n",
    "    print('hello there')"
   ]
  },
  {
   "cell_type": "code",
   "execution_count": null,
   "id": "3e93963d",
   "metadata": {},
   "outputs": [],
   "source": [
    "message()"
   ]
  },
  {
   "cell_type": "code",
   "execution_count": null,
   "id": "96838e2c",
   "metadata": {},
   "outputs": [],
   "source": []
  },
  {
   "cell_type": "code",
   "execution_count": null,
   "id": "0b4f14c3",
   "metadata": {},
   "outputs": [],
   "source": []
  },
  {
   "cell_type": "code",
   "execution_count": null,
   "id": "1d27cf28",
   "metadata": {},
   "outputs": [],
   "source": []
  },
  {
   "cell_type": "code",
   "execution_count": null,
   "id": "818a108c",
   "metadata": {},
   "outputs": [],
   "source": [
    "def greeting():\n",
    "    print(\"Hello good evening\")"
   ]
  },
  {
   "cell_type": "code",
   "execution_count": null,
   "id": "da529441",
   "metadata": {},
   "outputs": [],
   "source": [
    "greeting()"
   ]
  },
  {
   "cell_type": "code",
   "execution_count": null,
   "id": "82195af7",
   "metadata": {},
   "outputs": [],
   "source": [
    "#Passing information to Python functions\n",
    "\n",
    "def greeting(name): # name is parameter.\n",
    "    print(f\"Hello good evening {name}\")"
   ]
  },
  {
   "cell_type": "code",
   "execution_count": null,
   "id": "d3c656ed",
   "metadata": {},
   "outputs": [],
   "source": [
    "greeting(name = 'sam')"
   ]
  },
  {
   "cell_type": "code",
   "execution_count": null,
   "id": "49b41586",
   "metadata": {},
   "outputs": [],
   "source": [
    "mess = greeting('sam')\n",
    "print(mess)"
   ]
  },
  {
   "cell_type": "code",
   "execution_count": null,
   "id": "a9ddff73",
   "metadata": {},
   "outputs": [],
   "source": [
    "Parameters vs. Arguments\n",
    "\n",
    "A parameter is a piece of information that a function needs. And you specify the parameter in the function definition\n",
    "\n",
    "greet() function has a parameter called name\n",
    "\n",
    "An argument is a piece of data that you pass into the function.\n",
    "\n",
    "the text string 'sam' or the variable jane is the function argument"
   ]
  },
  {
   "cell_type": "code",
   "execution_count": null,
   "id": "1f926487",
   "metadata": {},
   "outputs": [],
   "source": [
    "#Returning a value\n",
    "To return a value from a function, you use the return statement inside the function body.\n"
   ]
  },
  {
   "cell_type": "code",
   "execution_count": null,
   "id": "2cf28e8f",
   "metadata": {},
   "outputs": [],
   "source": [
    "def greeting(name):\n",
    "    return f\"Hi {name}\""
   ]
  },
  {
   "cell_type": "code",
   "execution_count": null,
   "id": "2e24b312",
   "metadata": {},
   "outputs": [],
   "source": [
    "def add(a,b):\n",
    "    return a+b"
   ]
  },
  {
   "cell_type": "code",
   "execution_count": null,
   "id": "a641b224",
   "metadata": {},
   "outputs": [],
   "source": [
    "add(b = 10,a = 15)"
   ]
  },
  {
   "cell_type": "code",
   "execution_count": null,
   "id": "e16dec49",
   "metadata": {},
   "outputs": [],
   "source": [
    "Print() --> function, return is keyword."
   ]
  },
  {
   "cell_type": "code",
   "execution_count": null,
   "id": "437b7cbb",
   "metadata": {},
   "outputs": [],
   "source": [
    "greeting(name = 'lilly')"
   ]
  },
  {
   "cell_type": "code",
   "execution_count": null,
   "id": "3b2362d7",
   "metadata": {},
   "outputs": [],
   "source": [
    " functions with multiple parameters\n",
    "\n",
    "def sum(a, b):\n",
    "    return a + b"
   ]
  },
  {
   "cell_type": "code",
   "execution_count": null,
   "id": "37218e05",
   "metadata": {},
   "outputs": [],
   "source": [
    "defualt parameters -- > \n",
    "print()"
   ]
  },
  {
   "cell_type": "code",
   "execution_count": null,
   "id": "3fa7828c",
   "metadata": {},
   "outputs": [],
   "source": [
    "def sum(a, b, c = 2):\n",
    "    return a + b + c"
   ]
  },
  {
   "cell_type": "code",
   "execution_count": null,
   "id": "e5e1ca01",
   "metadata": {},
   "outputs": [],
   "source": [
    "sum(2,4,6)"
   ]
  },
  {
   "cell_type": "markdown",
   "id": "3b1cfcd5",
   "metadata": {},
   "source": [
    "Python default parameters"
   ]
  },
  {
   "cell_type": "code",
   "execution_count": null,
   "id": "1689cc38",
   "metadata": {},
   "outputs": [],
   "source": [
    "def function_name(param1, param2=value2, param3=value3, ...):"
   ]
  },
  {
   "cell_type": "code",
   "execution_count": null,
   "id": "658943b8",
   "metadata": {},
   "outputs": [],
   "source": [
    "def greet(name, message='Hi'):\n",
    "    return f\"{message} {name}\""
   ]
  },
  {
   "cell_type": "code",
   "execution_count": null,
   "id": "02caedcc",
   "metadata": {},
   "outputs": [],
   "source": [
    "greet('sam')"
   ]
  },
  {
   "cell_type": "markdown",
   "id": "6aa3014c",
   "metadata": {},
   "source": [
    "Python keyword arguments\n",
    "\n",
    "fn(parameter1=value1,parameter2=value2)"
   ]
  },
  {
   "cell_type": "code",
   "execution_count": null,
   "id": "7d17f18c",
   "metadata": {},
   "outputs": [],
   "source": [
    "def get_net_price(a,b, price, discount):\n",
    "    return a+ price * (1-discount)\n",
    "*args\n",
    "**kwargs"
   ]
  },
  {
   "cell_type": "code",
   "execution_count": null,
   "id": "e9c53030",
   "metadata": {},
   "outputs": [],
   "source": [
    "net_price = get_net_price(a = 10, b = 8, price=100, discount=0.1)\n",
    "net_price"
   ]
  },
  {
   "cell_type": "code",
   "execution_count": null,
   "id": "acd4be27",
   "metadata": {},
   "outputs": [],
   "source": [
    "get_net_price(b = 10, price=100, discount=0.1)"
   ]
  },
  {
   "cell_type": "code",
   "execution_count": null,
   "id": "2ab3592b",
   "metadata": {},
   "outputs": [],
   "source": [
    "get_net_price(price = 100,discount=0.01)"
   ]
  },
  {
   "cell_type": "code",
   "execution_count": null,
   "id": "ad923b4d",
   "metadata": {},
   "outputs": [],
   "source": [
    "# keyword arguments and defualt parameters\n",
    "def get_net_price(price, tax=0.07, discount=0.05):\n",
    "    return price * (1 + tax - discount)"
   ]
  },
  {
   "cell_type": "code",
   "execution_count": null,
   "id": "6ea9a939",
   "metadata": {},
   "outputs": [],
   "source": [
    "# create a function wich gives the values for 1-10 eg: num(10) --> \n",
    "# create a function for BMI calculation.\n",
    "# create a function to calculate revenue. hint: take the list of numbers.\n",
    "# create a function to calculate mean, median, mode.\n",
    "# create a fucntion for calculator."
   ]
  },
  {
   "cell_type": "code",
   "execution_count": null,
   "id": "d4e2e560",
   "metadata": {},
   "outputs": [],
   "source": [
    "Quantity = [4,5,6,7,8]\n",
    "price = [40,50,50]\n",
    "Discount = []"
   ]
  },
  {
   "cell_type": "code",
   "execution_count": null,
   "id": "1c2685c1",
   "metadata": {},
   "outputs": [],
   "source": [
    "def pr(n):\n",
    "    for i in range(1,n+1):\n",
    "        return pr(n)\n",
    "pr(20)"
   ]
  },
  {
   "cell_type": "code",
   "execution_count": null,
   "id": "ac7b7768",
   "metadata": {},
   "outputs": [],
   "source": [
    "quantity=[10,25,96,45,55]\n",
    "price=[100,250,850,550,556]\n",
    "discount=0.1\n",
    "def net_revenue(quantity,price):\n",
    "    netrevenue=0\n",
    "    for i in range(0,len(quantity)):\n",
    "          netrevenue= netrevenue + quantity[i] * price[i]\n",
    "    return netrevenue-discount\n",
    "net_revenue(quantity,price)"
   ]
  },
  {
   "cell_type": "code",
   "execution_count": null,
   "id": "d7bc5855",
   "metadata": {},
   "outputs": [],
   "source": [
    "--> positional argument, keyword argument,defualt parameters"
   ]
  },
  {
   "cell_type": "markdown",
   "id": "95c9cb9e",
   "metadata": {},
   "source": [
    "# Python Recursive Functions"
   ]
  },
  {
   "cell_type": "code",
   "execution_count": null,
   "id": "0ee3ce10",
   "metadata": {},
   "outputs": [],
   "source": [
    "A recursive function is a function that calls itself until it doesn’t.\n",
    "def fn():\n",
    "    # ...\n",
    "    if condition:\n",
    "        # stop calling itself\n",
    "    else:\n",
    "        fn()\n",
    "    # ...\n"
   ]
  },
  {
   "cell_type": "code",
   "execution_count": null,
   "id": "0b939dfd",
   "metadata": {},
   "outputs": [],
   "source": [
    "# using a condition\n",
    "def count_down(start):\n",
    "    \"\"\" Count down from a number  \"\"\"\n",
    "    print(start)\n",
    "\n",
    "    # call the count_down if the next\n",
    "    # number is greater than 0\n",
    "    next = start - 1\n",
    "    if next > 0:\n",
    "        count_down(next)\n",
    "\n",
    "\n",
    "count_down(5)"
   ]
  },
  {
   "cell_type": "code",
   "execution_count": null,
   "id": "7363e122",
   "metadata": {},
   "outputs": [],
   "source": []
  },
  {
   "cell_type": "code",
   "execution_count": null,
   "id": "09c2b6cc",
   "metadata": {},
   "outputs": [],
   "source": [
    "# using loop\n",
    "def sum(n):\n",
    "    total = 0\n",
    "    for index in range(n+1):\n",
    "        total += index\n",
    "\n",
    "    return total\n",
    "\n",
    "\n",
    "result = sum(50)\n",
    "print(result)"
   ]
  },
  {
   "cell_type": "code",
   "execution_count": null,
   "id": "3196decd",
   "metadata": {},
   "outputs": [],
   "source": [
    "def sum(n):\n",
    "    return n + sum(n-1) if n > 0 else 0\n",
    "result = sum(1000)\n",
    "print(result)\n"
   ]
  },
  {
   "cell_type": "code",
   "execution_count": null,
   "id": "114be057",
   "metadata": {},
   "outputs": [],
   "source": [
    "dir()"
   ]
  },
  {
   "cell_type": "markdown",
   "id": "e97323ab",
   "metadata": {},
   "source": [
    "# Lambda Expressions"
   ]
  },
  {
   "cell_type": "code",
   "execution_count": null,
   "id": "c903b650",
   "metadata": {},
   "outputs": [],
   "source": [
    "Python lambda expressions allow you to define anonymous functions.\n",
    "\n",
    "lambda parameters: expression\n",
    "\n",
    "similar\n",
    "def anonymous(parameters):\n",
    "    return expression"
   ]
  },
  {
   "cell_type": "code",
   "execution_count": null,
   "id": "baf3f1c4",
   "metadata": {},
   "outputs": [],
   "source": [
    "x = lambda k,j: k ** 2 + j"
   ]
  },
  {
   "cell_type": "code",
   "execution_count": null,
   "id": "b6616ce6",
   "metadata": {},
   "outputs": [],
   "source": [
    "x(4,6)"
   ]
  },
  {
   "cell_type": "code",
   "execution_count": null,
   "id": "b0e78214",
   "metadata": {},
   "outputs": [],
   "source": [
    "def times(n):\n",
    "    return lambda x: x * n #5* 2\n",
    "\n",
    "t = times(5)\n",
    "t(4)"
   ]
  },
  {
   "cell_type": "code",
   "execution_count": null,
   "id": "4cb114d9",
   "metadata": {},
   "outputs": [],
   "source": [
    "n = 4\n",
    "t = lambda x: x * n"
   ]
  },
  {
   "cell_type": "code",
   "execution_count": null,
   "id": "9872ea45",
   "metadata": {},
   "outputs": [],
   "source": [
    "t(5)"
   ]
  },
  {
   "cell_type": "code",
   "execution_count": null,
   "id": "bf1c5d2f",
   "metadata": {},
   "outputs": [],
   "source": [
    "s = lambda x: x*2\n",
    "print(s(5))"
   ]
  },
  {
   "cell_type": "code",
   "execution_count": null,
   "id": "c431fe3c",
   "metadata": {},
   "outputs": [],
   "source": [
    "prod = lambda a, b : a * b\n",
    "print(prod(5, 7))"
   ]
  },
  {
   "cell_type": "code",
   "execution_count": null,
   "id": "7cd650ea",
   "metadata": {},
   "outputs": [],
   "source": [
    "y = lambda a, b, c : a + b + c\n",
    "print(y(5, 6, 2))"
   ]
  },
  {
   "cell_type": "code",
   "execution_count": null,
   "id": "f01e299f",
   "metadata": {},
   "outputs": [],
   "source": [
    "#the help() function\n",
    "\n",
    "help(print)"
   ]
  },
  {
   "cell_type": "code",
   "execution_count": null,
   "id": "08e6ff30",
   "metadata": {},
   "outputs": [],
   "source": [
    "help(print)"
   ]
  },
  {
   "cell_type": "code",
   "execution_count": null,
   "id": "30526a06",
   "metadata": {},
   "outputs": [],
   "source": [
    "# Using docstrings to document functions\n",
    "# The PEP 257 provides the docstring conventions.\n",
    "# Python stores the docstrings in the __doc__ property of the function.\n",
    "\n",
    "def add(a, b):\n",
    "    \"Return the sum of two arguments\"\n",
    "    return a + b\n",
    "help(add)"
   ]
  },
  {
   "cell_type": "code",
   "execution_count": null,
   "id": "4ea12074",
   "metadata": {},
   "outputs": [],
   "source": [
    "def add(a, b):\n",
    "    \"\"\" Add two arguments\n",
    "    Arguments:\n",
    "        a: an integer\n",
    "        b: an integer\n",
    "    Returns:\n",
    "        The sum of the two arguments\n",
    "    \"\"\"\n",
    "    return a + b\n",
    "add.__doc__"
   ]
  },
  {
   "cell_type": "code",
   "execution_count": null,
   "id": "5e0a6e78",
   "metadata": {},
   "outputs": [],
   "source": [
    "help(add)"
   ]
  },
  {
   "cell_type": "code",
   "execution_count": null,
   "id": "f70c6e74",
   "metadata": {},
   "outputs": [],
   "source": [
    "# Python *args\n",
    "#The following unpacks a tuple into two variables:\n",
    "    \n",
    "10,20 = (x,y)"
   ]
  },
  {
   "cell_type": "code",
   "execution_count": null,
   "id": "9d61858f",
   "metadata": {},
   "outputs": [],
   "source": [
    "i,j,*k = (10,20,30,30)\n",
    "print(k)"
   ]
  },
  {
   "cell_type": "code",
   "execution_count": null,
   "id": "3909c8f2",
   "metadata": {},
   "outputs": [],
   "source": [
    "def add(x, y):\n",
    "    return x + y\n",
    "\n",
    "\n",
    "add(10, 20)"
   ]
  },
  {
   "cell_type": "code",
   "execution_count": null,
   "id": "d362b507",
   "metadata": {},
   "outputs": [],
   "source": [
    "x, y, *z = 10, 20, 30, 40\n",
    "\n",
    "print(x)\n",
    "print(y)\n",
    "print(z)\n",
    "print(type(z))"
   ]
  },
  {
   "cell_type": "code",
   "execution_count": null,
   "id": "b5c97e0f",
   "metadata": {},
   "outputs": [],
   "source": [
    "\n",
    "def add(x, y, *values,**keypairs):\n",
    "    total = x + y\n",
    "    for arg in args:\n",
    "        total += arg\n",
    "\n",
    "    return total\n",
    "\n",
    "\n",
    "result = add(10, 20, 30, 40,50,10,20)\n",
    "print(result)"
   ]
  },
  {
   "cell_type": "code",
   "execution_count": null,
   "id": "4d9e318a",
   "metadata": {},
   "outputs": [],
   "source": [
    "def add(*args):\n",
    "    print(args)\n",
    "\n",
    "\n",
    "add()"
   ]
  },
  {
   "cell_type": "code",
   "execution_count": null,
   "id": "cf0a3d77",
   "metadata": {},
   "outputs": [],
   "source": [
    "def add(*args):\n",
    "    print(args)\n",
    "\n",
    "\n",
    "add(1,2,3)"
   ]
  },
  {
   "cell_type": "code",
   "execution_count": null,
   "id": "ac263829",
   "metadata": {},
   "outputs": [],
   "source": [
    "def add(*args):\n",
    "    print(args[0])\n",
    "    print(args[1])\n",
    "    print(args[2])\n",
    "\n",
    "\n",
    "add(1, 2, 3)"
   ]
  },
  {
   "cell_type": "code",
   "execution_count": null,
   "id": "a232c7c1",
   "metadata": {},
   "outputs": [],
   "source": [
    "def add(*args):\n",
    "    total = 0\n",
    "    for arg in args:\n",
    "        total += arg\n",
    "    return total\n",
    "\n",
    "\n",
    "total = add(1, 2, 3,5,6,7)\n",
    "print(total)"
   ]
  },
  {
   "cell_type": "code",
   "execution_count": null,
   "id": "42a28820",
   "metadata": {},
   "outputs": [],
   "source": [
    "Python *args argument exhausts positional arguments"
   ]
  },
  {
   "cell_type": "code",
   "execution_count": null,
   "id": "1405ac64",
   "metadata": {},
   "outputs": [],
   "source": [
    "def add(x, y,  z,*args):\n",
    "    return x + y + z \n",
    "\n",
    "\n",
    "add(10, 20, 10, 30, 40, 50)\n"
   ]
  },
  {
   "cell_type": "code",
   "execution_count": null,
   "id": "4ccafc27",
   "metadata": {},
   "outputs": [],
   "source": [
    "def add(x, y,z,*args):\n",
    "    return x + y + z \n",
    "\n",
    "\n",
    "add(10,10,20,30,40)"
   ]
  },
  {
   "cell_type": "code",
   "execution_count": null,
   "id": "dc734d2f",
   "metadata": {},
   "outputs": [],
   "source": [
    "# Python **kwargs parameters\n",
    "The **kwargs is called a keyword parameter."
   ]
  },
  {
   "cell_type": "code",
   "execution_count": null,
   "id": "19874af2",
   "metadata": {},
   "outputs": [],
   "source": [
    "def connect(**kwargs):\n",
    "    print(type(kwargs))\n",
    "    print(kwargs)"
   ]
  },
  {
   "cell_type": "code",
   "execution_count": null,
   "id": "3db00364",
   "metadata": {},
   "outputs": [],
   "source": [
    "type(connect())\n",
    "connect(one = 10, password = 'Sam$12')"
   ]
  },
  {
   "cell_type": "code",
   "execution_count": null,
   "id": "c657c071",
   "metadata": {},
   "outputs": [],
   "source": [
    "connect(server='localhost', port=3306, user='root', password='Akaksh@123')"
   ]
  },
  {
   "cell_type": "markdown",
   "id": "92e77c1a",
   "metadata": {},
   "source": [
    "# FILE input/output in python"
   ]
  },
  {
   "cell_type": "code",
   "execution_count": null,
   "id": "74b74559",
   "metadata": {},
   "outputs": [],
   "source": [
    "Python Read Text File\n",
    "1) open() function\n",
    "\n",
    "open(path_to_file, mode)"
   ]
  },
  {
   "cell_type": "code",
   "execution_count": null,
   "id": "de4bc395",
   "metadata": {},
   "outputs": [],
   "source": [
    " f = open('','r')"
   ]
  },
  {
   "cell_type": "code",
   "execution_count": null,
   "id": "f7029f2d",
   "metadata": {},
   "outputs": [],
   "source": [
    "2) Reading text methods\n",
    "The file object provides you with three methods for reading text from a text file:\n",
    "\n",
    "read(size) – read some contents of a file based on the optional size and return the contents as a string. \n",
    "If you omit the size, the read() method reads from where it left off till the end of the file. \n",
    "If the end of a file has been reached, the read() method returns an empty string.\n",
    "\n",
    "readline() – read a single line from a text file and return the line as a string. \n",
    "If the end of a file has been reached, the readline() returns an empty string.\n",
    "\n",
    "readlines() – read all the lines of the text file into a list of strings.\n",
    "This method is useful if you have a small file and you want to manipulate the whole text of that file"
   ]
  },
  {
   "cell_type": "code",
   "execution_count": null,
   "id": "90854650",
   "metadata": {},
   "outputs": [],
   "source": [
    "3) close() method\n",
    "\n",
    "f.close()"
   ]
  },
  {
   "cell_type": "code",
   "execution_count": null,
   "id": "95e8befa",
   "metadata": {},
   "outputs": [],
   "source": [
    "f = open(r\"C:\\Users\\excel\\OneDrive\\Desktop\\python_intro.txt\",mode = 'r')\n"
   ]
  },
  {
   "cell_type": "code",
   "execution_count": null,
   "id": "4733ae42",
   "metadata": {},
   "outputs": [],
   "source": [
    "f.readlines()"
   ]
  },
  {
   "cell_type": "code",
   "execution_count": null,
   "id": "18a04adf",
   "metadata": {},
   "outputs": [],
   "source": [
    "f = open(r\"C:\\Users\\excel\\OneDrive\\Desktop\\intro_python.txt\",mode = 'r')\n",
    "f.readline()\n",
    "f.close()"
   ]
  },
  {
   "cell_type": "code",
   "execution_count": null,
   "id": "896dcbca",
   "metadata": {},
   "outputs": [],
   "source": [
    "with open(r\"C:\\Users\\excel\\OneDrive\\Desktop\\intro_python.txt\") as f:\n",
    "    contents = f.readlines()\n",
    "print(contents)"
   ]
  },
  {
   "cell_type": "code",
   "execution_count": null,
   "id": "20973f88",
   "metadata": {},
   "outputs": [],
   "source": [
    "f.read()"
   ]
  },
  {
   "cell_type": "code",
   "execution_count": null,
   "id": "a0e72071",
   "metadata": {},
   "outputs": [],
   "source": []
  },
  {
   "cell_type": "code",
   "execution_count": null,
   "id": "5ce1929a",
   "metadata": {},
   "outputs": [],
   "source": [
    "To close the file automatically without calling the close() method, you use the with statement like this:\n",
    "    \n",
    "    with open(path_to_file) as f:\n",
    "    contents = f.readlines()"
   ]
  },
  {
   "cell_type": "code",
   "execution_count": null,
   "id": "6ad67a11",
   "metadata": {},
   "outputs": [],
   "source": [
    "Reading a text file examples\n",
    "\n",
    "with open('the-zen-of-python.txt') as f:\n",
    "    contents = f.read()\n",
    "    print(contents)"
   ]
  },
  {
   "cell_type": "code",
   "execution_count": null,
   "id": "f737dee8",
   "metadata": {},
   "outputs": [],
   "source": [
    "with open(\"C:/Users/excel/OneDrive/Desktop/intro_python.txt\") as f:\n",
    "    for line in f.readlines():\n",
    "        line = line.split(' ')\n",
    "        print(line[0])\n",
    "#     [print(line. for line in f.readlines()]"
   ]
  },
  {
   "cell_type": "code",
   "execution_count": null,
   "id": "5e8a9127",
   "metadata": {},
   "outputs": [],
   "source": [
    "with open(r\"C:\\Users\\excel\\OneDrive\\Desktop\\intro_python.txt\") as f:\n",
    "    while True:\n",
    "        line = f.readline()\n",
    "        if not line:\n",
    "            break\n",
    "        print(line.strip())"
   ]
  },
  {
   "cell_type": "code",
   "execution_count": null,
   "id": "dcd97b74",
   "metadata": {},
   "outputs": [],
   "source": [
    "with open('the-zen-of-python.txt') as f:\n",
    "    for line in f:\n",
    "        print(line.strip())"
   ]
  },
  {
   "cell_type": "code",
   "execution_count": null,
   "id": "feb83e1a",
   "metadata": {},
   "outputs": [],
   "source": [
    "with open(r\"C:\\Users\\excel\\OneDrive\\Desktop\\intro_python.txt\", encoding='utf8') as f:\n",
    "    for line in f:\n",
    "        print(line.strip())"
   ]
  },
  {
   "cell_type": "code",
   "execution_count": null,
   "id": "f47e6d8a",
   "metadata": {},
   "outputs": [],
   "source": []
  },
  {
   "cell_type": "code",
   "execution_count": null,
   "id": "e9af5d18",
   "metadata": {},
   "outputs": [],
   "source": []
  },
  {
   "cell_type": "markdown",
   "id": "f9102024",
   "metadata": {},
   "source": [
    "# Python Write Text File"
   ]
  },
  {
   "cell_type": "code",
   "execution_count": null,
   "id": "5c7719eb",
   "metadata": {},
   "outputs": [],
   "source": [
    "\n",
    "\n",
    "f = open(file, mode)\n",
    "\n",
    "f.write('\\n')\n",
    "f.writelines('\\n')"
   ]
  },
  {
   "cell_type": "code",
   "execution_count": null,
   "id": "ddad4acd",
   "metadata": {},
   "outputs": [],
   "source": [
    "import os\n",
    "os.getcwd()"
   ]
  },
  {
   "cell_type": "code",
   "execution_count": null,
   "id": "5921a962",
   "metadata": {},
   "outputs": [],
   "source": [
    "lines = ['Readme', 'How to write text files in Python']\n",
    "with open('readme.txt', 'w') as f:\n",
    "    for line in lines:\n",
    "        f.write(line)\n",
    "        f.write('\\n')"
   ]
  },
  {
   "cell_type": "code",
   "execution_count": null,
   "id": "b8e0f8b2",
   "metadata": {},
   "outputs": [],
   "source": [
    "import os\n",
    "os.listdir()"
   ]
  },
  {
   "cell_type": "code",
   "execution_count": null,
   "id": "0a422fde",
   "metadata": {},
   "outputs": [],
   "source": [
    "lines = ['Readme', 'How to write text files in Python']\n",
    "with open('readme1.txt', 'w') as f:\n",
    "    f.writelines(lines)"
   ]
  },
  {
   "cell_type": "code",
   "execution_count": null,
   "id": "5330d21f",
   "metadata": {},
   "outputs": [],
   "source": [
    "# task:  write output of grades in a file using previouse code."
   ]
  },
  {
   "cell_type": "code",
   "execution_count": null,
   "id": "8ed91871",
   "metadata": {},
   "outputs": [],
   "source": [
    "import statistics\n",
    "student_marks = [{'name':'sam',\n",
    "    'age':25,\n",
    "    'subjects':['Maths','science','CS','Statistics','Phyisics','Bio'],\n",
    "    'Marks':[60,70,80,90,70,60]},\n",
    "                 {'name':'fam',\n",
    "    'age':25,\n",
    "    'subjects':['Maths','science','CS','Statistics','Phyisics','Bio'],\n",
    "    'Marks':[60,70,80,80,70,60]}\n",
    "                ]\n",
    "with open('average_marks.txt',mode ='w') as f:\n",
    "    averages = []\n",
    "    for marks in student_marks:\n",
    "        average = statistics.mean(marks['Marks'])\n",
    "        averages.append(average)\n",
    "        \n",
    "    f.write(str(averages))"
   ]
  },
  {
   "cell_type": "code",
   "execution_count": null,
   "id": "f9a98ad3",
   "metadata": {},
   "outputs": [],
   "source": [
    "f = open('average_marks.txt','r')\n",
    "f.readlines()"
   ]
  },
  {
   "cell_type": "code",
   "execution_count": null,
   "id": "2fb9aae8",
   "metadata": {},
   "outputs": [],
   "source": [
    "os.listdir()"
   ]
  },
  {
   "cell_type": "code",
   "execution_count": null,
   "id": "65a39b94",
   "metadata": {},
   "outputs": [],
   "source": [
    "lines = ['Readme', 'How to write text files in Python programming']\n",
    "with open('readme.txt', 'w') as f:\n",
    "    f.write('\\n'.join(lines))"
   ]
  },
  {
   "cell_type": "code",
   "execution_count": null,
   "id": "59b04434",
   "metadata": {},
   "outputs": [],
   "source": [
    "f = open('readme.txt','r')\n",
    "f.readlines()"
   ]
  },
  {
   "cell_type": "code",
   "execution_count": null,
   "id": "4b1b99e8",
   "metadata": {},
   "outputs": [],
   "source": [
    "more_lines = ['', 'Append text files', 'The End']\n",
    "\n",
    "with open('readme.txt', 'a') as f:\n",
    "    f.write('\\n'.join(more_lines))"
   ]
  },
  {
   "cell_type": "code",
   "execution_count": null,
   "id": "a18dcd92",
   "metadata": {},
   "outputs": [],
   "source": [
    "'r'       open for reading (default)\n",
    "'w'       open for writing, truncating the file first\n",
    "'x'       create a new file and open it for writing\n",
    "'a'       open for writing, appending to the end of the file if it exists\n",
    "'b'       binary mode\n",
    "'t'       text mode (default)\n",
    "'+'       open a disk file for updating (reading and writing)"
   ]
  },
  {
   "cell_type": "code",
   "execution_count": null,
   "id": "4ac2b9be",
   "metadata": {},
   "outputs": [],
   "source": [
    "Create Text File\n",
    "\n",
    "with open('readme.txt', 'w') as f:\n",
    "    f.write('Create a new text file!')"
   ]
  },
  {
   "cell_type": "markdown",
   "id": "a06ec262",
   "metadata": {},
   "source": [
    "# Check If File Exists"
   ]
  },
  {
   "cell_type": "code",
   "execution_count": null,
   "id": "43ba3470",
   "metadata": {},
   "outputs": [],
   "source": [
    "os.path.exists() function\n",
    "\n",
    "from os.path import exists\n",
    "\n",
    "file_exists = exists(path_to_file)"
   ]
  },
  {
   "cell_type": "code",
   "execution_count": null,
   "id": "b0472d64",
   "metadata": {},
   "outputs": [],
   "source": [
    "from os.path import exists as file_exists\n",
    "\n",
    "file_exists('readme2.txt')"
   ]
  },
  {
   "cell_type": "code",
   "execution_count": null,
   "id": "e56f1be2",
   "metadata": {},
   "outputs": [],
   "source": [
    "os.listdir()"
   ]
  },
  {
   "cell_type": "code",
   "execution_count": null,
   "id": "e35b261b",
   "metadata": {},
   "outputs": [],
   "source": [
    "# Path.is_file() method\n",
    "\n",
    "from pathlib import Path\n",
    "\n",
    "path = Path('readme2.txt')\n",
    "\n",
    "path.is_file()"
   ]
  },
  {
   "cell_type": "code",
   "execution_count": null,
   "id": "e01b3f99",
   "metadata": {},
   "outputs": [],
   "source": [
    "from pathlib import Path\n",
    "\n",
    "path_to_file = 'readme2.txt'\n",
    "path = Path(path_to_file)\n",
    "\n",
    "if path.is_file():\n",
    "    print(f'The file {path_to_file} exists')\n",
    "else:\n",
    "    print(f'The file {path_to_file} does not exist')"
   ]
  },
  {
   "cell_type": "markdown",
   "id": "4a5f53c6",
   "metadata": {},
   "source": [
    "# Read CSV File"
   ]
  },
  {
   "cell_type": "code",
   "execution_count": null,
   "id": "0a368cce",
   "metadata": {},
   "outputs": [],
   "source": [
    "import csv\n",
    "# f = open('path/to/csv_file')\n",
    "f = open(r\"D:\\PowerBI\\Sample dataset\\apple_products.csv\", encoding='UTF8')\n",
    "csv_reader = csv.reader(f)\n",
    "sale_price = []\n",
    "for line in csv_reader:\n",
    "    sale_price.append(line[4])\n",
    "# print(sale_price)\n",
    "price = sale_price[1:]\n",
    "values = []\n",
    "for i in price:\n",
    "    price = int(i)\n",
    "    values.append(price)\n",
    "print(round(statistics.mean(values),2))\n",
    "\n",
    "    \n",
    "# print(price)\n",
    "\n",
    "f.close()   "
   ]
  },
  {
   "cell_type": "code",
   "execution_count": null,
   "id": "2e64f975",
   "metadata": {},
   "outputs": [],
   "source": [
    "import csv\n",
    "\n",
    "with open('\"D:\\PowerBI\\Sample dataset\\apple_products.csv\"', 'r') as f:\n",
    "    csv_reader = csv.reader(f)\n",
    "    for line in csv_reader:\n",
    "        # process each line\n",
    "        print(line)\n"
   ]
  },
  {
   "cell_type": "code",
   "execution_count": null,
   "id": "69dd8094",
   "metadata": {},
   "outputs": [],
   "source": [
    "import csv\n",
    "\n",
    "with open('country.csv', encoding=\"utf8\") as f:\n",
    "    csv_reader = csv.reader(f)\n",
    "    for line in csv_reader:\n",
    "        print(line)"
   ]
  },
  {
   "cell_type": "code",
   "execution_count": null,
   "id": "94607cf1",
   "metadata": {},
   "outputs": [],
   "source": [
    "import csv\n",
    "\n",
    "total_area = 0\n",
    "\n",
    "# calculate the total area of all countries\n",
    "\n",
    "with open('country.csv', encoding=\"utf8\") as f:\n",
    "    csv_reader = csv.reader(f)\n",
    "\n",
    "    # skip the header\n",
    "    next(csv_reader)\n",
    "\n",
    "    # calculate total\n",
    "    for line in csv_reader:\n",
    "        total_area += float(line[1])\n",
    "\n",
    "print(total_area)"
   ]
  },
  {
   "cell_type": "code",
   "execution_count": null,
   "id": "7c01e73d",
   "metadata": {},
   "outputs": [],
   "source": [
    "import csv\n",
    "\n",
    "with open('country.csv', encoding=\"utf8\") as f:\n",
    "    csv_reader = csv.DictReader(f)\n",
    "    # skip the header\n",
    "    next(csv_reader)\n",
    "    # show the data\n",
    "    for line in csv_reader:\n",
    "        print(f\"The area of {line['name']} is {line['area']} km2\")\n"
   ]
  },
  {
   "cell_type": "code",
   "execution_count": null,
   "id": "89d5e194",
   "metadata": {},
   "outputs": [],
   "source": [
    "import csv\n",
    "\n",
    "fieldnames = ['country_name', 'area', 'code2', 'code3']\n",
    "\n",
    "with open('country.csv', encoding=\"utf8\") as f:\n",
    "    csv_reader = csv.DictReader(f, fieldnames)\n",
    "    next(csv_reader)\n",
    "    for line in csv_reader:\n",
    "        print(f\"The area of {line['country_name']} is {line['area']} km2\")\n"
   ]
  },
  {
   "cell_type": "markdown",
   "id": "ac7dd5c1",
   "metadata": {},
   "source": [
    "# writing csv file"
   ]
  },
  {
   "cell_type": "code",
   "execution_count": null,
   "id": "041bb6a4",
   "metadata": {},
   "outputs": [],
   "source": [
    "import csv\n",
    "\n",
    "header = ['name', 'area', 'country_code2', 'country_code3']\n",
    "data = ['Afghanistan', 652090, 'AF', 'AFG']\n",
    "\n",
    "\n",
    "with open('countries.csv', 'w', encoding='UTF8', newline='') as f:\n",
    "    writer = csv.writer(f)\n",
    "\n",
    "    # write the header\n",
    "    writer.writerow(header)\n",
    "\n",
    "    # write the data\n",
    "    writer.writerow(data)"
   ]
  },
  {
   "cell_type": "code",
   "execution_count": null,
   "id": "94aaf25d",
   "metadata": {},
   "outputs": [],
   "source": [
    "os.listdir()"
   ]
  },
  {
   "cell_type": "code",
   "execution_count": null,
   "id": "2bee1d2e",
   "metadata": {},
   "outputs": [],
   "source": [
    "import csv\n",
    "\n",
    "header = ['name', 'area', 'country_code2', 'country_code3']\n",
    "data = [\n",
    "    ['Albania', 28748, 'AL', 'ALB'],\n",
    "    ['Algeria', 2381741, 'DZ', 'DZA'],\n",
    "    ['American Samoa', 199, 'AS', 'ASM'],\n",
    "    ['Andorra', 468, 'AD', 'AND'],\n",
    "    ['Angola', 1246700, 'AO', 'AGO']\n",
    "]\n",
    "\n",
    "with open('countries1.csv', 'w', encoding='UTF8', newline='') as f:\n",
    "    writer = csv.writer(f)\n",
    "\n",
    "    # write the header\n",
    "    writer.writerow(header)\n",
    "\n",
    "    # write multiple rows\n",
    "    writer.writerows(data)\n"
   ]
  },
  {
   "cell_type": "code",
   "execution_count": null,
   "id": "feb271fd",
   "metadata": {},
   "outputs": [],
   "source": [
    "os.listdir()"
   ]
  },
  {
   "cell_type": "code",
   "execution_count": null,
   "id": "d7720de1",
   "metadata": {},
   "outputs": [],
   "source": [
    "# using dictwriter\n",
    "\n",
    "import csv\n",
    "\n",
    "# csv header\n",
    "fieldnames = ['name', 'area', 'country_code2', 'country_code3']\n",
    "\n",
    "# csv data\n",
    "rows = [\n",
    "    {'name': 'Albania',\n",
    "    'area': 28748,\n",
    "    'country_code2': 'AL',\n",
    "    'country_code3': 'ALB'},\n",
    "    {'name': 'Algeria',\n",
    "    'area': 2381741,\n",
    "    'country_code2': 'DZ',\n",
    "    'country_code3': 'DZA'},\n",
    "    {'name': 'American Samoa',\n",
    "    'area': 199,\n",
    "    'country_code2': 'AS',\n",
    "    'country_code3': 'ASM'}\n",
    "]\n",
    "\n",
    "with open('countries4.csv', 'a', encoding='UTF8', newline='') as f:\n",
    "    writer = csv.DictWriter(f, fieldnames=fieldnames)\n",
    "    writer.writeheader()\n",
    "    writer.writerows(rows)\n"
   ]
  },
  {
   "cell_type": "code",
   "execution_count": null,
   "id": "d780a661",
   "metadata": {},
   "outputs": [],
   "source": [
    "import os\n",
    "os.listdir()"
   ]
  },
  {
   "cell_type": "code",
   "execution_count": null,
   "id": "7be20195",
   "metadata": {},
   "outputs": [],
   "source": [
    "f = open('countries4.csv','r')\n",
    "f.readlines()"
   ]
  },
  {
   "cell_type": "code",
   "execution_count": null,
   "id": "75162a03",
   "metadata": {},
   "outputs": [],
   "source": [
    "# Rename File\n",
    "\n",
    "import os\n",
    "\n",
    "os.rename('readme.txt', 'notes.txt')"
   ]
  },
  {
   "cell_type": "code",
   "execution_count": null,
   "id": "e1ebbdae",
   "metadata": {},
   "outputs": [],
   "source": [
    "# Deleting file\n",
    "import os\n",
    "\n",
    "os.remove('readme.txt')"
   ]
  },
  {
   "cell_type": "code",
   "execution_count": null,
   "id": "aa873c6d",
   "metadata": {},
   "outputs": [],
   "source": [
    "import os\n",
    "\n",
    "filename = 'readme.txt'\n",
    "if os.path.exists(filename):\n",
    "    os.remove(filename)"
   ]
  },
  {
   "cell_type": "code",
   "execution_count": null,
   "id": "1fab4823",
   "metadata": {},
   "outputs": [],
   "source": [
    "import os"
   ]
  },
  {
   "cell_type": "code",
   "execution_count": null,
   "id": "cf8af12a",
   "metadata": {},
   "outputs": [],
   "source": [
    "os.sys.exit"
   ]
  },
  {
   "cell_type": "code",
   "execution_count": null,
   "id": "4337d959",
   "metadata": {},
   "outputs": [],
   "source": [
    "import os\n",
    "os.cpu_count()"
   ]
  },
  {
   "cell_type": "code",
   "execution_count": null,
   "id": "927b5e93",
   "metadata": {},
   "outputs": [],
   "source": [
    "os.listdir()\n"
   ]
  },
  {
   "cell_type": "markdown",
   "id": "82cdd0bd",
   "metadata": {},
   "source": [
    "# Exception handling."
   ]
  },
  {
   "cell_type": "code",
   "execution_count": null,
   "id": "e9ec8fdb",
   "metadata": {},
   "outputs": [],
   "source": [
    "Try...except\n",
    "try...... except...... finally\n",
    "try......... except....... else"
   ]
  },
  {
   "cell_type": "code",
   "execution_count": null,
   "id": "e3d10917",
   "metadata": {},
   "outputs": [],
   "source": [
    "Two types of error\n",
    "1) Syntax error\n",
    "When you write an invalid Python code, you’ll get a syntax error.\n",
    "\n",
    "2) Exceptional error\n",
    "Even though when your code has valid syntax, it may cause an error during execution.\n",
    "\n",
    "eg: TypeError, NameError,valueError\n",
    "    \n",
    "Reading a file that doesn’t exist.\n",
    "Connecting to a remote server that is offline.\n",
    "Bad user inputs."
   ]
  },
  {
   "cell_type": "code",
   "execution_count": null,
   "id": "c6cc82f6",
   "metadata": {},
   "outputs": [],
   "source": [
    "a= 10\n",
    "b = 0\n",
    "try:\n",
    "    c= a/b\n",
    "    print(c)\n",
    "except:\n",
    "    print(\"give diffresnt value for b\")\n"
   ]
  },
  {
   "cell_type": "code",
   "execution_count": null,
   "id": "de16cae0",
   "metadata": {},
   "outputs": [],
   "source": [
    "try:\n",
    "     with open(filename,'r').. # First executes\n",
    "     ....\n",
    "except:\n",
    "     # handling exception"
   ]
  },
  {
   "cell_type": "code",
   "execution_count": null,
   "id": "5012f4a7",
   "metadata": {},
   "outputs": [],
   "source": [
    "f = open('countries.csv','r')\n",
    "f.write('sjhdjashdh')"
   ]
  },
  {
   "cell_type": "code",
   "execution_count": null,
   "id": "90bfa883",
   "metadata": {},
   "outputs": [],
   "source": [
    "try:\n",
    "    f = open('countries.csv','r')\n",
    "    f.read('Test write this')\n",
    "except IOError:\n",
    "    # This will only check for an IOError exception and then execute this print statement\n",
    "    print(\"Error: Could not find file or read data\")\n",
    "except TypeError:\n",
    "    # This will only check for an IOError exception and then execute this print statement\n",
    "    print(\"Error:\")\n",
    "else: # this else block will execute if try block does not raise an exception\n",
    "    print(\"Content written successfully\")\n",
    "    f.close()"
   ]
  },
  {
   "cell_type": "code",
   "execution_count": null,
   "id": "ef54df03",
   "metadata": {},
   "outputs": [],
   "source": []
  },
  {
   "cell_type": "code",
   "execution_count": null,
   "id": "ab3a3ab3",
   "metadata": {},
   "outputs": [],
   "source": [
    "os.listdir()"
   ]
  },
  {
   "cell_type": "code",
   "execution_count": null,
   "id": "c2769518",
   "metadata": {},
   "outputs": [],
   "source": [
    "f = open('demo_file','r')\n",
    "f.write('Test write this')\n",
    "print(\"fsfsfsfsf\")"
   ]
  },
  {
   "cell_type": "code",
   "execution_count": null,
   "id": "541e18fb",
   "metadata": {},
   "outputs": [],
   "source": [
    "try:\n",
    "    f = open('demo_file','r')\n",
    "    f.write('Test write this')\n",
    "except IOError:\n",
    "    # This will only check for an IOError exception and then execute this print statement\n",
    "   print(\"Error: Could not find file or read data\")\n",
    "else:\n",
    "   print(\"Content written successfully\")\n",
    "   f.close()"
   ]
  },
  {
   "cell_type": "code",
   "execution_count": null,
   "id": "92dd2dff",
   "metadata": {},
   "outputs": [],
   "source": [
    "try:\n",
    "    f = open('testfile','r')\n",
    "    f.write('Test write this')\n",
    "except Exception as e:\n",
    "    # This will check for any exception and then execute this print statement\n",
    "    print(e)\n",
    "else:\n",
    "    print(\"Content written successfully\")\n",
    "    f.close()"
   ]
  },
  {
   "cell_type": "markdown",
   "id": "32b2d9c7",
   "metadata": {},
   "source": [
    "finally\n",
    "The finally: Block of code will always be run regardless if there was an exception in the try code block. \n",
    "\n",
    "The syntax is:\n",
    "\n",
    "try:\n",
    "   Code block here\n",
    "   ...\n",
    "   Due to any exception, this code may be skipped!\n",
    "finally:\n",
    "   This code block would always be executed.\n",
    "For example:"
   ]
  },
  {
   "cell_type": "code",
   "execution_count": null,
   "id": "4020d202",
   "metadata": {},
   "outputs": [],
   "source": [
    "try:\n",
    "    f = open(\"testfile\", \"w\")\n",
    "    f.write(\"Test write statement\")\n",
    "finally:\n",
    "    print(\"Always execute finally code blocks\")"
   ]
  },
  {
   "cell_type": "code",
   "execution_count": null,
   "id": "49d0ce88",
   "metadata": {},
   "outputs": [],
   "source": [
    "def askint():\n",
    "        try:\n",
    "            val = int(input(\"Please enter an integer: \"))\n",
    "        except:\n",
    "            print(\"Looks like you did not enter an integer!\")\n",
    "            \n",
    "        finally:\n",
    "            print(\"Finally, I executed!\")\n",
    "        print(val)"
   ]
  },
  {
   "cell_type": "code",
   "execution_count": null,
   "id": "daf911ee",
   "metadata": {},
   "outputs": [],
   "source": [
    "\n",
    "# Program to handle multiple errors with one\n",
    "# except statement\n",
    "# Python 3\n",
    " \n",
    "def fun(a):\n",
    "    if a < 4:\n",
    " \n",
    "        # throws ZeroDivisionError for a = 3\n",
    "        b = a/(a-3)\n",
    " \n",
    "    # throws NameError if a >= 4\n",
    "    print(\"Value of b = \", b)\n",
    "     \n"
   ]
  },
  {
   "cell_type": "code",
   "execution_count": null,
   "id": "128b633f",
   "metadata": {},
   "outputs": [],
   "source": [
    "try:\n",
    "    fun(2)\n",
    "    fun(5)\n",
    " \n",
    "# note that braces () are necessary here for\n",
    "# multiple exceptions\n",
    "except (ZeroDivisionError,NameError):\n",
    "    print(f\"{0 or 1} Occurred and Handled\")\n"
   ]
  },
  {
   "cell_type": "markdown",
   "id": "450035c1",
   "metadata": {},
   "source": [
    "# # Task : create a function which gives the multiplication table and handle the exception."
   ]
  },
  {
   "cell_type": "code",
   "execution_count": null,
   "id": "54381940",
   "metadata": {},
   "outputs": [],
   "source": [
    "\n",
    "# Program to depict else clause with try-except\n",
    "# Python 3\n",
    "# Function which returns a/b\n",
    "def AbyB(a , b):\n",
    "    try:\n",
    "        c = ((a+b) / (a-b))\n",
    "    except ZeroDivisionError:\n",
    "        print (\"a/b result in 0\")\n",
    "    else:\n",
    "        print (c)\n",
    " \n",
    "# Driver program to test above function\n",
    "AbyB(2.0, 3.0)\n",
    "AbyB(3.0, 3.0)"
   ]
  },
  {
   "cell_type": "code",
   "execution_count": null,
   "id": "61182be5",
   "metadata": {},
   "outputs": [],
   "source": [
    "n = input(\"enter the value: \")\n",
    "def mul(n):\n",
    "    try:\n",
    "        for i in range(1,11):\n",
    "            print(i * int(n))\n",
    "    except ValueError:\n",
    "        print(\"enter the number only\")\n",
    "    "
   ]
  },
  {
   "cell_type": "code",
   "execution_count": null,
   "id": "3b2c206f",
   "metadata": {},
   "outputs": [],
   "source": [
    "mul(n)"
   ]
  },
  {
   "cell_type": "code",
   "execution_count": null,
   "id": "0f4cbc19",
   "metadata": {},
   "outputs": [],
   "source": [
    "\n",
    "# Python program to demonstrate finally\n",
    " \n",
    "# No exception Exception raised in try block\n",
    "try:\n",
    "    k = 5//0  # raises divide by zero exception.\n",
    "    print(k)\n",
    "# handles zerodivision exception\n",
    "except ZeroDivisionError:\n",
    "    print(\"Can't divide by zero\")\n",
    "finally:\n",
    "    # this block is always executed\n",
    "    # regardless of exception generation.\n",
    "    print('This is always executed')"
   ]
  },
  {
   "cell_type": "markdown",
   "id": "411ef595",
   "metadata": {},
   "source": [
    "# the following program calculates the sales growth:"
   ]
  },
  {
   "cell_type": "code",
   "execution_count": null,
   "id": "8eeb70e6",
   "metadata": {},
   "outputs": [],
   "source": [
    "# get input net sales\n",
    "print('Enter the net sales for')\n",
    "\n",
    "try:\n",
    "    previous = float(input('- Prior period:'))\n",
    "    current = float(input('- Current period:'))\n",
    "\n",
    "    # calculate the change in percentage\n",
    "    change = (current - previous) * 100 / previous\n",
    "\n",
    "    # show the result\n",
    "    if change > 0:\n",
    "        result = f'Sales increase {abs(change)}%'\n",
    "    else:\n",
    "        result = f'Sales decrease {abs(change)}%'\n",
    "except:\n",
    "    print('Enter the value only')\n"
   ]
  },
  {
   "cell_type": "code",
   "execution_count": null,
   "id": "a24e0cfd",
   "metadata": {},
   "outputs": [],
   "source": [
    "Handling exceptions\n",
    "To make the program more robust, you need to handle the exception once it occurs\n",
    "\n",
    "try:\n",
    "    # code that may cause error\n",
    "except:\n",
    "    # handle errors"
   ]
  },
  {
   "cell_type": "code",
   "execution_count": null,
   "id": "c6487650",
   "metadata": {},
   "outputs": [],
   "source": [
    "try:\n",
    "    # get input net sales\n",
    "    print('Enter the net sales for')\n",
    "\n",
    "    previous = float(input('- Prior period:'))\n",
    "    current = float(input('- Current period:'))\n",
    "\n",
    "    # calculate the change in percentage\n",
    "    change = (current - previous) * 100 / previous\n",
    "\n",
    "    # show the result\n",
    "    if change > 0:\n",
    "        result = f'Sales increase {abs(change)}%'\n",
    "    else:\n",
    "        result = f'Sales decrease {abs(change)}%'\n",
    "\n",
    "    print(result)\n",
    "except:\n",
    "    print('Error! Please enter a number for net sales.')\n"
   ]
  },
  {
   "cell_type": "code",
   "execution_count": null,
   "id": "30dc1e42",
   "metadata": {},
   "outputs": [],
   "source": [
    "x = -1\n",
    "\n",
    "if x < 0:\n",
    "    raise Exception(\"Sorry, no numbers below zero\")"
   ]
  },
  {
   "cell_type": "code",
   "execution_count": null,
   "id": "9aab9df3",
   "metadata": {},
   "outputs": [],
   "source": [
    "x = \"hello\"\n",
    "\n",
    "if not type(x) is int:\n",
    "    raise TypeError(\"Only integers are allowed\")"
   ]
  },
  {
   "cell_type": "code",
   "execution_count": null,
   "id": "78fe3390",
   "metadata": {},
   "outputs": [],
   "source": [
    "\n",
    "# Program to depict Raising Exception\n",
    " \n",
    "try:\n",
    "    raise NameError(\"Hi there\")  # Raise Error\n",
    "except NameError:\n",
    "    print (\"An exception\")\n",
    "    raise  # To determine whether the exception was raised or not"
   ]
  },
  {
   "cell_type": "code",
   "execution_count": null,
   "id": "f10f21f4",
   "metadata": {},
   "outputs": [],
   "source": [
    "#Catching specific exceptions\n",
    "try:\n",
    "    # get input net sales\n",
    "    print('Enter the net sales for')\n",
    "\n",
    "    previous = float(input('- Prior period:'))\n",
    "    current = float(input('- Current period:'))\n",
    "\n",
    "    # calculate the change in percentage\n",
    "    change = (current - previous) * 100 / previous\n",
    "\n",
    "    # show the result\n",
    "    if change > 0:\n",
    "        result = f'Sales increase {abs(change)}%'\n",
    "    else:\n",
    "        result = f'Sales decrease {abs(change)}%'\n",
    "\n",
    "    print(result)\n",
    "except ValueError:\n",
    "    print('Error! Please enter a number for net sales.')\n"
   ]
  },
  {
   "cell_type": "markdown",
   "id": "99d40e08",
   "metadata": {},
   "source": [
    "# Handling multiple exceptions"
   ]
  },
  {
   "cell_type": "code",
   "execution_count": null,
   "id": "3a8a4750",
   "metadata": {},
   "outputs": [],
   "source": [
    "#Catching specific exceptions\n",
    "try:\n",
    "    # get input net sales\n",
    "    print('Enter the net sales for')\n",
    "\n",
    "    previous = float(input('- Prior period:'))\n",
    "    current = float(input('- Current period:'))\n",
    "\n",
    "    # calculate the change in percentage\n",
    "    change = (current - previous) * 100 / previous\n",
    "\n",
    "    # show the result\n",
    "    if change > 0:\n",
    "        result = f'Sales increase {abs(change)}%'\n",
    "    else:\n",
    "        result = f'Sales decrease {abs(change)}%'\n",
    "\n",
    "    print(result)\n",
    "except ValueError:\n",
    "    print('Error! Please enter a number for net sales.')"
   ]
  },
  {
   "cell_type": "code",
   "execution_count": null,
   "id": "dee24dba",
   "metadata": {},
   "outputs": [],
   "source": [
    "try:\n",
    "    # code that may cause an exception\n",
    "except Exception1 as e1:\n",
    "    # handle exception\n",
    "except Exception2 as e2:\n",
    "    # handle exception\n",
    "except Exception3 as e3:\n",
    "    # handle exception "
   ]
  },
  {
   "cell_type": "code",
   "execution_count": null,
   "id": "f3ef8efa",
   "metadata": {},
   "outputs": [],
   "source": [
    "try:\n",
    "    # get input net sales\n",
    "    print('Enter the net sales for')\n",
    "\n",
    "    previous = float(input('- Prior period:'))\n",
    "    current = float(input('- Current period:'))\n",
    "\n",
    "    # calculate the change in percentage\n",
    "    change = (current - previous) * 100 / previous\n",
    "\n",
    "    # show the result\n",
    "    if change > 0:\n",
    "        result = f'Sales increase {abs(change)}%'\n",
    "    else:\n",
    "        result = f'Sales decrease {abs(change)}%'\n",
    "\n",
    "    print(result)\n",
    "except ValueError:\n",
    "    print('Error! Please enter a number for net sales.')\n",
    "except ZeroDivisionError:\n",
    "    print('Error! The prior net sales cannot be zero.')\n"
   ]
  },
  {
   "cell_type": "code",
   "execution_count": null,
   "id": "2f682564",
   "metadata": {},
   "outputs": [],
   "source": [
    "try:\n",
    "    # get input net sales\n",
    "    print('Enter the net sales for')\n",
    "\n",
    "    previous = float(input('- Prior period:'))\n",
    "    current = float(input('- Current period:'))\n",
    "\n",
    "    # calculate the change in percentage\n",
    "    change = (current - previous) * 100 / previous\n",
    "\n",
    "    # show the result\n",
    "    if change > 0:\n",
    "        result = f'Sales increase {abs(change)}%'\n",
    "    else:\n",
    "        result = f'Sales decrease {abs(change)}%'\n",
    "\n",
    "    print(result)\n",
    "except ValueError:\n",
    "    print('Error! Please enter a number for net sales.')\n",
    "except ZeroDivisionError:\n",
    "    print('Error! The prior net sales cannot be zero.')\n",
    "except Exception as error:\n",
    "    print(error)"
   ]
  },
  {
   "cell_type": "code",
   "execution_count": null,
   "id": "bf8aac4e",
   "metadata": {},
   "outputs": [],
   "source": [
    "a = input(\"Enter the value: \")\n",
    "for i in range(1,11):\n",
    "    print(f\"multiplication table of {a} = {int(a) * i}\")"
   ]
  },
  {
   "cell_type": "code",
   "execution_count": null,
   "id": "f80f813e",
   "metadata": {},
   "outputs": [],
   "source": [
    "a = input(\"Enter the value: \")\n",
    "try:\n",
    "    for i in range(1,11):\n",
    "        print(f\"multiplication table of {a} = {int(a) * i}\")\n",
    "except Exception as e:\n",
    "    print(e)\n",
    "\n",
    "print(\"execute this line\")\n",
    "print(\"execute this line also\")"
   ]
  },
  {
   "cell_type": "code",
   "execution_count": null,
   "id": "fd2acf50",
   "metadata": {},
   "outputs": [],
   "source": [
    "import pandas"
   ]
  },
  {
   "cell_type": "code",
   "execution_count": null,
   "id": "49f3e513",
   "metadata": {},
   "outputs": [],
   "source": [
    "!pip install keras"
   ]
  },
  {
   "cell_type": "code",
   "execution_count": null,
   "id": "5ae326d5",
   "metadata": {},
   "outputs": [],
   "source": []
  },
  {
   "cell_type": "code",
   "execution_count": null,
   "id": "d7026515",
   "metadata": {},
   "outputs": [],
   "source": []
  }
 ],
 "metadata": {
  "kernelspec": {
   "display_name": "Python 3 (ipykernel)",
   "language": "python",
   "name": "python3"
  },
  "language_info": {
   "codemirror_mode": {
    "name": "ipython",
    "version": 3
   },
   "file_extension": ".py",
   "mimetype": "text/x-python",
   "name": "python",
   "nbconvert_exporter": "python",
   "pygments_lexer": "ipython3",
   "version": "3.11.4"
  }
 },
 "nbformat": 4,
 "nbformat_minor": 5
}
